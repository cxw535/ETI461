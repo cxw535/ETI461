{
  "nbformat": 4,
  "nbformat_minor": 0,
  "metadata": {
    "colab": {
      "name": "project.ipynb",
      "provenance": []
    },
    "kernelspec": {
      "name": "python3",
      "display_name": "Python 3"
    },
    "language_info": {
      "name": "python"
    }
  },
  "cells": [
    {
      "cell_type": "code",
      "execution_count": 1,
      "metadata": {
        "id": "ON9BC-jnzAvq"
      },
      "outputs": [],
      "source": [
        "%%capture\n",
        "\n",
        "!pip install ipython-sql\n",
        "!pip install databases\n",
        "!pip install databases[sqlite]"
      ]
    },
    {
      "cell_type": "code",
      "source": [
        "import sqlalchemy\n",
        "%load_ext sql\n",
        "%sql sqlite:///projectdb.db"
      ],
      "metadata": {
        "colab": {
          "base_uri": "https://localhost:8080/",
          "height": 37
        },
        "id": "2OqiOHpgzRbd",
        "outputId": "7d844b14-6d08-4b43-d4a0-1ab26d85dbbf"
      },
      "execution_count": 2,
      "outputs": [
        {
          "output_type": "execute_result",
          "data": {
            "text/plain": [
              "'Connected: @projectdb.db'"
            ],
            "application/vnd.google.colaboratory.intrinsic+json": {
              "type": "string"
            }
          },
          "metadata": {},
          "execution_count": 2
        }
      ]
    },
    {
      "cell_type": "code",
      "source": [
        "%%sql\n",
        "\n",
        "DROP TABLE IF EXISTS [system];\n",
        "CREATE TABLE [system] (\n",
        "  [ID] INTEGER PRIMARY KEY,\n",
        "  [System] nvarchar(250) NOT NULL\n",
        ");\n",
        "\n",
        "DROP TABLE IF EXISTS [VisitorStatus];\n",
        "CREATE TABLE [VisitorStatus] (\n",
        "  [ID] INTEGER PRIMARY KEY,\n",
        "  [status] nvarchar(250) NOT NULL\n",
        ");\n",
        "\n",
        "DROP TABLE IF EXISTS [item];\n",
        "CREATE TABLE [item] (\n",
        "  [ID] INTEGER PRIMARY KEY,\n",
        "  [Item] nvarchar(250) NOT NULL,\n",
        "  [Price] float NOT NULL,\n",
        "  [Stock] int,\n",
        "  [systemID] int,\n",
        "  FOREIGN KEY ([systemID]) REFERENCES [system]([ID])\n",
        ");\n",
        "\n",
        "DROP TABLE IF EXISTS [cart];\n",
        "CREATE TABLE [cart] (\n",
        "  [ID] INTEGER PRIMARY KEY,\n",
        "  [itemID] int,\n",
        "  [systemID] int,\n",
        "  FOREIGN KEY ([itemID]) REFERENCES [item]([ID]) ON DELETE SET NULL,\n",
        "  FOREIGN KEY ([systemID]) REFERENCES [system]([ID]) ON DELETE SET NULL\n",
        ");\n",
        "\n",
        "DROP TABLE IF EXISTS [visitor];\n",
        "CREATE TABLE [visitor] (\n",
        "  [ID] INTEGER PRIMARY KEY,\n",
        "  [VisitorStatusID] int,\n",
        "  [cartID] int,\n",
        "  FOREIGN KEY ([VisitorStatusID]) REFERENCES [VisitorStatus]([ID]) ON DELETE SET NULL,\n",
        "  FOREIGN KEY ([cartID]) REFERENCES [cart]([ID]) ON DELETE SET NULL\n",
        ");\n",
        "\n",
        "DROP TABLE IF EXISTS [deals];\n",
        "CREATE TABLE [deals] (\n",
        "  [ID] INTEGER PRIMARY KEY,\n",
        "  [itemID] int,\n",
        "  [start] nvarchar(250) NOT NULL,\n",
        "  [end] nvarchar(250) NOT NULL,\n",
        "  [savings] nvarchar(250) NOT NULL,\n",
        "  FOREIGN KEY ([itemID]) REFERENCES [item]([ID]) ON DELETE SET NULL\n",
        ");\n",
        "\n",
        "DROP TABLE IF EXISTS [payment];\n",
        "CREATE TABLE [payment] (\n",
        "  [ID] INTEGER PRIMARY KEY,\n",
        "  [cardName] nvarchar(250) NOT NULL,\n",
        "  [cardNumber] nvarchar(250) NOT NULL,\n",
        "  [cardExpDate] nvarchar(250) NOT NULL,\n",
        "  [cardCSV] nvarchar(250) NOT NULL\n",
        ");\n",
        "\n",
        "DROP TABLE IF EXISTS [PreviousOrder];\n",
        "CREATE TABLE [PreviousOrder] (\n",
        "  [ID] INTEGER PRIMARY KEY,\n",
        "  [item1ID] int,\n",
        "  [item2ID] int,\n",
        "  [item3ID] int,\n",
        "  [item4ID] int,\n",
        "  FOREIGN KEY ([item1ID]) REFERENCES [item]([ID]) ON DELETE SET NULL,\n",
        "  FOREIGN KEY ([item2ID]) REFERENCES [item]([ID]) ON DELETE SET NULL,\n",
        "  FOREIGN KEY ([item3ID]) REFERENCES [item]([ID]) ON DELETE SET NULL,\n",
        "  FOREIGN KEY ([item4ID]) REFERENCES [item]([ID]) ON DELETE SET NULL\n",
        ");\n",
        "\n",
        "DROP TABLE IF EXISTS [account];\n",
        "CREATE TABLE [account] (\n",
        "  [ID] INTEGER PRIMARY KEY,\n",
        "  [accountName] nvarchar(250) NOT NULL,\n",
        "  [accountEmail] nvarchar(250) NOT NULL,\n",
        "  [accountPaymentID] int,\n",
        "  [PreviousOrderID] int,\n",
        "  FOREIGN KEY ([accountPaymentID]) REFERENCES [payment]([ID]) ON DELETE SET NULL,\n",
        "  FOREIGN KEY ([PreviousOrderID]) REFERENCES [PreviousOrder]([ID]) ON DELETE SET NULL\n",
        "  );\n",
        "\n",
        "  DROP TABLE IF EXISTS [associate];\n",
        "  CREATE TABLE [associate] (\n",
        "    [ID] INTEGER PRIMARY KEY,\n",
        "    [email] nvarchar(250) NOT NULL,\n",
        "    [name] nvarchar(250) NOT NULL\n",
        "  );\n",
        "\n",
        "  DROP TABLE IF EXISTS [CustomerService];\n",
        "  CREATE TABLE [CustomerService] (\n",
        "    [ID] INTEGER PRIMARY KEY,\n",
        "    [csPhone] nvarchar(250) NOT NULL,\n",
        "    [csEmail] nvarchar(250) NOT NULL,\n",
        "    [csAssociateID] int,\n",
        "    FOREIGN KEY ([csAssociateID]) REFERENCES [associate]([ID]) ON DELETE SET NULL\n",
        "  );\n",
        "\n",
        "  DROP TABLE IF EXISTS [Amazon];\n",
        "  CREATE TABLE [Amazon] (\n",
        "    [HelpCenter] nvarchar NOT NULL,\n",
        "    [Accessibility] nvarchar NOT NULL,\n",
        "    [Prime] nvarchar NOT NULL,\n",
        "    [CustomerServiceID] int,\n",
        "    FOREIGN KEY ([CustomerServiceID]) REFERENCES [CustomerService]([ID]) ON DELETE SET NULL\n",
        "  );"
      ],
      "metadata": {
        "colab": {
          "base_uri": "https://localhost:8080/"
        },
        "id": "KG7V5dYuzZp9",
        "outputId": "4b7f0c60-ddf4-43de-cb7b-a045201c3a97"
      },
      "execution_count": 6,
      "outputs": [
        {
          "output_type": "stream",
          "name": "stdout",
          "text": [
            " * sqlite:///projectdb.db\n",
            "Done.\n",
            "Done.\n",
            "Done.\n",
            "Done.\n",
            "Done.\n",
            "Done.\n",
            "Done.\n",
            "Done.\n",
            "Done.\n",
            "Done.\n",
            "Done.\n",
            "Done.\n",
            "Done.\n",
            "Done.\n",
            "Done.\n",
            "Done.\n",
            "Done.\n",
            "Done.\n",
            "Done.\n",
            "Done.\n",
            "Done.\n",
            "Done.\n",
            "Done.\n",
            "Done.\n"
          ]
        },
        {
          "output_type": "execute_result",
          "data": {
            "text/plain": [
              "[]"
            ]
          },
          "metadata": {},
          "execution_count": 6
        }
      ]
    },
    {
      "cell_type": "code",
      "source": [
        "%%sql\n",
        "\n",
        "PRAGMA foreign_keys;"
      ],
      "metadata": {
        "colab": {
          "base_uri": "https://localhost:8080/",
          "height": 95
        },
        "id": "5EuxGY8BDi07",
        "outputId": "5b82226b-e251-4f7a-e076-b607e960e766"
      },
      "execution_count": 5,
      "outputs": [
        {
          "output_type": "stream",
          "name": "stdout",
          "text": [
            " * sqlite:///projectdb.db\n",
            "Done.\n"
          ]
        },
        {
          "output_type": "execute_result",
          "data": {
            "text/plain": [
              "[(1,)]"
            ],
            "text/html": [
              "<table>\n",
              "    <thead>\n",
              "        <tr>\n",
              "            <th>foreign_keys</th>\n",
              "        </tr>\n",
              "    </thead>\n",
              "    <tbody>\n",
              "        <tr>\n",
              "            <td>1</td>\n",
              "        </tr>\n",
              "    </tbody>\n",
              "</table>"
            ]
          },
          "metadata": {},
          "execution_count": 5
        }
      ]
    },
    {
      "cell_type": "code",
      "source": [
        "%%sql\n",
        "\n",
        "PRAGMA foreign_keys = ON;"
      ],
      "metadata": {
        "colab": {
          "base_uri": "https://localhost:8080/"
        },
        "id": "l_8y1ufgDp2K",
        "outputId": "42a197e9-c985-4be0-b3e7-b9b38e50770b"
      },
      "execution_count": 4,
      "outputs": [
        {
          "output_type": "stream",
          "name": "stdout",
          "text": [
            " * sqlite:///projectdb.db\n",
            "Done.\n"
          ]
        },
        {
          "output_type": "execute_result",
          "data": {
            "text/plain": [
              "[]"
            ]
          },
          "metadata": {},
          "execution_count": 4
        }
      ]
    },
    {
      "cell_type": "code",
      "source": [
        "print('system')\n",
        "%sql pragma table_info('system');"
      ],
      "metadata": {
        "colab": {
          "base_uri": "https://localhost:8080/",
          "height": 133
        },
        "id": "3vvkyqvoDxci",
        "outputId": "bd021c4e-5f2d-432c-f13f-083f591530c9"
      },
      "execution_count": 7,
      "outputs": [
        {
          "output_type": "stream",
          "name": "stdout",
          "text": [
            "system\n",
            " * sqlite:///projectdb.db\n",
            "Done.\n"
          ]
        },
        {
          "output_type": "execute_result",
          "data": {
            "text/plain": [
              "[(0, 'ID', 'INTEGER', 0, None, 1), (1, 'System', 'nvarchar(250)', 1, None, 0)]"
            ],
            "text/html": [
              "<table>\n",
              "    <thead>\n",
              "        <tr>\n",
              "            <th>cid</th>\n",
              "            <th>name</th>\n",
              "            <th>type</th>\n",
              "            <th>notnull</th>\n",
              "            <th>dflt_value</th>\n",
              "            <th>pk</th>\n",
              "        </tr>\n",
              "    </thead>\n",
              "    <tbody>\n",
              "        <tr>\n",
              "            <td>0</td>\n",
              "            <td>ID</td>\n",
              "            <td>INTEGER</td>\n",
              "            <td>0</td>\n",
              "            <td>None</td>\n",
              "            <td>1</td>\n",
              "        </tr>\n",
              "        <tr>\n",
              "            <td>1</td>\n",
              "            <td>System</td>\n",
              "            <td>nvarchar(250)</td>\n",
              "            <td>1</td>\n",
              "            <td>None</td>\n",
              "            <td>0</td>\n",
              "        </tr>\n",
              "    </tbody>\n",
              "</table>"
            ]
          },
          "metadata": {},
          "execution_count": 7
        }
      ]
    },
    {
      "cell_type": "code",
      "source": [
        "print('VisitorStatus')\n",
        "%sql pragma table_info('VisitorStatus');"
      ],
      "metadata": {
        "colab": {
          "base_uri": "https://localhost:8080/",
          "height": 133
        },
        "id": "ds8zSxrlOGXl",
        "outputId": "406df26f-4772-46f1-ee0c-706ab8401755"
      },
      "execution_count": 8,
      "outputs": [
        {
          "output_type": "stream",
          "name": "stdout",
          "text": [
            "VisitorStatus\n",
            " * sqlite:///projectdb.db\n",
            "Done.\n"
          ]
        },
        {
          "output_type": "execute_result",
          "data": {
            "text/plain": [
              "[(0, 'ID', 'INTEGER', 0, None, 1), (1, 'status', 'nvarchar(250)', 1, None, 0)]"
            ],
            "text/html": [
              "<table>\n",
              "    <thead>\n",
              "        <tr>\n",
              "            <th>cid</th>\n",
              "            <th>name</th>\n",
              "            <th>type</th>\n",
              "            <th>notnull</th>\n",
              "            <th>dflt_value</th>\n",
              "            <th>pk</th>\n",
              "        </tr>\n",
              "    </thead>\n",
              "    <tbody>\n",
              "        <tr>\n",
              "            <td>0</td>\n",
              "            <td>ID</td>\n",
              "            <td>INTEGER</td>\n",
              "            <td>0</td>\n",
              "            <td>None</td>\n",
              "            <td>1</td>\n",
              "        </tr>\n",
              "        <tr>\n",
              "            <td>1</td>\n",
              "            <td>status</td>\n",
              "            <td>nvarchar(250)</td>\n",
              "            <td>1</td>\n",
              "            <td>None</td>\n",
              "            <td>0</td>\n",
              "        </tr>\n",
              "    </tbody>\n",
              "</table>"
            ]
          },
          "metadata": {},
          "execution_count": 8
        }
      ]
    },
    {
      "cell_type": "code",
      "source": [
        "print('item')\n",
        "%sql pragma table_info('item');"
      ],
      "metadata": {
        "colab": {
          "base_uri": "https://localhost:8080/",
          "height": 196
        },
        "id": "zYSJ_X5-ONDa",
        "outputId": "25534af4-fc44-4abd-9341-a20ef5542525"
      },
      "execution_count": 9,
      "outputs": [
        {
          "output_type": "stream",
          "name": "stdout",
          "text": [
            "item\n",
            " * sqlite:///projectdb.db\n",
            "Done.\n"
          ]
        },
        {
          "output_type": "execute_result",
          "data": {
            "text/plain": [
              "[(0, 'ID', 'INTEGER', 0, None, 1),\n",
              " (1, 'Item', 'nvarchar(250)', 1, None, 0),\n",
              " (2, 'Price', 'float', 1, None, 0),\n",
              " (3, 'Stock', 'int', 0, None, 0),\n",
              " (4, 'systemID', 'int', 0, None, 0)]"
            ],
            "text/html": [
              "<table>\n",
              "    <thead>\n",
              "        <tr>\n",
              "            <th>cid</th>\n",
              "            <th>name</th>\n",
              "            <th>type</th>\n",
              "            <th>notnull</th>\n",
              "            <th>dflt_value</th>\n",
              "            <th>pk</th>\n",
              "        </tr>\n",
              "    </thead>\n",
              "    <tbody>\n",
              "        <tr>\n",
              "            <td>0</td>\n",
              "            <td>ID</td>\n",
              "            <td>INTEGER</td>\n",
              "            <td>0</td>\n",
              "            <td>None</td>\n",
              "            <td>1</td>\n",
              "        </tr>\n",
              "        <tr>\n",
              "            <td>1</td>\n",
              "            <td>Item</td>\n",
              "            <td>nvarchar(250)</td>\n",
              "            <td>1</td>\n",
              "            <td>None</td>\n",
              "            <td>0</td>\n",
              "        </tr>\n",
              "        <tr>\n",
              "            <td>2</td>\n",
              "            <td>Price</td>\n",
              "            <td>float</td>\n",
              "            <td>1</td>\n",
              "            <td>None</td>\n",
              "            <td>0</td>\n",
              "        </tr>\n",
              "        <tr>\n",
              "            <td>3</td>\n",
              "            <td>Stock</td>\n",
              "            <td>int</td>\n",
              "            <td>0</td>\n",
              "            <td>None</td>\n",
              "            <td>0</td>\n",
              "        </tr>\n",
              "        <tr>\n",
              "            <td>4</td>\n",
              "            <td>systemID</td>\n",
              "            <td>int</td>\n",
              "            <td>0</td>\n",
              "            <td>None</td>\n",
              "            <td>0</td>\n",
              "        </tr>\n",
              "    </tbody>\n",
              "</table>"
            ]
          },
          "metadata": {},
          "execution_count": 9
        }
      ]
    },
    {
      "cell_type": "code",
      "source": [
        "print('cart')\n",
        "%sql pragma table_info('cart');"
      ],
      "metadata": {
        "colab": {
          "base_uri": "https://localhost:8080/",
          "height": 154
        },
        "id": "k7TXIkQVOQTP",
        "outputId": "0b4b1a8a-9da6-4a07-d39f-aec7804f67b7"
      },
      "execution_count": 10,
      "outputs": [
        {
          "output_type": "stream",
          "name": "stdout",
          "text": [
            "cart\n",
            " * sqlite:///projectdb.db\n",
            "Done.\n"
          ]
        },
        {
          "output_type": "execute_result",
          "data": {
            "text/plain": [
              "[(0, 'ID', 'INTEGER', 0, None, 1),\n",
              " (1, 'itemID', 'int', 0, None, 0),\n",
              " (2, 'systemID', 'int', 0, None, 0)]"
            ],
            "text/html": [
              "<table>\n",
              "    <thead>\n",
              "        <tr>\n",
              "            <th>cid</th>\n",
              "            <th>name</th>\n",
              "            <th>type</th>\n",
              "            <th>notnull</th>\n",
              "            <th>dflt_value</th>\n",
              "            <th>pk</th>\n",
              "        </tr>\n",
              "    </thead>\n",
              "    <tbody>\n",
              "        <tr>\n",
              "            <td>0</td>\n",
              "            <td>ID</td>\n",
              "            <td>INTEGER</td>\n",
              "            <td>0</td>\n",
              "            <td>None</td>\n",
              "            <td>1</td>\n",
              "        </tr>\n",
              "        <tr>\n",
              "            <td>1</td>\n",
              "            <td>itemID</td>\n",
              "            <td>int</td>\n",
              "            <td>0</td>\n",
              "            <td>None</td>\n",
              "            <td>0</td>\n",
              "        </tr>\n",
              "        <tr>\n",
              "            <td>2</td>\n",
              "            <td>systemID</td>\n",
              "            <td>int</td>\n",
              "            <td>0</td>\n",
              "            <td>None</td>\n",
              "            <td>0</td>\n",
              "        </tr>\n",
              "    </tbody>\n",
              "</table>"
            ]
          },
          "metadata": {},
          "execution_count": 10
        }
      ]
    },
    {
      "cell_type": "code",
      "source": [
        "print('visitor')\n",
        "%sql pragma table_info('visitor');"
      ],
      "metadata": {
        "colab": {
          "base_uri": "https://localhost:8080/",
          "height": 154
        },
        "id": "m61ugPyTOT97",
        "outputId": "58a88f73-ad1b-4f93-8a1e-99a58f09010d"
      },
      "execution_count": 11,
      "outputs": [
        {
          "output_type": "stream",
          "name": "stdout",
          "text": [
            "visitor\n",
            " * sqlite:///projectdb.db\n",
            "Done.\n"
          ]
        },
        {
          "output_type": "execute_result",
          "data": {
            "text/plain": [
              "[(0, 'ID', 'INTEGER', 0, None, 1),\n",
              " (1, 'VisitorStatusID', 'int', 0, None, 0),\n",
              " (2, 'cartID', 'int', 0, None, 0)]"
            ],
            "text/html": [
              "<table>\n",
              "    <thead>\n",
              "        <tr>\n",
              "            <th>cid</th>\n",
              "            <th>name</th>\n",
              "            <th>type</th>\n",
              "            <th>notnull</th>\n",
              "            <th>dflt_value</th>\n",
              "            <th>pk</th>\n",
              "        </tr>\n",
              "    </thead>\n",
              "    <tbody>\n",
              "        <tr>\n",
              "            <td>0</td>\n",
              "            <td>ID</td>\n",
              "            <td>INTEGER</td>\n",
              "            <td>0</td>\n",
              "            <td>None</td>\n",
              "            <td>1</td>\n",
              "        </tr>\n",
              "        <tr>\n",
              "            <td>1</td>\n",
              "            <td>VisitorStatusID</td>\n",
              "            <td>int</td>\n",
              "            <td>0</td>\n",
              "            <td>None</td>\n",
              "            <td>0</td>\n",
              "        </tr>\n",
              "        <tr>\n",
              "            <td>2</td>\n",
              "            <td>cartID</td>\n",
              "            <td>int</td>\n",
              "            <td>0</td>\n",
              "            <td>None</td>\n",
              "            <td>0</td>\n",
              "        </tr>\n",
              "    </tbody>\n",
              "</table>"
            ]
          },
          "metadata": {},
          "execution_count": 11
        }
      ]
    },
    {
      "cell_type": "code",
      "source": [
        "print('deals')\n",
        "%sql pragma table_info('deals');"
      ],
      "metadata": {
        "colab": {
          "base_uri": "https://localhost:8080/",
          "height": 196
        },
        "id": "DQvlRd0mOWVP",
        "outputId": "b931b1f5-b6a9-48f6-e495-1ce129541a3d"
      },
      "execution_count": 12,
      "outputs": [
        {
          "output_type": "stream",
          "name": "stdout",
          "text": [
            "deals\n",
            " * sqlite:///projectdb.db\n",
            "Done.\n"
          ]
        },
        {
          "output_type": "execute_result",
          "data": {
            "text/plain": [
              "[(0, 'ID', 'INTEGER', 0, None, 1),\n",
              " (1, 'itemID', 'int', 0, None, 0),\n",
              " (2, 'start', 'nvarchar(250)', 1, None, 0),\n",
              " (3, 'end', 'nvarchar(250)', 1, None, 0),\n",
              " (4, 'savings', 'nvarchar(250)', 1, None, 0)]"
            ],
            "text/html": [
              "<table>\n",
              "    <thead>\n",
              "        <tr>\n",
              "            <th>cid</th>\n",
              "            <th>name</th>\n",
              "            <th>type</th>\n",
              "            <th>notnull</th>\n",
              "            <th>dflt_value</th>\n",
              "            <th>pk</th>\n",
              "        </tr>\n",
              "    </thead>\n",
              "    <tbody>\n",
              "        <tr>\n",
              "            <td>0</td>\n",
              "            <td>ID</td>\n",
              "            <td>INTEGER</td>\n",
              "            <td>0</td>\n",
              "            <td>None</td>\n",
              "            <td>1</td>\n",
              "        </tr>\n",
              "        <tr>\n",
              "            <td>1</td>\n",
              "            <td>itemID</td>\n",
              "            <td>int</td>\n",
              "            <td>0</td>\n",
              "            <td>None</td>\n",
              "            <td>0</td>\n",
              "        </tr>\n",
              "        <tr>\n",
              "            <td>2</td>\n",
              "            <td>start</td>\n",
              "            <td>nvarchar(250)</td>\n",
              "            <td>1</td>\n",
              "            <td>None</td>\n",
              "            <td>0</td>\n",
              "        </tr>\n",
              "        <tr>\n",
              "            <td>3</td>\n",
              "            <td>end</td>\n",
              "            <td>nvarchar(250)</td>\n",
              "            <td>1</td>\n",
              "            <td>None</td>\n",
              "            <td>0</td>\n",
              "        </tr>\n",
              "        <tr>\n",
              "            <td>4</td>\n",
              "            <td>savings</td>\n",
              "            <td>nvarchar(250)</td>\n",
              "            <td>1</td>\n",
              "            <td>None</td>\n",
              "            <td>0</td>\n",
              "        </tr>\n",
              "    </tbody>\n",
              "</table>"
            ]
          },
          "metadata": {},
          "execution_count": 12
        }
      ]
    },
    {
      "cell_type": "code",
      "source": [
        "print('payment')\n",
        "%sql pragma table_info('payment');"
      ],
      "metadata": {
        "colab": {
          "base_uri": "https://localhost:8080/",
          "height": 196
        },
        "id": "iT0VUSd3OYM2",
        "outputId": "cf3a0f33-0978-4554-efd3-8a593e43e472"
      },
      "execution_count": 13,
      "outputs": [
        {
          "output_type": "stream",
          "name": "stdout",
          "text": [
            "payment\n",
            " * sqlite:///projectdb.db\n",
            "Done.\n"
          ]
        },
        {
          "output_type": "execute_result",
          "data": {
            "text/plain": [
              "[(0, 'ID', 'INTEGER', 0, None, 1),\n",
              " (1, 'cardName', 'nvarchar(250)', 1, None, 0),\n",
              " (2, 'cardNumber', 'nvarchar(250)', 1, None, 0),\n",
              " (3, 'cardExpDate', 'nvarchar(250)', 1, None, 0),\n",
              " (4, 'cardCSV', 'nvarchar(250)', 1, None, 0)]"
            ],
            "text/html": [
              "<table>\n",
              "    <thead>\n",
              "        <tr>\n",
              "            <th>cid</th>\n",
              "            <th>name</th>\n",
              "            <th>type</th>\n",
              "            <th>notnull</th>\n",
              "            <th>dflt_value</th>\n",
              "            <th>pk</th>\n",
              "        </tr>\n",
              "    </thead>\n",
              "    <tbody>\n",
              "        <tr>\n",
              "            <td>0</td>\n",
              "            <td>ID</td>\n",
              "            <td>INTEGER</td>\n",
              "            <td>0</td>\n",
              "            <td>None</td>\n",
              "            <td>1</td>\n",
              "        </tr>\n",
              "        <tr>\n",
              "            <td>1</td>\n",
              "            <td>cardName</td>\n",
              "            <td>nvarchar(250)</td>\n",
              "            <td>1</td>\n",
              "            <td>None</td>\n",
              "            <td>0</td>\n",
              "        </tr>\n",
              "        <tr>\n",
              "            <td>2</td>\n",
              "            <td>cardNumber</td>\n",
              "            <td>nvarchar(250)</td>\n",
              "            <td>1</td>\n",
              "            <td>None</td>\n",
              "            <td>0</td>\n",
              "        </tr>\n",
              "        <tr>\n",
              "            <td>3</td>\n",
              "            <td>cardExpDate</td>\n",
              "            <td>nvarchar(250)</td>\n",
              "            <td>1</td>\n",
              "            <td>None</td>\n",
              "            <td>0</td>\n",
              "        </tr>\n",
              "        <tr>\n",
              "            <td>4</td>\n",
              "            <td>cardCSV</td>\n",
              "            <td>nvarchar(250)</td>\n",
              "            <td>1</td>\n",
              "            <td>None</td>\n",
              "            <td>0</td>\n",
              "        </tr>\n",
              "    </tbody>\n",
              "</table>"
            ]
          },
          "metadata": {},
          "execution_count": 13
        }
      ]
    },
    {
      "cell_type": "code",
      "source": [
        "print('PreviousOrder')\n",
        "%sql pragma table_info('PreviousOrder');"
      ],
      "metadata": {
        "colab": {
          "base_uri": "https://localhost:8080/",
          "height": 196
        },
        "id": "TzdVNw8qOca1",
        "outputId": "65fd0ea8-193b-47b2-b2f1-d70c1cef12f5"
      },
      "execution_count": 14,
      "outputs": [
        {
          "output_type": "stream",
          "name": "stdout",
          "text": [
            "PreviousOrder\n",
            " * sqlite:///projectdb.db\n",
            "Done.\n"
          ]
        },
        {
          "output_type": "execute_result",
          "data": {
            "text/plain": [
              "[(0, 'ID', 'INTEGER', 0, None, 1),\n",
              " (1, 'item1ID', 'int', 0, None, 0),\n",
              " (2, 'item2ID', 'int', 0, None, 0),\n",
              " (3, 'item3ID', 'int', 0, None, 0),\n",
              " (4, 'item4ID', 'int', 0, None, 0)]"
            ],
            "text/html": [
              "<table>\n",
              "    <thead>\n",
              "        <tr>\n",
              "            <th>cid</th>\n",
              "            <th>name</th>\n",
              "            <th>type</th>\n",
              "            <th>notnull</th>\n",
              "            <th>dflt_value</th>\n",
              "            <th>pk</th>\n",
              "        </tr>\n",
              "    </thead>\n",
              "    <tbody>\n",
              "        <tr>\n",
              "            <td>0</td>\n",
              "            <td>ID</td>\n",
              "            <td>INTEGER</td>\n",
              "            <td>0</td>\n",
              "            <td>None</td>\n",
              "            <td>1</td>\n",
              "        </tr>\n",
              "        <tr>\n",
              "            <td>1</td>\n",
              "            <td>item1ID</td>\n",
              "            <td>int</td>\n",
              "            <td>0</td>\n",
              "            <td>None</td>\n",
              "            <td>0</td>\n",
              "        </tr>\n",
              "        <tr>\n",
              "            <td>2</td>\n",
              "            <td>item2ID</td>\n",
              "            <td>int</td>\n",
              "            <td>0</td>\n",
              "            <td>None</td>\n",
              "            <td>0</td>\n",
              "        </tr>\n",
              "        <tr>\n",
              "            <td>3</td>\n",
              "            <td>item3ID</td>\n",
              "            <td>int</td>\n",
              "            <td>0</td>\n",
              "            <td>None</td>\n",
              "            <td>0</td>\n",
              "        </tr>\n",
              "        <tr>\n",
              "            <td>4</td>\n",
              "            <td>item4ID</td>\n",
              "            <td>int</td>\n",
              "            <td>0</td>\n",
              "            <td>None</td>\n",
              "            <td>0</td>\n",
              "        </tr>\n",
              "    </tbody>\n",
              "</table>"
            ]
          },
          "metadata": {},
          "execution_count": 14
        }
      ]
    },
    {
      "cell_type": "code",
      "source": [
        "print('account')\n",
        "%sql pragma table_info('account');"
      ],
      "metadata": {
        "colab": {
          "base_uri": "https://localhost:8080/",
          "height": 196
        },
        "id": "gSr3OZpPOhff",
        "outputId": "2233d78f-3fbf-45aa-d882-7eef9ea14151"
      },
      "execution_count": 15,
      "outputs": [
        {
          "output_type": "stream",
          "name": "stdout",
          "text": [
            "account\n",
            " * sqlite:///projectdb.db\n",
            "Done.\n"
          ]
        },
        {
          "output_type": "execute_result",
          "data": {
            "text/plain": [
              "[(0, 'ID', 'INTEGER', 0, None, 1),\n",
              " (1, 'accountName', 'nvarchar(250)', 1, None, 0),\n",
              " (2, 'accountEmail', 'nvarchar(250)', 1, None, 0),\n",
              " (3, 'accountPaymentID', 'int', 0, None, 0),\n",
              " (4, 'PreviousOrderID', 'int', 0, None, 0)]"
            ],
            "text/html": [
              "<table>\n",
              "    <thead>\n",
              "        <tr>\n",
              "            <th>cid</th>\n",
              "            <th>name</th>\n",
              "            <th>type</th>\n",
              "            <th>notnull</th>\n",
              "            <th>dflt_value</th>\n",
              "            <th>pk</th>\n",
              "        </tr>\n",
              "    </thead>\n",
              "    <tbody>\n",
              "        <tr>\n",
              "            <td>0</td>\n",
              "            <td>ID</td>\n",
              "            <td>INTEGER</td>\n",
              "            <td>0</td>\n",
              "            <td>None</td>\n",
              "            <td>1</td>\n",
              "        </tr>\n",
              "        <tr>\n",
              "            <td>1</td>\n",
              "            <td>accountName</td>\n",
              "            <td>nvarchar(250)</td>\n",
              "            <td>1</td>\n",
              "            <td>None</td>\n",
              "            <td>0</td>\n",
              "        </tr>\n",
              "        <tr>\n",
              "            <td>2</td>\n",
              "            <td>accountEmail</td>\n",
              "            <td>nvarchar(250)</td>\n",
              "            <td>1</td>\n",
              "            <td>None</td>\n",
              "            <td>0</td>\n",
              "        </tr>\n",
              "        <tr>\n",
              "            <td>3</td>\n",
              "            <td>accountPaymentID</td>\n",
              "            <td>int</td>\n",
              "            <td>0</td>\n",
              "            <td>None</td>\n",
              "            <td>0</td>\n",
              "        </tr>\n",
              "        <tr>\n",
              "            <td>4</td>\n",
              "            <td>PreviousOrderID</td>\n",
              "            <td>int</td>\n",
              "            <td>0</td>\n",
              "            <td>None</td>\n",
              "            <td>0</td>\n",
              "        </tr>\n",
              "    </tbody>\n",
              "</table>"
            ]
          },
          "metadata": {},
          "execution_count": 15
        }
      ]
    },
    {
      "cell_type": "code",
      "source": [
        "print('associate')\n",
        "%sql pragma table_info('associate');"
      ],
      "metadata": {
        "colab": {
          "base_uri": "https://localhost:8080/",
          "height": 154
        },
        "id": "630GFPtsOlsj",
        "outputId": "56d8e325-3bee-4b86-c6b6-1e14cd3dbd2a"
      },
      "execution_count": 16,
      "outputs": [
        {
          "output_type": "stream",
          "name": "stdout",
          "text": [
            "associate\n",
            " * sqlite:///projectdb.db\n",
            "Done.\n"
          ]
        },
        {
          "output_type": "execute_result",
          "data": {
            "text/plain": [
              "[(0, 'ID', 'INTEGER', 0, None, 1),\n",
              " (1, 'email', 'nvarchar(250)', 1, None, 0),\n",
              " (2, 'name', 'nvarchar(250)', 1, None, 0)]"
            ],
            "text/html": [
              "<table>\n",
              "    <thead>\n",
              "        <tr>\n",
              "            <th>cid</th>\n",
              "            <th>name</th>\n",
              "            <th>type</th>\n",
              "            <th>notnull</th>\n",
              "            <th>dflt_value</th>\n",
              "            <th>pk</th>\n",
              "        </tr>\n",
              "    </thead>\n",
              "    <tbody>\n",
              "        <tr>\n",
              "            <td>0</td>\n",
              "            <td>ID</td>\n",
              "            <td>INTEGER</td>\n",
              "            <td>0</td>\n",
              "            <td>None</td>\n",
              "            <td>1</td>\n",
              "        </tr>\n",
              "        <tr>\n",
              "            <td>1</td>\n",
              "            <td>email</td>\n",
              "            <td>nvarchar(250)</td>\n",
              "            <td>1</td>\n",
              "            <td>None</td>\n",
              "            <td>0</td>\n",
              "        </tr>\n",
              "        <tr>\n",
              "            <td>2</td>\n",
              "            <td>name</td>\n",
              "            <td>nvarchar(250)</td>\n",
              "            <td>1</td>\n",
              "            <td>None</td>\n",
              "            <td>0</td>\n",
              "        </tr>\n",
              "    </tbody>\n",
              "</table>"
            ]
          },
          "metadata": {},
          "execution_count": 16
        }
      ]
    },
    {
      "cell_type": "code",
      "source": [
        "print('CustomerService')\n",
        "%sql pragma table_info('CustomerService');"
      ],
      "metadata": {
        "colab": {
          "base_uri": "https://localhost:8080/",
          "height": 175
        },
        "id": "40HkCO4LOomx",
        "outputId": "0eb2b8f9-f896-498e-d611-1541a65d1a4c"
      },
      "execution_count": 17,
      "outputs": [
        {
          "output_type": "stream",
          "name": "stdout",
          "text": [
            "CustomerService\n",
            " * sqlite:///projectdb.db\n",
            "Done.\n"
          ]
        },
        {
          "output_type": "execute_result",
          "data": {
            "text/plain": [
              "[(0, 'ID', 'INTEGER', 0, None, 1),\n",
              " (1, 'csPhone', 'nvarchar(250)', 1, None, 0),\n",
              " (2, 'csEmail', 'nvarchar(250)', 1, None, 0),\n",
              " (3, 'csAssociateID', 'int', 0, None, 0)]"
            ],
            "text/html": [
              "<table>\n",
              "    <thead>\n",
              "        <tr>\n",
              "            <th>cid</th>\n",
              "            <th>name</th>\n",
              "            <th>type</th>\n",
              "            <th>notnull</th>\n",
              "            <th>dflt_value</th>\n",
              "            <th>pk</th>\n",
              "        </tr>\n",
              "    </thead>\n",
              "    <tbody>\n",
              "        <tr>\n",
              "            <td>0</td>\n",
              "            <td>ID</td>\n",
              "            <td>INTEGER</td>\n",
              "            <td>0</td>\n",
              "            <td>None</td>\n",
              "            <td>1</td>\n",
              "        </tr>\n",
              "        <tr>\n",
              "            <td>1</td>\n",
              "            <td>csPhone</td>\n",
              "            <td>nvarchar(250)</td>\n",
              "            <td>1</td>\n",
              "            <td>None</td>\n",
              "            <td>0</td>\n",
              "        </tr>\n",
              "        <tr>\n",
              "            <td>2</td>\n",
              "            <td>csEmail</td>\n",
              "            <td>nvarchar(250)</td>\n",
              "            <td>1</td>\n",
              "            <td>None</td>\n",
              "            <td>0</td>\n",
              "        </tr>\n",
              "        <tr>\n",
              "            <td>3</td>\n",
              "            <td>csAssociateID</td>\n",
              "            <td>int</td>\n",
              "            <td>0</td>\n",
              "            <td>None</td>\n",
              "            <td>0</td>\n",
              "        </tr>\n",
              "    </tbody>\n",
              "</table>"
            ]
          },
          "metadata": {},
          "execution_count": 17
        }
      ]
    },
    {
      "cell_type": "code",
      "source": [
        "print('Amazon')\n",
        "%sql pragma table_info('Amazon');"
      ],
      "metadata": {
        "colab": {
          "base_uri": "https://localhost:8080/",
          "height": 175
        },
        "id": "FMwbhd0BOuwz",
        "outputId": "1b96bc90-1d53-493b-aebe-5ec71c673a64"
      },
      "execution_count": 18,
      "outputs": [
        {
          "output_type": "stream",
          "name": "stdout",
          "text": [
            "Amazon\n",
            " * sqlite:///projectdb.db\n",
            "Done.\n"
          ]
        },
        {
          "output_type": "execute_result",
          "data": {
            "text/plain": [
              "[(0, 'HelpCenter', 'nvarchar', 1, None, 0),\n",
              " (1, 'Accessibility', 'nvarchar', 1, None, 0),\n",
              " (2, 'Prime', 'nvarchar', 1, None, 0),\n",
              " (3, 'CustomerServiceID', 'int', 0, None, 0)]"
            ],
            "text/html": [
              "<table>\n",
              "    <thead>\n",
              "        <tr>\n",
              "            <th>cid</th>\n",
              "            <th>name</th>\n",
              "            <th>type</th>\n",
              "            <th>notnull</th>\n",
              "            <th>dflt_value</th>\n",
              "            <th>pk</th>\n",
              "        </tr>\n",
              "    </thead>\n",
              "    <tbody>\n",
              "        <tr>\n",
              "            <td>0</td>\n",
              "            <td>HelpCenter</td>\n",
              "            <td>nvarchar</td>\n",
              "            <td>1</td>\n",
              "            <td>None</td>\n",
              "            <td>0</td>\n",
              "        </tr>\n",
              "        <tr>\n",
              "            <td>1</td>\n",
              "            <td>Accessibility</td>\n",
              "            <td>nvarchar</td>\n",
              "            <td>1</td>\n",
              "            <td>None</td>\n",
              "            <td>0</td>\n",
              "        </tr>\n",
              "        <tr>\n",
              "            <td>2</td>\n",
              "            <td>Prime</td>\n",
              "            <td>nvarchar</td>\n",
              "            <td>1</td>\n",
              "            <td>None</td>\n",
              "            <td>0</td>\n",
              "        </tr>\n",
              "        <tr>\n",
              "            <td>3</td>\n",
              "            <td>CustomerServiceID</td>\n",
              "            <td>int</td>\n",
              "            <td>0</td>\n",
              "            <td>None</td>\n",
              "            <td>0</td>\n",
              "        </tr>\n",
              "    </tbody>\n",
              "</table>"
            ]
          },
          "metadata": {},
          "execution_count": 18
        }
      ]
    },
    {
      "cell_type": "code",
      "source": [
        "%%sql\n",
        "\n",
        "INSERT INTO system([System]) VALUES (\"PlayStation 5\");\n",
        "INSERT INTO system([System]) VALUES (\"PlayStation 4\");\n",
        "INSERT INTO system([System]) VALUES (\"Xbox Series X & S\");\n",
        "INSERT INTO system([System]) VALUES (\"Xbox One\");\n",
        "INSERT INTO system([System]) VALUES (\"Nintendo Switch\");\n",
        "INSERT INTO system([System]) VALUES (\"PC\");\n",
        "INSERT INTO system([System]) VALUES (\"Mac\");\n",
        "INSERT INTO system([System]) VALUES (\"Legacy Systems\");\n",
        "INSERT INTO system([System]) VALUES (\"Online Gaming Services\");\n",
        "INSERT INTO system([System]) VALUES (\"Microconsoles\");\n",
        "INSERT INTO system([System]) VALUES (\"Virtual Reality\");"
      ],
      "metadata": {
        "colab": {
          "base_uri": "https://localhost:8080/"
        },
        "id": "Ec3Ydjs6OxLd",
        "outputId": "604ceea0-c373-4ee9-a20b-a6992c61da9e"
      },
      "execution_count": 19,
      "outputs": [
        {
          "output_type": "stream",
          "name": "stdout",
          "text": [
            " * sqlite:///projectdb.db\n",
            "1 rows affected.\n",
            "1 rows affected.\n",
            "1 rows affected.\n",
            "1 rows affected.\n",
            "1 rows affected.\n",
            "1 rows affected.\n",
            "1 rows affected.\n",
            "1 rows affected.\n",
            "1 rows affected.\n",
            "1 rows affected.\n",
            "1 rows affected.\n"
          ]
        },
        {
          "output_type": "execute_result",
          "data": {
            "text/plain": [
              "[]"
            ]
          },
          "metadata": {},
          "execution_count": 19
        }
      ]
    },
    {
      "cell_type": "code",
      "source": [
        "%%sql\n",
        "\n",
        "SELECT *\n",
        "FROM system;\n"
      ],
      "metadata": {
        "colab": {
          "base_uri": "https://localhost:8080/",
          "height": 305
        },
        "id": "zUqDAD44QBRn",
        "outputId": "e3440e6b-5a65-4986-ccde-7c734f365315"
      },
      "execution_count": 20,
      "outputs": [
        {
          "output_type": "stream",
          "name": "stdout",
          "text": [
            " * sqlite:///projectdb.db\n",
            "Done.\n"
          ]
        },
        {
          "output_type": "execute_result",
          "data": {
            "text/plain": [
              "[(1, 'PlayStation 5'),\n",
              " (2, 'PlayStation 4'),\n",
              " (3, 'Xbox Series X & S'),\n",
              " (4, 'Xbox One'),\n",
              " (5, 'Nintendo Switch'),\n",
              " (6, 'PC'),\n",
              " (7, 'Mac'),\n",
              " (8, 'Legacy Systems'),\n",
              " (9, 'Online Gaming Services'),\n",
              " (10, 'Microconsoles'),\n",
              " (11, 'Virtual Reality')]"
            ],
            "text/html": [
              "<table>\n",
              "    <thead>\n",
              "        <tr>\n",
              "            <th>ID</th>\n",
              "            <th>System</th>\n",
              "        </tr>\n",
              "    </thead>\n",
              "    <tbody>\n",
              "        <tr>\n",
              "            <td>1</td>\n",
              "            <td>PlayStation 5</td>\n",
              "        </tr>\n",
              "        <tr>\n",
              "            <td>2</td>\n",
              "            <td>PlayStation 4</td>\n",
              "        </tr>\n",
              "        <tr>\n",
              "            <td>3</td>\n",
              "            <td>Xbox Series X &amp; S</td>\n",
              "        </tr>\n",
              "        <tr>\n",
              "            <td>4</td>\n",
              "            <td>Xbox One</td>\n",
              "        </tr>\n",
              "        <tr>\n",
              "            <td>5</td>\n",
              "            <td>Nintendo Switch</td>\n",
              "        </tr>\n",
              "        <tr>\n",
              "            <td>6</td>\n",
              "            <td>PC</td>\n",
              "        </tr>\n",
              "        <tr>\n",
              "            <td>7</td>\n",
              "            <td>Mac</td>\n",
              "        </tr>\n",
              "        <tr>\n",
              "            <td>8</td>\n",
              "            <td>Legacy Systems</td>\n",
              "        </tr>\n",
              "        <tr>\n",
              "            <td>9</td>\n",
              "            <td>Online Gaming Services</td>\n",
              "        </tr>\n",
              "        <tr>\n",
              "            <td>10</td>\n",
              "            <td>Microconsoles</td>\n",
              "        </tr>\n",
              "        <tr>\n",
              "            <td>11</td>\n",
              "            <td>Virtual Reality</td>\n",
              "        </tr>\n",
              "    </tbody>\n",
              "</table>"
            ]
          },
          "metadata": {},
          "execution_count": 20
        }
      ]
    },
    {
      "cell_type": "code",
      "source": [
        "%%sql\n",
        "\n",
        "INSERT INTO item([Item],[Price],[Stock],[systemID]) VALUES (\"Headset\", 149.95, 20, 1);\n",
        "INSERT INTO item([Item],[Price],[Stock],[systemID]) VALUES (\"Controller\", 74.00, 43, 1);\n",
        "INSERT INTO item([Item],[Price],[Stock],[systemID]) VALUES (\"PlayStation 4 Console\", 199.99, 112, 2);\n",
        "INSERT INTO item([Item],[Price],[Stock],[systemID]) VALUES (\"Game Disk\", 39.95, 4, 2);\n",
        "INSERT INTO item([Item],[Price],[Stock],[systemID]) VALUES (\"Currency Card\", 29.95, 93, 3);\n",
        "INSERT INTO item([Item],[Price],[Stock],[systemID]) VALUES (\"Charging Cable\", 9.99, 254, 3);\n",
        "INSERT INTO item([Item],[Price],[Stock],[systemID]) VALUES (\"Driving Wheel\", 279.03, 2, 4);\n",
        "INSERT INTO item([Item],[Price],[Stock],[systemID]) VALUES (\"Controller Charging Station\", 22.99, 31, 4);\n",
        "INSERT INTO item([Item],[Price],[Stock],[systemID]) VALUES (\"EShop Gift Card\", 5.00, 55, 5);\n",
        "INSERT INTO item([Item],[Price],[Stock],[systemID]) VALUES (\"Pro Controller\", 69.99, 77, 5);\n",
        "INSERT INTO item([Item],[Price],[Stock],[systemID]) VALUES (\"Keyboard\", 138.99, 1, 6);\n",
        "INSERT INTO item([Item],[Price],[Stock],[systemID]) VALUES (\"Mouse\", 11.89, 13, 6);\n",
        "INSERT INTO item([Item],[Price],[Stock],[systemID]) VALUES (\"Apple Keyboard\", 129.99, 43, 7);\n",
        "INSERT INTO item([Item],[Price],[Stock],[systemID]) VALUES (\"External Port Adapter\", 55.99, 92, 7);\n",
        "INSERT INTO item([Item],[Price],[Stock],[systemID]) VALUES (\"Xbox 360 Controller\", 29.99, 14, 8);\n",
        "INSERT INTO item([Item],[Price],[Stock],[systemID]) VALUES (\"PlayStation 3 Console\", 99.99, 24, 8);\n",
        "INSERT INTO item([Item],[Price],[Stock],[systemID]) VALUES (\"PlayStation Store Credit\", 75.00, 69, 9);\n",
        "INSERT INTO item([Item],[Price],[Stock],[systemID]) VALUES (\"Universal TV Remote\", 13.98, 81, 10);\n",
        "INSERT INTO item([Item],[Price],[Stock],[systemID]) VALUES (\"Virtual Reality Headset\", 399.99, 6, 11);"
      ],
      "metadata": {
        "colab": {
          "base_uri": "https://localhost:8080/"
        },
        "id": "4jWJJLjEQPxx",
        "outputId": "66a33388-f951-47ba-b7b5-bf7a64de5644"
      },
      "execution_count": 21,
      "outputs": [
        {
          "output_type": "stream",
          "name": "stdout",
          "text": [
            " * sqlite:///projectdb.db\n",
            "1 rows affected.\n",
            "1 rows affected.\n",
            "1 rows affected.\n",
            "1 rows affected.\n",
            "1 rows affected.\n",
            "1 rows affected.\n",
            "1 rows affected.\n",
            "1 rows affected.\n",
            "1 rows affected.\n",
            "1 rows affected.\n",
            "1 rows affected.\n",
            "1 rows affected.\n",
            "1 rows affected.\n",
            "1 rows affected.\n",
            "1 rows affected.\n",
            "1 rows affected.\n",
            "1 rows affected.\n",
            "1 rows affected.\n",
            "1 rows affected.\n"
          ]
        },
        {
          "output_type": "execute_result",
          "data": {
            "text/plain": [
              "[]"
            ]
          },
          "metadata": {},
          "execution_count": 21
        }
      ]
    },
    {
      "cell_type": "code",
      "source": [
        "%%sql\n",
        "\n",
        "SELECT * FROM item;"
      ],
      "metadata": {
        "colab": {
          "base_uri": "https://localhost:8080/",
          "height": 473
        },
        "id": "xwf8h_CiZs1p",
        "outputId": "20712179-4497-4a3a-a9ea-7514ebe28307"
      },
      "execution_count": 22,
      "outputs": [
        {
          "output_type": "stream",
          "name": "stdout",
          "text": [
            " * sqlite:///projectdb.db\n",
            "Done.\n"
          ]
        },
        {
          "output_type": "execute_result",
          "data": {
            "text/plain": [
              "[(1, 'Headset', 149.95, 20, 1),\n",
              " (2, 'Controller', 74.0, 43, 1),\n",
              " (3, 'PlayStation 4 Console', 199.99, 112, 2),\n",
              " (4, 'Game Disk', 39.95, 4, 2),\n",
              " (5, 'Currency Card', 29.95, 93, 3),\n",
              " (6, 'Charging Cable', 9.99, 254, 3),\n",
              " (7, 'Driving Wheel', 279.03, 2, 4),\n",
              " (8, 'Controller Charging Station', 22.99, 31, 4),\n",
              " (9, 'EShop Gift Card', 5.0, 55, 5),\n",
              " (10, 'Pro Controller', 69.99, 77, 5),\n",
              " (11, 'Keyboard', 138.99, 1, 6),\n",
              " (12, 'Mouse', 11.89, 13, 6),\n",
              " (13, 'Apple Keyboard', 129.99, 43, 7),\n",
              " (14, 'External Port Adapter', 55.99, 92, 7),\n",
              " (15, 'Xbox 360 Controller', 29.99, 14, 8),\n",
              " (16, 'PlayStation 3 Console', 99.99, 24, 8),\n",
              " (17, 'PlayStation Store Credit', 75.0, 69, 9),\n",
              " (18, 'Universal TV Remote', 13.98, 81, 10),\n",
              " (19, 'Virtual Reality Headset', 399.99, 6, 11)]"
            ],
            "text/html": [
              "<table>\n",
              "    <thead>\n",
              "        <tr>\n",
              "            <th>ID</th>\n",
              "            <th>Item</th>\n",
              "            <th>Price</th>\n",
              "            <th>Stock</th>\n",
              "            <th>systemID</th>\n",
              "        </tr>\n",
              "    </thead>\n",
              "    <tbody>\n",
              "        <tr>\n",
              "            <td>1</td>\n",
              "            <td>Headset</td>\n",
              "            <td>149.95</td>\n",
              "            <td>20</td>\n",
              "            <td>1</td>\n",
              "        </tr>\n",
              "        <tr>\n",
              "            <td>2</td>\n",
              "            <td>Controller</td>\n",
              "            <td>74.0</td>\n",
              "            <td>43</td>\n",
              "            <td>1</td>\n",
              "        </tr>\n",
              "        <tr>\n",
              "            <td>3</td>\n",
              "            <td>PlayStation 4 Console</td>\n",
              "            <td>199.99</td>\n",
              "            <td>112</td>\n",
              "            <td>2</td>\n",
              "        </tr>\n",
              "        <tr>\n",
              "            <td>4</td>\n",
              "            <td>Game Disk</td>\n",
              "            <td>39.95</td>\n",
              "            <td>4</td>\n",
              "            <td>2</td>\n",
              "        </tr>\n",
              "        <tr>\n",
              "            <td>5</td>\n",
              "            <td>Currency Card</td>\n",
              "            <td>29.95</td>\n",
              "            <td>93</td>\n",
              "            <td>3</td>\n",
              "        </tr>\n",
              "        <tr>\n",
              "            <td>6</td>\n",
              "            <td>Charging Cable</td>\n",
              "            <td>9.99</td>\n",
              "            <td>254</td>\n",
              "            <td>3</td>\n",
              "        </tr>\n",
              "        <tr>\n",
              "            <td>7</td>\n",
              "            <td>Driving Wheel</td>\n",
              "            <td>279.03</td>\n",
              "            <td>2</td>\n",
              "            <td>4</td>\n",
              "        </tr>\n",
              "        <tr>\n",
              "            <td>8</td>\n",
              "            <td>Controller Charging Station</td>\n",
              "            <td>22.99</td>\n",
              "            <td>31</td>\n",
              "            <td>4</td>\n",
              "        </tr>\n",
              "        <tr>\n",
              "            <td>9</td>\n",
              "            <td>EShop Gift Card</td>\n",
              "            <td>5.0</td>\n",
              "            <td>55</td>\n",
              "            <td>5</td>\n",
              "        </tr>\n",
              "        <tr>\n",
              "            <td>10</td>\n",
              "            <td>Pro Controller</td>\n",
              "            <td>69.99</td>\n",
              "            <td>77</td>\n",
              "            <td>5</td>\n",
              "        </tr>\n",
              "        <tr>\n",
              "            <td>11</td>\n",
              "            <td>Keyboard</td>\n",
              "            <td>138.99</td>\n",
              "            <td>1</td>\n",
              "            <td>6</td>\n",
              "        </tr>\n",
              "        <tr>\n",
              "            <td>12</td>\n",
              "            <td>Mouse</td>\n",
              "            <td>11.89</td>\n",
              "            <td>13</td>\n",
              "            <td>6</td>\n",
              "        </tr>\n",
              "        <tr>\n",
              "            <td>13</td>\n",
              "            <td>Apple Keyboard</td>\n",
              "            <td>129.99</td>\n",
              "            <td>43</td>\n",
              "            <td>7</td>\n",
              "        </tr>\n",
              "        <tr>\n",
              "            <td>14</td>\n",
              "            <td>External Port Adapter</td>\n",
              "            <td>55.99</td>\n",
              "            <td>92</td>\n",
              "            <td>7</td>\n",
              "        </tr>\n",
              "        <tr>\n",
              "            <td>15</td>\n",
              "            <td>Xbox 360 Controller</td>\n",
              "            <td>29.99</td>\n",
              "            <td>14</td>\n",
              "            <td>8</td>\n",
              "        </tr>\n",
              "        <tr>\n",
              "            <td>16</td>\n",
              "            <td>PlayStation 3 Console</td>\n",
              "            <td>99.99</td>\n",
              "            <td>24</td>\n",
              "            <td>8</td>\n",
              "        </tr>\n",
              "        <tr>\n",
              "            <td>17</td>\n",
              "            <td>PlayStation Store Credit</td>\n",
              "            <td>75.0</td>\n",
              "            <td>69</td>\n",
              "            <td>9</td>\n",
              "        </tr>\n",
              "        <tr>\n",
              "            <td>18</td>\n",
              "            <td>Universal TV Remote</td>\n",
              "            <td>13.98</td>\n",
              "            <td>81</td>\n",
              "            <td>10</td>\n",
              "        </tr>\n",
              "        <tr>\n",
              "            <td>19</td>\n",
              "            <td>Virtual Reality Headset</td>\n",
              "            <td>399.99</td>\n",
              "            <td>6</td>\n",
              "            <td>11</td>\n",
              "        </tr>\n",
              "    </tbody>\n",
              "</table>"
            ]
          },
          "metadata": {},
          "execution_count": 22
        }
      ]
    },
    {
      "cell_type": "code",
      "source": [
        "%%sql \n",
        "\n",
        "INSERT INTO VisitorStatus([Status]) VALUES ('Member');\n",
        "INSERT INTO VisitorStatus([Status]) VALUES ('Visitor');\n"
      ],
      "metadata": {
        "colab": {
          "base_uri": "https://localhost:8080/"
        },
        "id": "TeZFVmYNkbjm",
        "outputId": "3ef4c511-e53d-443c-92da-be34b5b40068"
      },
      "execution_count": 23,
      "outputs": [
        {
          "output_type": "stream",
          "name": "stdout",
          "text": [
            " * sqlite:///projectdb.db\n",
            "1 rows affected.\n",
            "1 rows affected.\n"
          ]
        },
        {
          "output_type": "execute_result",
          "data": {
            "text/plain": [
              "[]"
            ]
          },
          "metadata": {},
          "execution_count": 23
        }
      ]
    },
    {
      "cell_type": "code",
      "source": [
        "%%sql\n",
        "\n",
        "SELECT * FROM VisitorStatus;"
      ],
      "metadata": {
        "colab": {
          "base_uri": "https://localhost:8080/",
          "height": 116
        },
        "id": "27WfObmCk9-X",
        "outputId": "926d819d-76eb-4640-e70f-6aa170962946"
      },
      "execution_count": 24,
      "outputs": [
        {
          "output_type": "stream",
          "name": "stdout",
          "text": [
            " * sqlite:///projectdb.db\n",
            "Done.\n"
          ]
        },
        {
          "output_type": "execute_result",
          "data": {
            "text/plain": [
              "[(1, 'Member'), (2, 'Visitor')]"
            ],
            "text/html": [
              "<table>\n",
              "    <thead>\n",
              "        <tr>\n",
              "            <th>ID</th>\n",
              "            <th>status</th>\n",
              "        </tr>\n",
              "    </thead>\n",
              "    <tbody>\n",
              "        <tr>\n",
              "            <td>1</td>\n",
              "            <td>Member</td>\n",
              "        </tr>\n",
              "        <tr>\n",
              "            <td>2</td>\n",
              "            <td>Visitor</td>\n",
              "        </tr>\n",
              "    </tbody>\n",
              "</table>"
            ]
          },
          "metadata": {},
          "execution_count": 24
        }
      ]
    },
    {
      "cell_type": "code",
      "source": [
        "%%sql\n",
        "\n",
        "INSERT INTO cart([itemID],[systemID]) VALUES (1,1);\n",
        "INSERT INTO cart([itemID],[systemID]) VALUES (2,1);\n",
        "INSERT INTO cart([itemID],[systemID]) VALUES (3,2);\n",
        "INSERT INTO cart([itemID],[systemID]) VALUES (4,2);\n",
        "INSERT INTO cart([itemID],[systemID]) VALUES (5,3);\n",
        "INSERT INTO cart([itemID],[systemID]) VALUES (6,3);\n",
        "INSERT INTO cart([itemID],[systemID]) VALUES (7,4);\n",
        "INSERT INTO cart([itemID],[systemID]) VALUES (8,4);\n",
        "INSERT INTO cart([itemID],[systemID]) VALUES (9,5);\n",
        "INSERT INTO cart([itemID],[systemID]) VALUES (10,5);\n",
        "INSERT INTO cart([itemID],[systemID]) VALUES (11,6);\n",
        "INSERT INTO cart([itemID],[systemID]) VALUES (12,6);\n"
      ],
      "metadata": {
        "colab": {
          "base_uri": "https://localhost:8080/"
        },
        "id": "E8J6chQAlCD0",
        "outputId": "7072b22d-dc46-44ce-90bf-e7c690cd5645"
      },
      "execution_count": 25,
      "outputs": [
        {
          "output_type": "stream",
          "name": "stdout",
          "text": [
            " * sqlite:///projectdb.db\n",
            "1 rows affected.\n",
            "1 rows affected.\n",
            "1 rows affected.\n",
            "1 rows affected.\n",
            "1 rows affected.\n",
            "1 rows affected.\n",
            "1 rows affected.\n",
            "1 rows affected.\n",
            "1 rows affected.\n",
            "1 rows affected.\n",
            "1 rows affected.\n",
            "1 rows affected.\n"
          ]
        },
        {
          "output_type": "execute_result",
          "data": {
            "text/plain": [
              "[]"
            ]
          },
          "metadata": {},
          "execution_count": 25
        }
      ]
    },
    {
      "cell_type": "code",
      "source": [
        "%%sql\n",
        "\n",
        "SELECT * FROM cart;"
      ],
      "metadata": {
        "colab": {
          "base_uri": "https://localhost:8080/",
          "height": 326
        },
        "id": "VfgpMTnRlr4v",
        "outputId": "21341e4b-453b-4b32-956e-897e4cd4f1b4"
      },
      "execution_count": 26,
      "outputs": [
        {
          "output_type": "stream",
          "name": "stdout",
          "text": [
            " * sqlite:///projectdb.db\n",
            "Done.\n"
          ]
        },
        {
          "output_type": "execute_result",
          "data": {
            "text/plain": [
              "[(1, 1, 1),\n",
              " (2, 2, 1),\n",
              " (3, 3, 2),\n",
              " (4, 4, 2),\n",
              " (5, 5, 3),\n",
              " (6, 6, 3),\n",
              " (7, 7, 4),\n",
              " (8, 8, 4),\n",
              " (9, 9, 5),\n",
              " (10, 10, 5),\n",
              " (11, 11, 6),\n",
              " (12, 12, 6)]"
            ],
            "text/html": [
              "<table>\n",
              "    <thead>\n",
              "        <tr>\n",
              "            <th>ID</th>\n",
              "            <th>itemID</th>\n",
              "            <th>systemID</th>\n",
              "        </tr>\n",
              "    </thead>\n",
              "    <tbody>\n",
              "        <tr>\n",
              "            <td>1</td>\n",
              "            <td>1</td>\n",
              "            <td>1</td>\n",
              "        </tr>\n",
              "        <tr>\n",
              "            <td>2</td>\n",
              "            <td>2</td>\n",
              "            <td>1</td>\n",
              "        </tr>\n",
              "        <tr>\n",
              "            <td>3</td>\n",
              "            <td>3</td>\n",
              "            <td>2</td>\n",
              "        </tr>\n",
              "        <tr>\n",
              "            <td>4</td>\n",
              "            <td>4</td>\n",
              "            <td>2</td>\n",
              "        </tr>\n",
              "        <tr>\n",
              "            <td>5</td>\n",
              "            <td>5</td>\n",
              "            <td>3</td>\n",
              "        </tr>\n",
              "        <tr>\n",
              "            <td>6</td>\n",
              "            <td>6</td>\n",
              "            <td>3</td>\n",
              "        </tr>\n",
              "        <tr>\n",
              "            <td>7</td>\n",
              "            <td>7</td>\n",
              "            <td>4</td>\n",
              "        </tr>\n",
              "        <tr>\n",
              "            <td>8</td>\n",
              "            <td>8</td>\n",
              "            <td>4</td>\n",
              "        </tr>\n",
              "        <tr>\n",
              "            <td>9</td>\n",
              "            <td>9</td>\n",
              "            <td>5</td>\n",
              "        </tr>\n",
              "        <tr>\n",
              "            <td>10</td>\n",
              "            <td>10</td>\n",
              "            <td>5</td>\n",
              "        </tr>\n",
              "        <tr>\n",
              "            <td>11</td>\n",
              "            <td>11</td>\n",
              "            <td>6</td>\n",
              "        </tr>\n",
              "        <tr>\n",
              "            <td>12</td>\n",
              "            <td>12</td>\n",
              "            <td>6</td>\n",
              "        </tr>\n",
              "    </tbody>\n",
              "</table>"
            ]
          },
          "metadata": {},
          "execution_count": 26
        }
      ]
    },
    {
      "cell_type": "code",
      "source": [
        "%%sql\n",
        "\n",
        "INSERT INTO visitor([cartID],[VisitorStatusID]) VALUES (1,1);\n",
        "INSERT INTO visitor([cartID],[VisitorStatusID]) VALUES (2,1);\n",
        "INSERT INTO visitor([cartID],[VisitorStatusID]) VALUES (3,2);\n",
        "INSERT INTO visitor([cartID],[VisitorStatusID]) VALUES (4,1);\n",
        "INSERT INTO visitor([cartID],[VisitorStatusID]) VALUES (5,2);\n",
        "INSERT INTO visitor([cartID],[VisitorStatusID]) VALUES (6,2);\n",
        "INSERT INTO visitor([cartID],[VisitorStatusID]) VALUES (7,2);\n",
        "INSERT INTO visitor([cartID],[VisitorStatusID]) VALUES (8,1);\n",
        "INSERT INTO visitor([cartID],[VisitorStatusID]) VALUES (9,1);\n",
        "INSERT INTO visitor([cartID],[VisitorStatusID]) VALUES (10,2);\n",
        "INSERT INTO visitor([cartID],[VisitorStatusID]) VALUES (11,1);\n",
        "INSERT INTO visitor([cartID],[VisitorStatusID]) VALUES (12,2);"
      ],
      "metadata": {
        "colab": {
          "base_uri": "https://localhost:8080/"
        },
        "id": "-T9zkB1BlwM1",
        "outputId": "470b85e4-3274-4739-8f09-c7c034719c59"
      },
      "execution_count": 27,
      "outputs": [
        {
          "output_type": "stream",
          "name": "stdout",
          "text": [
            " * sqlite:///projectdb.db\n",
            "1 rows affected.\n",
            "1 rows affected.\n",
            "1 rows affected.\n",
            "1 rows affected.\n",
            "1 rows affected.\n",
            "1 rows affected.\n",
            "1 rows affected.\n",
            "1 rows affected.\n",
            "1 rows affected.\n",
            "1 rows affected.\n",
            "1 rows affected.\n",
            "1 rows affected.\n"
          ]
        },
        {
          "output_type": "execute_result",
          "data": {
            "text/plain": [
              "[]"
            ]
          },
          "metadata": {},
          "execution_count": 27
        }
      ]
    },
    {
      "cell_type": "code",
      "source": [
        "%%sql\n",
        "\n",
        "SELECT * FROM visitor;"
      ],
      "metadata": {
        "colab": {
          "base_uri": "https://localhost:8080/",
          "height": 326
        },
        "id": "FKYD0EHTmlBh",
        "outputId": "3adafe1b-4ca1-4458-d7c3-bdc669335ac4"
      },
      "execution_count": 28,
      "outputs": [
        {
          "output_type": "stream",
          "name": "stdout",
          "text": [
            " * sqlite:///projectdb.db\n",
            "Done.\n"
          ]
        },
        {
          "output_type": "execute_result",
          "data": {
            "text/plain": [
              "[(1, 1, 1),\n",
              " (2, 1, 2),\n",
              " (3, 2, 3),\n",
              " (4, 1, 4),\n",
              " (5, 2, 5),\n",
              " (6, 2, 6),\n",
              " (7, 2, 7),\n",
              " (8, 1, 8),\n",
              " (9, 1, 9),\n",
              " (10, 2, 10),\n",
              " (11, 1, 11),\n",
              " (12, 2, 12)]"
            ],
            "text/html": [
              "<table>\n",
              "    <thead>\n",
              "        <tr>\n",
              "            <th>ID</th>\n",
              "            <th>VisitorStatusID</th>\n",
              "            <th>cartID</th>\n",
              "        </tr>\n",
              "    </thead>\n",
              "    <tbody>\n",
              "        <tr>\n",
              "            <td>1</td>\n",
              "            <td>1</td>\n",
              "            <td>1</td>\n",
              "        </tr>\n",
              "        <tr>\n",
              "            <td>2</td>\n",
              "            <td>1</td>\n",
              "            <td>2</td>\n",
              "        </tr>\n",
              "        <tr>\n",
              "            <td>3</td>\n",
              "            <td>2</td>\n",
              "            <td>3</td>\n",
              "        </tr>\n",
              "        <tr>\n",
              "            <td>4</td>\n",
              "            <td>1</td>\n",
              "            <td>4</td>\n",
              "        </tr>\n",
              "        <tr>\n",
              "            <td>5</td>\n",
              "            <td>2</td>\n",
              "            <td>5</td>\n",
              "        </tr>\n",
              "        <tr>\n",
              "            <td>6</td>\n",
              "            <td>2</td>\n",
              "            <td>6</td>\n",
              "        </tr>\n",
              "        <tr>\n",
              "            <td>7</td>\n",
              "            <td>2</td>\n",
              "            <td>7</td>\n",
              "        </tr>\n",
              "        <tr>\n",
              "            <td>8</td>\n",
              "            <td>1</td>\n",
              "            <td>8</td>\n",
              "        </tr>\n",
              "        <tr>\n",
              "            <td>9</td>\n",
              "            <td>1</td>\n",
              "            <td>9</td>\n",
              "        </tr>\n",
              "        <tr>\n",
              "            <td>10</td>\n",
              "            <td>2</td>\n",
              "            <td>10</td>\n",
              "        </tr>\n",
              "        <tr>\n",
              "            <td>11</td>\n",
              "            <td>1</td>\n",
              "            <td>11</td>\n",
              "        </tr>\n",
              "        <tr>\n",
              "            <td>12</td>\n",
              "            <td>2</td>\n",
              "            <td>12</td>\n",
              "        </tr>\n",
              "    </tbody>\n",
              "</table>"
            ]
          },
          "metadata": {},
          "execution_count": 28
        }
      ]
    },
    {
      "cell_type": "code",
      "source": [
        "%%sql\n",
        "\n",
        "INSERT INTO deals([itemID],[start],[end],[savings]) VALUES (1,\"2022-2-14\",date(),\"20%\");\n",
        "INSERT INTO deals([itemID],[start],[end],[savings]) VALUES (2,date(),date(),\"10%\");\n",
        "INSERT INTO deals([itemID],[start],[end],[savings]) VALUES (3,date(),date(),\"5%\");\n",
        "INSERT INTO deals([itemID],[start],[end],[savings]) VALUES (4,date(),date(),\"8%\");\n",
        "INSERT INTO deals([itemID],[start],[end],[savings]) VALUES (5,date(),date(),\"12%\");\n",
        "INSERT INTO deals([itemID],[start],[end],[savings]) VALUES (6,date(),date(),\"25%\");\n",
        "INSERT INTO deals([itemID],[start],[end],[savings]) VALUES (7,date(),date(),\"50%\");\n",
        "INSERT INTO deals([itemID],[start],[end],[savings]) VALUES (8,date(),date(),\"60%\");\n",
        "INSERT INTO deals([itemID],[start],[end],[savings]) VALUES (9,date(),date(),\"15%\");\n",
        "INSERT INTO deals([itemID],[start],[end],[savings]) VALUES (10,date(),date(),\"22%\");\n",
        "INSERT INTO deals([itemID],[start],[end],[savings]) VALUES (11,date(),date(),\"30%\");\n",
        "INSERT INTO deals([itemID],[start],[end],[savings]) VALUES (12,date(),date(),\"40%\");"
      ],
      "metadata": {
        "colab": {
          "base_uri": "https://localhost:8080/"
        },
        "id": "11bJ1YSXmuBv",
        "outputId": "ac75716c-ec2e-40ae-bdbc-847331be274b"
      },
      "execution_count": 29,
      "outputs": [
        {
          "output_type": "stream",
          "name": "stdout",
          "text": [
            " * sqlite:///projectdb.db\n",
            "1 rows affected.\n",
            "1 rows affected.\n",
            "1 rows affected.\n",
            "1 rows affected.\n",
            "1 rows affected.\n",
            "1 rows affected.\n",
            "1 rows affected.\n",
            "1 rows affected.\n",
            "1 rows affected.\n",
            "1 rows affected.\n",
            "1 rows affected.\n",
            "1 rows affected.\n"
          ]
        },
        {
          "output_type": "execute_result",
          "data": {
            "text/plain": [
              "[]"
            ]
          },
          "metadata": {},
          "execution_count": 29
        }
      ]
    },
    {
      "cell_type": "code",
      "source": [
        "%%sql\n",
        "\n",
        "SELECT * FROM deals;"
      ],
      "metadata": {
        "colab": {
          "base_uri": "https://localhost:8080/",
          "height": 326
        },
        "id": "Ce5ohOeDnxUA",
        "outputId": "bf7d5257-318d-4c87-a982-01db92fb22c2"
      },
      "execution_count": 30,
      "outputs": [
        {
          "output_type": "stream",
          "name": "stdout",
          "text": [
            " * sqlite:///projectdb.db\n",
            "Done.\n"
          ]
        },
        {
          "output_type": "execute_result",
          "data": {
            "text/plain": [
              "[(1, 1, '2022-2-14', '2022-04-04', '20%'),\n",
              " (2, 2, '2022-04-04', '2022-04-04', '10%'),\n",
              " (3, 3, '2022-04-04', '2022-04-04', '5%'),\n",
              " (4, 4, '2022-04-04', '2022-04-04', '8%'),\n",
              " (5, 5, '2022-04-04', '2022-04-04', '12%'),\n",
              " (6, 6, '2022-04-04', '2022-04-04', '25%'),\n",
              " (7, 7, '2022-04-04', '2022-04-04', '50%'),\n",
              " (8, 8, '2022-04-04', '2022-04-04', '60%'),\n",
              " (9, 9, '2022-04-04', '2022-04-04', '15%'),\n",
              " (10, 10, '2022-04-04', '2022-04-04', '22%'),\n",
              " (11, 11, '2022-04-04', '2022-04-04', '30%'),\n",
              " (12, 12, '2022-04-04', '2022-04-04', '40%')]"
            ],
            "text/html": [
              "<table>\n",
              "    <thead>\n",
              "        <tr>\n",
              "            <th>ID</th>\n",
              "            <th>itemID</th>\n",
              "            <th>start</th>\n",
              "            <th>end</th>\n",
              "            <th>savings</th>\n",
              "        </tr>\n",
              "    </thead>\n",
              "    <tbody>\n",
              "        <tr>\n",
              "            <td>1</td>\n",
              "            <td>1</td>\n",
              "            <td>2022-2-14</td>\n",
              "            <td>2022-04-04</td>\n",
              "            <td>20%</td>\n",
              "        </tr>\n",
              "        <tr>\n",
              "            <td>2</td>\n",
              "            <td>2</td>\n",
              "            <td>2022-04-04</td>\n",
              "            <td>2022-04-04</td>\n",
              "            <td>10%</td>\n",
              "        </tr>\n",
              "        <tr>\n",
              "            <td>3</td>\n",
              "            <td>3</td>\n",
              "            <td>2022-04-04</td>\n",
              "            <td>2022-04-04</td>\n",
              "            <td>5%</td>\n",
              "        </tr>\n",
              "        <tr>\n",
              "            <td>4</td>\n",
              "            <td>4</td>\n",
              "            <td>2022-04-04</td>\n",
              "            <td>2022-04-04</td>\n",
              "            <td>8%</td>\n",
              "        </tr>\n",
              "        <tr>\n",
              "            <td>5</td>\n",
              "            <td>5</td>\n",
              "            <td>2022-04-04</td>\n",
              "            <td>2022-04-04</td>\n",
              "            <td>12%</td>\n",
              "        </tr>\n",
              "        <tr>\n",
              "            <td>6</td>\n",
              "            <td>6</td>\n",
              "            <td>2022-04-04</td>\n",
              "            <td>2022-04-04</td>\n",
              "            <td>25%</td>\n",
              "        </tr>\n",
              "        <tr>\n",
              "            <td>7</td>\n",
              "            <td>7</td>\n",
              "            <td>2022-04-04</td>\n",
              "            <td>2022-04-04</td>\n",
              "            <td>50%</td>\n",
              "        </tr>\n",
              "        <tr>\n",
              "            <td>8</td>\n",
              "            <td>8</td>\n",
              "            <td>2022-04-04</td>\n",
              "            <td>2022-04-04</td>\n",
              "            <td>60%</td>\n",
              "        </tr>\n",
              "        <tr>\n",
              "            <td>9</td>\n",
              "            <td>9</td>\n",
              "            <td>2022-04-04</td>\n",
              "            <td>2022-04-04</td>\n",
              "            <td>15%</td>\n",
              "        </tr>\n",
              "        <tr>\n",
              "            <td>10</td>\n",
              "            <td>10</td>\n",
              "            <td>2022-04-04</td>\n",
              "            <td>2022-04-04</td>\n",
              "            <td>22%</td>\n",
              "        </tr>\n",
              "        <tr>\n",
              "            <td>11</td>\n",
              "            <td>11</td>\n",
              "            <td>2022-04-04</td>\n",
              "            <td>2022-04-04</td>\n",
              "            <td>30%</td>\n",
              "        </tr>\n",
              "        <tr>\n",
              "            <td>12</td>\n",
              "            <td>12</td>\n",
              "            <td>2022-04-04</td>\n",
              "            <td>2022-04-04</td>\n",
              "            <td>40%</td>\n",
              "        </tr>\n",
              "    </tbody>\n",
              "</table>"
            ]
          },
          "metadata": {},
          "execution_count": 30
        }
      ]
    },
    {
      "cell_type": "code",
      "source": [
        "%%sql\n",
        "\n",
        "INSERT INTO payment([cardName],[cardNumber],[cardExpDate],[cardCSV]) VALUES (\"Bill\",\"111111111111\",\"01/22\",\"111\");\n",
        "INSERT INTO payment([cardName],[cardNumber],[cardExpDate],[cardCSV]) VALUES (\"Will\",\"222222222222\",\"02/22\",\"222\");\n",
        "INSERT INTO payment([cardName],[cardNumber],[cardExpDate],[cardCSV]) VALUES (\"Jill\",\"333333333333\",\"03/22\",\"333\");\n",
        "INSERT INTO payment([cardName],[cardNumber],[cardExpDate],[cardCSV]) VALUES (\"William\",\"444444444444\",\"04/22\",\"444\");\n",
        "INSERT INTO payment([cardName],[cardNumber],[cardExpDate],[cardCSV]) VALUES (\"Dale\",\"555555555555\",\"05/22\",\"555\");\n",
        "INSERT INTO payment([cardName],[cardNumber],[cardExpDate],[cardCSV]) VALUES (\"Bale\",\"666666666666\",\"06/22\",\"666\");\n",
        "INSERT INTO payment([cardName],[cardNumber],[cardExpDate],[cardCSV]) VALUES (\"Jim\",\"777777777777\",\"07/22\",\"777\");\n",
        "INSERT INTO payment([cardName],[cardNumber],[cardExpDate],[cardCSV]) VALUES (\"Dave\",\"888888888888\",\"08/22\",\"888\");\n",
        "INSERT INTO payment([cardName],[cardNumber],[cardExpDate],[cardCSV]) VALUES (\"Katy\",\"999999999999\",\"09/22\",\"999\");\n",
        "INSERT INTO payment([cardName],[cardNumber],[cardExpDate],[cardCSV]) VALUES (\"Zoey\",\"101010101010\",\"10/22\",\"101\");\n",
        "INSERT INTO payment([cardName],[cardNumber],[cardExpDate],[cardCSV]) VALUES (\"Cole\",\"110110110110\",\"11/22\",\"112\");\n",
        "INSERT INTO payment([cardName],[cardNumber],[cardExpDate],[cardCSV]) VALUES (\"Chloe\",\"121212121212\",\"12/22\",\"121\");"
      ],
      "metadata": {
        "colab": {
          "base_uri": "https://localhost:8080/"
        },
        "id": "pVYHQrbun4lP",
        "outputId": "9810ad9e-f3f0-4909-f2ab-171fbeb23a29"
      },
      "execution_count": 31,
      "outputs": [
        {
          "output_type": "stream",
          "name": "stdout",
          "text": [
            " * sqlite:///projectdb.db\n",
            "1 rows affected.\n",
            "1 rows affected.\n",
            "1 rows affected.\n",
            "1 rows affected.\n",
            "1 rows affected.\n",
            "1 rows affected.\n",
            "1 rows affected.\n",
            "1 rows affected.\n",
            "1 rows affected.\n",
            "1 rows affected.\n",
            "1 rows affected.\n",
            "1 rows affected.\n"
          ]
        },
        {
          "output_type": "execute_result",
          "data": {
            "text/plain": [
              "[]"
            ]
          },
          "metadata": {},
          "execution_count": 31
        }
      ]
    },
    {
      "cell_type": "code",
      "source": [
        "%%sql\n",
        "\n",
        "SELECT * FROM payment;"
      ],
      "metadata": {
        "colab": {
          "base_uri": "https://localhost:8080/",
          "height": 326
        },
        "id": "CmCdI1DirH-i",
        "outputId": "19b8a45f-e048-449c-b605-9048cc6856a8"
      },
      "execution_count": 32,
      "outputs": [
        {
          "output_type": "stream",
          "name": "stdout",
          "text": [
            " * sqlite:///projectdb.db\n",
            "Done.\n"
          ]
        },
        {
          "output_type": "execute_result",
          "data": {
            "text/plain": [
              "[(1, 'Bill', '111111111111', '01/22', '111'),\n",
              " (2, 'Will', '222222222222', '02/22', '222'),\n",
              " (3, 'Jill', '333333333333', '03/22', '333'),\n",
              " (4, 'William', '444444444444', '04/22', '444'),\n",
              " (5, 'Dale', '555555555555', '05/22', '555'),\n",
              " (6, 'Bale', '666666666666', '06/22', '666'),\n",
              " (7, 'Jim', '777777777777', '07/22', '777'),\n",
              " (8, 'Dave', '888888888888', '08/22', '888'),\n",
              " (9, 'Katy', '999999999999', '09/22', '999'),\n",
              " (10, 'Zoey', '101010101010', '10/22', '101'),\n",
              " (11, 'Cole', '110110110110', '11/22', '112'),\n",
              " (12, 'Chloe', '121212121212', '12/22', '121')]"
            ],
            "text/html": [
              "<table>\n",
              "    <thead>\n",
              "        <tr>\n",
              "            <th>ID</th>\n",
              "            <th>cardName</th>\n",
              "            <th>cardNumber</th>\n",
              "            <th>cardExpDate</th>\n",
              "            <th>cardCSV</th>\n",
              "        </tr>\n",
              "    </thead>\n",
              "    <tbody>\n",
              "        <tr>\n",
              "            <td>1</td>\n",
              "            <td>Bill</td>\n",
              "            <td>111111111111</td>\n",
              "            <td>01/22</td>\n",
              "            <td>111</td>\n",
              "        </tr>\n",
              "        <tr>\n",
              "            <td>2</td>\n",
              "            <td>Will</td>\n",
              "            <td>222222222222</td>\n",
              "            <td>02/22</td>\n",
              "            <td>222</td>\n",
              "        </tr>\n",
              "        <tr>\n",
              "            <td>3</td>\n",
              "            <td>Jill</td>\n",
              "            <td>333333333333</td>\n",
              "            <td>03/22</td>\n",
              "            <td>333</td>\n",
              "        </tr>\n",
              "        <tr>\n",
              "            <td>4</td>\n",
              "            <td>William</td>\n",
              "            <td>444444444444</td>\n",
              "            <td>04/22</td>\n",
              "            <td>444</td>\n",
              "        </tr>\n",
              "        <tr>\n",
              "            <td>5</td>\n",
              "            <td>Dale</td>\n",
              "            <td>555555555555</td>\n",
              "            <td>05/22</td>\n",
              "            <td>555</td>\n",
              "        </tr>\n",
              "        <tr>\n",
              "            <td>6</td>\n",
              "            <td>Bale</td>\n",
              "            <td>666666666666</td>\n",
              "            <td>06/22</td>\n",
              "            <td>666</td>\n",
              "        </tr>\n",
              "        <tr>\n",
              "            <td>7</td>\n",
              "            <td>Jim</td>\n",
              "            <td>777777777777</td>\n",
              "            <td>07/22</td>\n",
              "            <td>777</td>\n",
              "        </tr>\n",
              "        <tr>\n",
              "            <td>8</td>\n",
              "            <td>Dave</td>\n",
              "            <td>888888888888</td>\n",
              "            <td>08/22</td>\n",
              "            <td>888</td>\n",
              "        </tr>\n",
              "        <tr>\n",
              "            <td>9</td>\n",
              "            <td>Katy</td>\n",
              "            <td>999999999999</td>\n",
              "            <td>09/22</td>\n",
              "            <td>999</td>\n",
              "        </tr>\n",
              "        <tr>\n",
              "            <td>10</td>\n",
              "            <td>Zoey</td>\n",
              "            <td>101010101010</td>\n",
              "            <td>10/22</td>\n",
              "            <td>101</td>\n",
              "        </tr>\n",
              "        <tr>\n",
              "            <td>11</td>\n",
              "            <td>Cole</td>\n",
              "            <td>110110110110</td>\n",
              "            <td>11/22</td>\n",
              "            <td>112</td>\n",
              "        </tr>\n",
              "        <tr>\n",
              "            <td>12</td>\n",
              "            <td>Chloe</td>\n",
              "            <td>121212121212</td>\n",
              "            <td>12/22</td>\n",
              "            <td>121</td>\n",
              "        </tr>\n",
              "    </tbody>\n",
              "</table>"
            ]
          },
          "metadata": {},
          "execution_count": 32
        }
      ]
    },
    {
      "cell_type": "code",
      "source": [
        "%%sql\n",
        "\n",
        "INSERT INTO PreviousOrder([item1ID],[item2ID],[item3ID],[item4ID]) VALUES (1,1,1,1);\n",
        "INSERT INTO PreviousOrder([item1ID],[item2ID],[item3ID],[item4ID]) VALUES (2,2,2,2);\n",
        "INSERT INTO PreviousOrder([item1ID],[item2ID],[item3ID],[item4ID]) VALUES (3,3,3,3);\n",
        "INSERT INTO PreviousOrder([item1ID],[item2ID],[item3ID],[item4ID]) VALUES (4,4,4,4);\n",
        "INSERT INTO PreviousOrder([item1ID],[item2ID],[item3ID],[item4ID]) VALUES (5,5,5,5);\n",
        "INSERT INTO PreviousOrder([item1ID],[item2ID],[item3ID],[item4ID]) VALUES (6,6,6,6);\n",
        "INSERT INTO PreviousOrder([item1ID],[item2ID],[item3ID],[item4ID]) VALUES (7,7,7,7);\n",
        "INSERT INTO PreviousOrder([item1ID],[item2ID],[item3ID],[item4ID]) VALUES (8,8,8,8);\n",
        "INSERT INTO PreviousOrder([item1ID],[item2ID],[item3ID],[item4ID]) VALUES (9,9,9,9);\n",
        "INSERT INTO PreviousOrder([item1ID],[item2ID],[item3ID],[item4ID]) VALUES (10,10,10,10);\n",
        "INSERT INTO PreviousOrder([item1ID],[item2ID],[item3ID],[item4ID]) VALUES (11,11,11,11);\n",
        "INSERT INTO PreviousOrder([item1ID],[item2ID],[item3ID],[item4ID]) VALUES (12,12,12,12);"
      ],
      "metadata": {
        "colab": {
          "base_uri": "https://localhost:8080/"
        },
        "id": "Y7fCDFHLrhsg",
        "outputId": "b44b86a6-b7de-453b-cbaf-1b1d9c4e5047"
      },
      "execution_count": 33,
      "outputs": [
        {
          "output_type": "stream",
          "name": "stdout",
          "text": [
            " * sqlite:///projectdb.db\n",
            "1 rows affected.\n",
            "1 rows affected.\n",
            "1 rows affected.\n",
            "1 rows affected.\n",
            "1 rows affected.\n",
            "1 rows affected.\n",
            "1 rows affected.\n",
            "1 rows affected.\n",
            "1 rows affected.\n",
            "1 rows affected.\n",
            "1 rows affected.\n",
            "1 rows affected.\n"
          ]
        },
        {
          "output_type": "execute_result",
          "data": {
            "text/plain": [
              "[]"
            ]
          },
          "metadata": {},
          "execution_count": 33
        }
      ]
    },
    {
      "cell_type": "code",
      "source": [
        "%%sql\n",
        "\n",
        "SELECT * FROM PreviousOrder;"
      ],
      "metadata": {
        "colab": {
          "base_uri": "https://localhost:8080/",
          "height": 326
        },
        "id": "8lcMScVRuIty",
        "outputId": "f415642f-fe94-4a01-c7af-9577f64e53cf"
      },
      "execution_count": 34,
      "outputs": [
        {
          "output_type": "stream",
          "name": "stdout",
          "text": [
            " * sqlite:///projectdb.db\n",
            "Done.\n"
          ]
        },
        {
          "output_type": "execute_result",
          "data": {
            "text/plain": [
              "[(1, 1, 1, 1, 1),\n",
              " (2, 2, 2, 2, 2),\n",
              " (3, 3, 3, 3, 3),\n",
              " (4, 4, 4, 4, 4),\n",
              " (5, 5, 5, 5, 5),\n",
              " (6, 6, 6, 6, 6),\n",
              " (7, 7, 7, 7, 7),\n",
              " (8, 8, 8, 8, 8),\n",
              " (9, 9, 9, 9, 9),\n",
              " (10, 10, 10, 10, 10),\n",
              " (11, 11, 11, 11, 11),\n",
              " (12, 12, 12, 12, 12)]"
            ],
            "text/html": [
              "<table>\n",
              "    <thead>\n",
              "        <tr>\n",
              "            <th>ID</th>\n",
              "            <th>item1ID</th>\n",
              "            <th>item2ID</th>\n",
              "            <th>item3ID</th>\n",
              "            <th>item4ID</th>\n",
              "        </tr>\n",
              "    </thead>\n",
              "    <tbody>\n",
              "        <tr>\n",
              "            <td>1</td>\n",
              "            <td>1</td>\n",
              "            <td>1</td>\n",
              "            <td>1</td>\n",
              "            <td>1</td>\n",
              "        </tr>\n",
              "        <tr>\n",
              "            <td>2</td>\n",
              "            <td>2</td>\n",
              "            <td>2</td>\n",
              "            <td>2</td>\n",
              "            <td>2</td>\n",
              "        </tr>\n",
              "        <tr>\n",
              "            <td>3</td>\n",
              "            <td>3</td>\n",
              "            <td>3</td>\n",
              "            <td>3</td>\n",
              "            <td>3</td>\n",
              "        </tr>\n",
              "        <tr>\n",
              "            <td>4</td>\n",
              "            <td>4</td>\n",
              "            <td>4</td>\n",
              "            <td>4</td>\n",
              "            <td>4</td>\n",
              "        </tr>\n",
              "        <tr>\n",
              "            <td>5</td>\n",
              "            <td>5</td>\n",
              "            <td>5</td>\n",
              "            <td>5</td>\n",
              "            <td>5</td>\n",
              "        </tr>\n",
              "        <tr>\n",
              "            <td>6</td>\n",
              "            <td>6</td>\n",
              "            <td>6</td>\n",
              "            <td>6</td>\n",
              "            <td>6</td>\n",
              "        </tr>\n",
              "        <tr>\n",
              "            <td>7</td>\n",
              "            <td>7</td>\n",
              "            <td>7</td>\n",
              "            <td>7</td>\n",
              "            <td>7</td>\n",
              "        </tr>\n",
              "        <tr>\n",
              "            <td>8</td>\n",
              "            <td>8</td>\n",
              "            <td>8</td>\n",
              "            <td>8</td>\n",
              "            <td>8</td>\n",
              "        </tr>\n",
              "        <tr>\n",
              "            <td>9</td>\n",
              "            <td>9</td>\n",
              "            <td>9</td>\n",
              "            <td>9</td>\n",
              "            <td>9</td>\n",
              "        </tr>\n",
              "        <tr>\n",
              "            <td>10</td>\n",
              "            <td>10</td>\n",
              "            <td>10</td>\n",
              "            <td>10</td>\n",
              "            <td>10</td>\n",
              "        </tr>\n",
              "        <tr>\n",
              "            <td>11</td>\n",
              "            <td>11</td>\n",
              "            <td>11</td>\n",
              "            <td>11</td>\n",
              "            <td>11</td>\n",
              "        </tr>\n",
              "        <tr>\n",
              "            <td>12</td>\n",
              "            <td>12</td>\n",
              "            <td>12</td>\n",
              "            <td>12</td>\n",
              "            <td>12</td>\n",
              "        </tr>\n",
              "    </tbody>\n",
              "</table>"
            ]
          },
          "metadata": {},
          "execution_count": 34
        }
      ]
    },
    {
      "cell_type": "code",
      "source": [
        "%%sql\n",
        "\n",
        "INSERT INTO account([accountName],[accountEmail],[accountPaymentID],[PreviousOrderID]) VALUES (\"a\",\"a@gmail.com\",1,1);\n",
        "INSERT INTO account([accountName],[accountEmail],[accountPaymentID],[PreviousOrderID]) VALUES (\"b\",\"b@gmail.com\",2,2);\n",
        "INSERT INTO account([accountName],[accountEmail],[accountPaymentID],[PreviousOrderID]) VALUES (\"c\",\"c@gmail.com\",3,3);\n",
        "INSERT INTO account([accountName],[accountEmail],[accountPaymentID],[PreviousOrderID]) VALUES (\"d\",\"d@gmail.com\",4,4);\n",
        "INSERT INTO account([accountName],[accountEmail],[accountPaymentID],[PreviousOrderID]) VALUES (\"e\",\"e@gmail.com\",5,5);\n",
        "INSERT INTO account([accountName],[accountEmail],[accountPaymentID],[PreviousOrderID]) VALUES (\"f\",\"f@gmail.com\",6,6);\n",
        "INSERT INTO account([accountName],[accountEmail],[accountPaymentID],[PreviousOrderID]) VALUES (\"g\",\"g@gmail.com\",7,7);\n",
        "INSERT INTO account([accountName],[accountEmail],[accountPaymentID],[PreviousOrderID]) VALUES (\"h\",\"h@gmail.com\",8,8);\n",
        "INSERT INTO account([accountName],[accountEmail],[accountPaymentID],[PreviousOrderID]) VALUES (\"i\",\"i@gmail.com\",9,9);\n",
        "INSERT INTO account([accountName],[accountEmail],[accountPaymentID],[PreviousOrderID]) VALUES (\"j\",\"j@gmail.com\",10,10);\n",
        "INSERT INTO account([accountName],[accountEmail],[accountPaymentID],[PreviousOrderID]) VALUES (\"k\",\"k@gmail.com\",11,11);\n",
        "INSERT INTO account([accountName],[accountEmail],[accountPaymentID],[PreviousOrderID]) VALUES (\"l\",\"l@gmail.com\",12,12);"
      ],
      "metadata": {
        "colab": {
          "base_uri": "https://localhost:8080/"
        },
        "id": "1Dmri76yuNK-",
        "outputId": "eb535424-05bc-4397-f676-a8dbb4fd30fe"
      },
      "execution_count": 35,
      "outputs": [
        {
          "output_type": "stream",
          "name": "stdout",
          "text": [
            " * sqlite:///projectdb.db\n",
            "1 rows affected.\n",
            "1 rows affected.\n",
            "1 rows affected.\n",
            "1 rows affected.\n",
            "1 rows affected.\n",
            "1 rows affected.\n",
            "1 rows affected.\n",
            "1 rows affected.\n",
            "1 rows affected.\n",
            "1 rows affected.\n",
            "1 rows affected.\n",
            "1 rows affected.\n"
          ]
        },
        {
          "output_type": "execute_result",
          "data": {
            "text/plain": [
              "[]"
            ]
          },
          "metadata": {},
          "execution_count": 35
        }
      ]
    },
    {
      "cell_type": "code",
      "source": [
        "%%sql\n",
        "\n",
        "SELECT * FROM account;"
      ],
      "metadata": {
        "colab": {
          "base_uri": "https://localhost:8080/",
          "height": 326
        },
        "id": "tq69MMO9v6l8",
        "outputId": "9fc11401-8769-4ccd-ba61-51c77a670fe5"
      },
      "execution_count": 36,
      "outputs": [
        {
          "output_type": "stream",
          "name": "stdout",
          "text": [
            " * sqlite:///projectdb.db\n",
            "Done.\n"
          ]
        },
        {
          "output_type": "execute_result",
          "data": {
            "text/plain": [
              "[(1, 'a', 'a@gmail.com', 1, 1),\n",
              " (2, 'b', 'b@gmail.com', 2, 2),\n",
              " (3, 'c', 'c@gmail.com', 3, 3),\n",
              " (4, 'd', 'd@gmail.com', 4, 4),\n",
              " (5, 'e', 'e@gmail.com', 5, 5),\n",
              " (6, 'f', 'f@gmail.com', 6, 6),\n",
              " (7, 'g', 'g@gmail.com', 7, 7),\n",
              " (8, 'h', 'h@gmail.com', 8, 8),\n",
              " (9, 'i', 'i@gmail.com', 9, 9),\n",
              " (10, 'j', 'j@gmail.com', 10, 10),\n",
              " (11, 'k', 'k@gmail.com', 11, 11),\n",
              " (12, 'l', 'l@gmail.com', 12, 12)]"
            ],
            "text/html": [
              "<table>\n",
              "    <thead>\n",
              "        <tr>\n",
              "            <th>ID</th>\n",
              "            <th>accountName</th>\n",
              "            <th>accountEmail</th>\n",
              "            <th>accountPaymentID</th>\n",
              "            <th>PreviousOrderID</th>\n",
              "        </tr>\n",
              "    </thead>\n",
              "    <tbody>\n",
              "        <tr>\n",
              "            <td>1</td>\n",
              "            <td>a</td>\n",
              "            <td>a@gmail.com</td>\n",
              "            <td>1</td>\n",
              "            <td>1</td>\n",
              "        </tr>\n",
              "        <tr>\n",
              "            <td>2</td>\n",
              "            <td>b</td>\n",
              "            <td>b@gmail.com</td>\n",
              "            <td>2</td>\n",
              "            <td>2</td>\n",
              "        </tr>\n",
              "        <tr>\n",
              "            <td>3</td>\n",
              "            <td>c</td>\n",
              "            <td>c@gmail.com</td>\n",
              "            <td>3</td>\n",
              "            <td>3</td>\n",
              "        </tr>\n",
              "        <tr>\n",
              "            <td>4</td>\n",
              "            <td>d</td>\n",
              "            <td>d@gmail.com</td>\n",
              "            <td>4</td>\n",
              "            <td>4</td>\n",
              "        </tr>\n",
              "        <tr>\n",
              "            <td>5</td>\n",
              "            <td>e</td>\n",
              "            <td>e@gmail.com</td>\n",
              "            <td>5</td>\n",
              "            <td>5</td>\n",
              "        </tr>\n",
              "        <tr>\n",
              "            <td>6</td>\n",
              "            <td>f</td>\n",
              "            <td>f@gmail.com</td>\n",
              "            <td>6</td>\n",
              "            <td>6</td>\n",
              "        </tr>\n",
              "        <tr>\n",
              "            <td>7</td>\n",
              "            <td>g</td>\n",
              "            <td>g@gmail.com</td>\n",
              "            <td>7</td>\n",
              "            <td>7</td>\n",
              "        </tr>\n",
              "        <tr>\n",
              "            <td>8</td>\n",
              "            <td>h</td>\n",
              "            <td>h@gmail.com</td>\n",
              "            <td>8</td>\n",
              "            <td>8</td>\n",
              "        </tr>\n",
              "        <tr>\n",
              "            <td>9</td>\n",
              "            <td>i</td>\n",
              "            <td>i@gmail.com</td>\n",
              "            <td>9</td>\n",
              "            <td>9</td>\n",
              "        </tr>\n",
              "        <tr>\n",
              "            <td>10</td>\n",
              "            <td>j</td>\n",
              "            <td>j@gmail.com</td>\n",
              "            <td>10</td>\n",
              "            <td>10</td>\n",
              "        </tr>\n",
              "        <tr>\n",
              "            <td>11</td>\n",
              "            <td>k</td>\n",
              "            <td>k@gmail.com</td>\n",
              "            <td>11</td>\n",
              "            <td>11</td>\n",
              "        </tr>\n",
              "        <tr>\n",
              "            <td>12</td>\n",
              "            <td>l</td>\n",
              "            <td>l@gmail.com</td>\n",
              "            <td>12</td>\n",
              "            <td>12</td>\n",
              "        </tr>\n",
              "    </tbody>\n",
              "</table>"
            ]
          },
          "metadata": {},
          "execution_count": 36
        }
      ]
    },
    {
      "cell_type": "code",
      "source": [
        "%%sql\n",
        "\n",
        "INSERT INTO associate([email],[name]) VALUES (\"m@gmail.com\",\"m\");\n",
        "INSERT INTO associate([email],[name]) VALUES (\"n@gmail.com\",\"n\");\n",
        "INSERT INTO associate([email],[name]) VALUES (\"o@gmail.com\",\"o\");\n",
        "INSERT INTO associate([email],[name]) VALUES (\"p@gmail.com\",\"p\");\n",
        "INSERT INTO associate([email],[name]) VALUES (\"q@gmail.com\",\"q\");\n",
        "INSERT INTO associate([email],[name]) VALUES (\"r@gmail.com\",\"r\");\n",
        "INSERT INTO associate([email],[name]) VALUES (\"s@gmail.com\",\"s\");\n"
      ],
      "metadata": {
        "colab": {
          "base_uri": "https://localhost:8080/"
        },
        "id": "n1HQpda_v_z2",
        "outputId": "5872e54c-b223-48be-94b9-7d540cc0d7f8"
      },
      "execution_count": 37,
      "outputs": [
        {
          "output_type": "stream",
          "name": "stdout",
          "text": [
            " * sqlite:///projectdb.db\n",
            "1 rows affected.\n",
            "1 rows affected.\n",
            "1 rows affected.\n",
            "1 rows affected.\n",
            "1 rows affected.\n",
            "1 rows affected.\n",
            "1 rows affected.\n"
          ]
        },
        {
          "output_type": "execute_result",
          "data": {
            "text/plain": [
              "[]"
            ]
          },
          "metadata": {},
          "execution_count": 37
        }
      ]
    },
    {
      "cell_type": "code",
      "source": [
        "%%sql\n",
        "\n",
        "SELECT * FROM associate"
      ],
      "metadata": {
        "colab": {
          "base_uri": "https://localhost:8080/",
          "height": 221
        },
        "id": "709Qq_YqwxgO",
        "outputId": "97a2a7ef-88ba-40b6-de06-83d8753c7673"
      },
      "execution_count": 38,
      "outputs": [
        {
          "output_type": "stream",
          "name": "stdout",
          "text": [
            " * sqlite:///projectdb.db\n",
            "Done.\n"
          ]
        },
        {
          "output_type": "execute_result",
          "data": {
            "text/plain": [
              "[(1, 'm@gmail.com', 'm'),\n",
              " (2, 'n@gmail.com', 'n'),\n",
              " (3, 'o@gmail.com', 'o'),\n",
              " (4, 'p@gmail.com', 'p'),\n",
              " (5, 'q@gmail.com', 'q'),\n",
              " (6, 'r@gmail.com', 'r'),\n",
              " (7, 's@gmail.com', 's')]"
            ],
            "text/html": [
              "<table>\n",
              "    <thead>\n",
              "        <tr>\n",
              "            <th>ID</th>\n",
              "            <th>email</th>\n",
              "            <th>name</th>\n",
              "        </tr>\n",
              "    </thead>\n",
              "    <tbody>\n",
              "        <tr>\n",
              "            <td>1</td>\n",
              "            <td>m@gmail.com</td>\n",
              "            <td>m</td>\n",
              "        </tr>\n",
              "        <tr>\n",
              "            <td>2</td>\n",
              "            <td>n@gmail.com</td>\n",
              "            <td>n</td>\n",
              "        </tr>\n",
              "        <tr>\n",
              "            <td>3</td>\n",
              "            <td>o@gmail.com</td>\n",
              "            <td>o</td>\n",
              "        </tr>\n",
              "        <tr>\n",
              "            <td>4</td>\n",
              "            <td>p@gmail.com</td>\n",
              "            <td>p</td>\n",
              "        </tr>\n",
              "        <tr>\n",
              "            <td>5</td>\n",
              "            <td>q@gmail.com</td>\n",
              "            <td>q</td>\n",
              "        </tr>\n",
              "        <tr>\n",
              "            <td>6</td>\n",
              "            <td>r@gmail.com</td>\n",
              "            <td>r</td>\n",
              "        </tr>\n",
              "        <tr>\n",
              "            <td>7</td>\n",
              "            <td>s@gmail.com</td>\n",
              "            <td>s</td>\n",
              "        </tr>\n",
              "    </tbody>\n",
              "</table>"
            ]
          },
          "metadata": {},
          "execution_count": 38
        }
      ]
    },
    {
      "cell_type": "code",
      "source": [
        "%%sql\n",
        "\n",
        "INSERT INTO CustomerService([csPhone],[csEmail],csAssociateID) Values (\"111-111-1111\",\"help@amazon.com\",1);\n",
        "INSERT INTO CustomerService([csPhone],[csEmail],csAssociateID) Values (\"222-222-2222\",\"help@amazon.com\",2);\n",
        "INSERT INTO CustomerService([csPhone],[csEmail],csAssociateID) Values (\"333-333-3333\",\"help@amazon.com\",3);\n",
        "INSERT INTO CustomerService([csPhone],[csEmail],csAssociateID) Values (\"444-444-4444\",\"help@amazon.com\",4);\n",
        "INSERT INTO CustomerService([csPhone],[csEmail],csAssociateID) Values (\"555-555-5555\",\"help@amazon.com\",5);\n",
        "INSERT INTO CustomerService([csPhone],[csEmail],csAssociateID) Values (\"666-666-6666\",\"help@amazon.com\",6);\n",
        "INSERT INTO CustomerService([csPhone],[csEmail],csAssociateID) Values (\"777-777-7777\",\"help@amazon.com\",7);"
      ],
      "metadata": {
        "colab": {
          "base_uri": "https://localhost:8080/"
        },
        "id": "ibO9_ovuw12P",
        "outputId": "62c79eef-041b-4e8d-c3e8-25b214d6a838"
      },
      "execution_count": 39,
      "outputs": [
        {
          "output_type": "stream",
          "name": "stdout",
          "text": [
            " * sqlite:///projectdb.db\n",
            "1 rows affected.\n",
            "1 rows affected.\n",
            "1 rows affected.\n",
            "1 rows affected.\n",
            "1 rows affected.\n",
            "1 rows affected.\n",
            "1 rows affected.\n"
          ]
        },
        {
          "output_type": "execute_result",
          "data": {
            "text/plain": [
              "[]"
            ]
          },
          "metadata": {},
          "execution_count": 39
        }
      ]
    },
    {
      "cell_type": "code",
      "source": [
        "%%sql\n",
        "\n",
        "SELECT * FROM CustomerService"
      ],
      "metadata": {
        "colab": {
          "base_uri": "https://localhost:8080/",
          "height": 221
        },
        "id": "36xHfu5c0YCb",
        "outputId": "a4f77952-dbe8-44ed-f658-9c2f2cede76e"
      },
      "execution_count": 40,
      "outputs": [
        {
          "output_type": "stream",
          "name": "stdout",
          "text": [
            " * sqlite:///projectdb.db\n",
            "Done.\n"
          ]
        },
        {
          "output_type": "execute_result",
          "data": {
            "text/plain": [
              "[(1, '111-111-1111', 'help@amazon.com', 1),\n",
              " (2, '222-222-2222', 'help@amazon.com', 2),\n",
              " (3, '333-333-3333', 'help@amazon.com', 3),\n",
              " (4, '444-444-4444', 'help@amazon.com', 4),\n",
              " (5, '555-555-5555', 'help@amazon.com', 5),\n",
              " (6, '666-666-6666', 'help@amazon.com', 6),\n",
              " (7, '777-777-7777', 'help@amazon.com', 7)]"
            ],
            "text/html": [
              "<table>\n",
              "    <thead>\n",
              "        <tr>\n",
              "            <th>ID</th>\n",
              "            <th>csPhone</th>\n",
              "            <th>csEmail</th>\n",
              "            <th>csAssociateID</th>\n",
              "        </tr>\n",
              "    </thead>\n",
              "    <tbody>\n",
              "        <tr>\n",
              "            <td>1</td>\n",
              "            <td>111-111-1111</td>\n",
              "            <td>help@amazon.com</td>\n",
              "            <td>1</td>\n",
              "        </tr>\n",
              "        <tr>\n",
              "            <td>2</td>\n",
              "            <td>222-222-2222</td>\n",
              "            <td>help@amazon.com</td>\n",
              "            <td>2</td>\n",
              "        </tr>\n",
              "        <tr>\n",
              "            <td>3</td>\n",
              "            <td>333-333-3333</td>\n",
              "            <td>help@amazon.com</td>\n",
              "            <td>3</td>\n",
              "        </tr>\n",
              "        <tr>\n",
              "            <td>4</td>\n",
              "            <td>444-444-4444</td>\n",
              "            <td>help@amazon.com</td>\n",
              "            <td>4</td>\n",
              "        </tr>\n",
              "        <tr>\n",
              "            <td>5</td>\n",
              "            <td>555-555-5555</td>\n",
              "            <td>help@amazon.com</td>\n",
              "            <td>5</td>\n",
              "        </tr>\n",
              "        <tr>\n",
              "            <td>6</td>\n",
              "            <td>666-666-6666</td>\n",
              "            <td>help@amazon.com</td>\n",
              "            <td>6</td>\n",
              "        </tr>\n",
              "        <tr>\n",
              "            <td>7</td>\n",
              "            <td>777-777-7777</td>\n",
              "            <td>help@amazon.com</td>\n",
              "            <td>7</td>\n",
              "        </tr>\n",
              "    </tbody>\n",
              "</table>"
            ]
          },
          "metadata": {},
          "execution_count": 40
        }
      ]
    },
    {
      "cell_type": "code",
      "source": [
        "%%sql\n",
        "\n",
        "INSERT INTO Amazon([HelpCenter],[Accessibility],[Prime],[CustomerServiceID]) VALUES (\"1\",\"1\",\"1\",1);\n",
        "INSERT INTO Amazon([HelpCenter],[Accessibility],[Prime],[CustomerServiceID]) VALUES (\"2\",\"2\",\"2\",2);\n",
        "INSERT INTO Amazon([HelpCenter],[Accessibility],[Prime],[CustomerServiceID]) VALUES (\"3\",\"3\",\"3\",3);\n",
        "INSERT INTO Amazon([HelpCenter],[Accessibility],[Prime],[CustomerServiceID]) VALUES (\"4\",\"4\",\"4\",4);\n",
        "INSERT INTO Amazon([HelpCenter],[Accessibility],[Prime],[CustomerServiceID]) VALUES (\"5\",\"5\",\"5\",5);\n",
        "INSERT INTO Amazon([HelpCenter],[Accessibility],[Prime],[CustomerServiceID]) VALUES (\"6\",\"6\",\"6\",6);\n",
        "INSERT INTO Amazon([HelpCenter],[Accessibility],[Prime],[CustomerServiceID]) VALUES (\"7\",\"7\",\"7\",7);\n",
        "INSERT INTO Amazon([HelpCenter],[Accessibility],[Prime],[CustomerServiceID]) VALUES (\"8\",\"8\",\"8\",1);\n",
        "INSERT INTO Amazon([HelpCenter],[Accessibility],[Prime],[CustomerServiceID]) VALUES (\"9\",\"9\",\"9\",3);\n",
        "INSERT INTO Amazon([HelpCenter],[Accessibility],[Prime],[CustomerServiceID]) VALUES (\"10\",\"10\",\"10\",6);\n",
        "INSERT INTO Amazon([HelpCenter],[Accessibility],[Prime],[CustomerServiceID]) VALUES (\"11\",\"11\",\"11\",4);\n",
        "INSERT INTO Amazon([HelpCenter],[Accessibility],[Prime],[CustomerServiceID]) VALUES (\"12\",\"12\",\"12\",7);"
      ],
      "metadata": {
        "colab": {
          "base_uri": "https://localhost:8080/"
        },
        "id": "9FR37JtZ0OAt",
        "outputId": "8fadd9ff-34c5-4349-a6ed-edbf57d0d07d"
      },
      "execution_count": 41,
      "outputs": [
        {
          "output_type": "stream",
          "name": "stdout",
          "text": [
            " * sqlite:///projectdb.db\n",
            "1 rows affected.\n",
            "1 rows affected.\n",
            "1 rows affected.\n",
            "1 rows affected.\n",
            "1 rows affected.\n",
            "1 rows affected.\n",
            "1 rows affected.\n",
            "1 rows affected.\n",
            "1 rows affected.\n",
            "1 rows affected.\n",
            "1 rows affected.\n",
            "1 rows affected.\n"
          ]
        },
        {
          "output_type": "execute_result",
          "data": {
            "text/plain": [
              "[]"
            ]
          },
          "metadata": {},
          "execution_count": 41
        }
      ]
    },
    {
      "cell_type": "code",
      "source": [
        "%%sql\n",
        "\n",
        "SELECT * FROM Amazon;"
      ],
      "metadata": {
        "colab": {
          "base_uri": "https://localhost:8080/",
          "height": 326
        },
        "id": "qG48WujM1lGi",
        "outputId": "aa61e1fa-a8b8-468c-ccc1-9c2fcb94722c"
      },
      "execution_count": 42,
      "outputs": [
        {
          "output_type": "stream",
          "name": "stdout",
          "text": [
            " * sqlite:///projectdb.db\n",
            "Done.\n"
          ]
        },
        {
          "output_type": "execute_result",
          "data": {
            "text/plain": [
              "[('1', '1', '1', 1),\n",
              " ('2', '2', '2', 2),\n",
              " ('3', '3', '3', 3),\n",
              " ('4', '4', '4', 4),\n",
              " ('5', '5', '5', 5),\n",
              " ('6', '6', '6', 6),\n",
              " ('7', '7', '7', 7),\n",
              " ('8', '8', '8', 1),\n",
              " ('9', '9', '9', 3),\n",
              " ('10', '10', '10', 6),\n",
              " ('11', '11', '11', 4),\n",
              " ('12', '12', '12', 7)]"
            ],
            "text/html": [
              "<table>\n",
              "    <thead>\n",
              "        <tr>\n",
              "            <th>HelpCenter</th>\n",
              "            <th>Accessibility</th>\n",
              "            <th>Prime</th>\n",
              "            <th>CustomerServiceID</th>\n",
              "        </tr>\n",
              "    </thead>\n",
              "    <tbody>\n",
              "        <tr>\n",
              "            <td>1</td>\n",
              "            <td>1</td>\n",
              "            <td>1</td>\n",
              "            <td>1</td>\n",
              "        </tr>\n",
              "        <tr>\n",
              "            <td>2</td>\n",
              "            <td>2</td>\n",
              "            <td>2</td>\n",
              "            <td>2</td>\n",
              "        </tr>\n",
              "        <tr>\n",
              "            <td>3</td>\n",
              "            <td>3</td>\n",
              "            <td>3</td>\n",
              "            <td>3</td>\n",
              "        </tr>\n",
              "        <tr>\n",
              "            <td>4</td>\n",
              "            <td>4</td>\n",
              "            <td>4</td>\n",
              "            <td>4</td>\n",
              "        </tr>\n",
              "        <tr>\n",
              "            <td>5</td>\n",
              "            <td>5</td>\n",
              "            <td>5</td>\n",
              "            <td>5</td>\n",
              "        </tr>\n",
              "        <tr>\n",
              "            <td>6</td>\n",
              "            <td>6</td>\n",
              "            <td>6</td>\n",
              "            <td>6</td>\n",
              "        </tr>\n",
              "        <tr>\n",
              "            <td>7</td>\n",
              "            <td>7</td>\n",
              "            <td>7</td>\n",
              "            <td>7</td>\n",
              "        </tr>\n",
              "        <tr>\n",
              "            <td>8</td>\n",
              "            <td>8</td>\n",
              "            <td>8</td>\n",
              "            <td>1</td>\n",
              "        </tr>\n",
              "        <tr>\n",
              "            <td>9</td>\n",
              "            <td>9</td>\n",
              "            <td>9</td>\n",
              "            <td>3</td>\n",
              "        </tr>\n",
              "        <tr>\n",
              "            <td>10</td>\n",
              "            <td>10</td>\n",
              "            <td>10</td>\n",
              "            <td>6</td>\n",
              "        </tr>\n",
              "        <tr>\n",
              "            <td>11</td>\n",
              "            <td>11</td>\n",
              "            <td>11</td>\n",
              "            <td>4</td>\n",
              "        </tr>\n",
              "        <tr>\n",
              "            <td>12</td>\n",
              "            <td>12</td>\n",
              "            <td>12</td>\n",
              "            <td>7</td>\n",
              "        </tr>\n",
              "    </tbody>\n",
              "</table>"
            ]
          },
          "metadata": {},
          "execution_count": 42
        }
      ]
    },
    {
      "cell_type": "code",
      "source": [
        "%%sql\n",
        "\n",
        "UPDATE deals\n",
        "SET [start] = date()\n",
        "WHERE [itemID] = 1;\n",
        "\n",
        "SELECT * FROM deals;"
      ],
      "metadata": {
        "colab": {
          "base_uri": "https://localhost:8080/",
          "height": 343
        },
        "id": "oJxJxRZi2gPR",
        "outputId": "1bb56c95-e900-478e-e4b7-0beb406d1b4f"
      },
      "execution_count": 43,
      "outputs": [
        {
          "output_type": "stream",
          "name": "stdout",
          "text": [
            " * sqlite:///projectdb.db\n",
            "1 rows affected.\n",
            "Done.\n"
          ]
        },
        {
          "output_type": "execute_result",
          "data": {
            "text/plain": [
              "[(1, 1, '2022-04-04', '2022-04-04', '20%'),\n",
              " (2, 2, '2022-04-04', '2022-04-04', '10%'),\n",
              " (3, 3, '2022-04-04', '2022-04-04', '5%'),\n",
              " (4, 4, '2022-04-04', '2022-04-04', '8%'),\n",
              " (5, 5, '2022-04-04', '2022-04-04', '12%'),\n",
              " (6, 6, '2022-04-04', '2022-04-04', '25%'),\n",
              " (7, 7, '2022-04-04', '2022-04-04', '50%'),\n",
              " (8, 8, '2022-04-04', '2022-04-04', '60%'),\n",
              " (9, 9, '2022-04-04', '2022-04-04', '15%'),\n",
              " (10, 10, '2022-04-04', '2022-04-04', '22%'),\n",
              " (11, 11, '2022-04-04', '2022-04-04', '30%'),\n",
              " (12, 12, '2022-04-04', '2022-04-04', '40%')]"
            ],
            "text/html": [
              "<table>\n",
              "    <thead>\n",
              "        <tr>\n",
              "            <th>ID</th>\n",
              "            <th>itemID</th>\n",
              "            <th>start</th>\n",
              "            <th>end</th>\n",
              "            <th>savings</th>\n",
              "        </tr>\n",
              "    </thead>\n",
              "    <tbody>\n",
              "        <tr>\n",
              "            <td>1</td>\n",
              "            <td>1</td>\n",
              "            <td>2022-04-04</td>\n",
              "            <td>2022-04-04</td>\n",
              "            <td>20%</td>\n",
              "        </tr>\n",
              "        <tr>\n",
              "            <td>2</td>\n",
              "            <td>2</td>\n",
              "            <td>2022-04-04</td>\n",
              "            <td>2022-04-04</td>\n",
              "            <td>10%</td>\n",
              "        </tr>\n",
              "        <tr>\n",
              "            <td>3</td>\n",
              "            <td>3</td>\n",
              "            <td>2022-04-04</td>\n",
              "            <td>2022-04-04</td>\n",
              "            <td>5%</td>\n",
              "        </tr>\n",
              "        <tr>\n",
              "            <td>4</td>\n",
              "            <td>4</td>\n",
              "            <td>2022-04-04</td>\n",
              "            <td>2022-04-04</td>\n",
              "            <td>8%</td>\n",
              "        </tr>\n",
              "        <tr>\n",
              "            <td>5</td>\n",
              "            <td>5</td>\n",
              "            <td>2022-04-04</td>\n",
              "            <td>2022-04-04</td>\n",
              "            <td>12%</td>\n",
              "        </tr>\n",
              "        <tr>\n",
              "            <td>6</td>\n",
              "            <td>6</td>\n",
              "            <td>2022-04-04</td>\n",
              "            <td>2022-04-04</td>\n",
              "            <td>25%</td>\n",
              "        </tr>\n",
              "        <tr>\n",
              "            <td>7</td>\n",
              "            <td>7</td>\n",
              "            <td>2022-04-04</td>\n",
              "            <td>2022-04-04</td>\n",
              "            <td>50%</td>\n",
              "        </tr>\n",
              "        <tr>\n",
              "            <td>8</td>\n",
              "            <td>8</td>\n",
              "            <td>2022-04-04</td>\n",
              "            <td>2022-04-04</td>\n",
              "            <td>60%</td>\n",
              "        </tr>\n",
              "        <tr>\n",
              "            <td>9</td>\n",
              "            <td>9</td>\n",
              "            <td>2022-04-04</td>\n",
              "            <td>2022-04-04</td>\n",
              "            <td>15%</td>\n",
              "        </tr>\n",
              "        <tr>\n",
              "            <td>10</td>\n",
              "            <td>10</td>\n",
              "            <td>2022-04-04</td>\n",
              "            <td>2022-04-04</td>\n",
              "            <td>22%</td>\n",
              "        </tr>\n",
              "        <tr>\n",
              "            <td>11</td>\n",
              "            <td>11</td>\n",
              "            <td>2022-04-04</td>\n",
              "            <td>2022-04-04</td>\n",
              "            <td>30%</td>\n",
              "        </tr>\n",
              "        <tr>\n",
              "            <td>12</td>\n",
              "            <td>12</td>\n",
              "            <td>2022-04-04</td>\n",
              "            <td>2022-04-04</td>\n",
              "            <td>40%</td>\n",
              "        </tr>\n",
              "    </tbody>\n",
              "</table>"
            ]
          },
          "metadata": {},
          "execution_count": 43
        }
      ]
    },
    {
      "cell_type": "code",
      "source": [
        "%%sql\n",
        "\n",
        "SELECT c.ID as ShoppingCartID\n",
        "  ,i.ID as ItemID\n",
        "  ,i.Item as ItemName\n",
        "  ,i.Price as Price\n",
        "  ,i.Stock as Inventory\n",
        "  ,s.ID as SystemID\n",
        "  ,s.System as RequiredSystem\n",
        "  FROM cart c\n",
        "  LEFT JOIN item i ON c.itemID = i.ID\n",
        "  LEFT JOIN system s ON c.systemID = s.ID"
      ],
      "metadata": {
        "colab": {
          "base_uri": "https://localhost:8080/",
          "height": 326
        },
        "id": "2ER5JL_uABpy",
        "outputId": "4c85e731-c90a-4b15-c116-7422812cf991"
      },
      "execution_count": 44,
      "outputs": [
        {
          "output_type": "stream",
          "name": "stdout",
          "text": [
            " * sqlite:///projectdb.db\n",
            "Done.\n"
          ]
        },
        {
          "output_type": "execute_result",
          "data": {
            "text/plain": [
              "[(1, 1, 'Headset', 149.95, 20, 1, 'PlayStation 5'),\n",
              " (2, 2, 'Controller', 74.0, 43, 1, 'PlayStation 5'),\n",
              " (3, 3, 'PlayStation 4 Console', 199.99, 112, 2, 'PlayStation 4'),\n",
              " (4, 4, 'Game Disk', 39.95, 4, 2, 'PlayStation 4'),\n",
              " (5, 5, 'Currency Card', 29.95, 93, 3, 'Xbox Series X & S'),\n",
              " (6, 6, 'Charging Cable', 9.99, 254, 3, 'Xbox Series X & S'),\n",
              " (7, 7, 'Driving Wheel', 279.03, 2, 4, 'Xbox One'),\n",
              " (8, 8, 'Controller Charging Station', 22.99, 31, 4, 'Xbox One'),\n",
              " (9, 9, 'EShop Gift Card', 5.0, 55, 5, 'Nintendo Switch'),\n",
              " (10, 10, 'Pro Controller', 69.99, 77, 5, 'Nintendo Switch'),\n",
              " (11, 11, 'Keyboard', 138.99, 1, 6, 'PC'),\n",
              " (12, 12, 'Mouse', 11.89, 13, 6, 'PC')]"
            ],
            "text/html": [
              "<table>\n",
              "    <thead>\n",
              "        <tr>\n",
              "            <th>ShoppingCartID</th>\n",
              "            <th>ItemID</th>\n",
              "            <th>ItemName</th>\n",
              "            <th>Price</th>\n",
              "            <th>Inventory</th>\n",
              "            <th>SystemID</th>\n",
              "            <th>RequiredSystem</th>\n",
              "        </tr>\n",
              "    </thead>\n",
              "    <tbody>\n",
              "        <tr>\n",
              "            <td>1</td>\n",
              "            <td>1</td>\n",
              "            <td>Headset</td>\n",
              "            <td>149.95</td>\n",
              "            <td>20</td>\n",
              "            <td>1</td>\n",
              "            <td>PlayStation 5</td>\n",
              "        </tr>\n",
              "        <tr>\n",
              "            <td>2</td>\n",
              "            <td>2</td>\n",
              "            <td>Controller</td>\n",
              "            <td>74.0</td>\n",
              "            <td>43</td>\n",
              "            <td>1</td>\n",
              "            <td>PlayStation 5</td>\n",
              "        </tr>\n",
              "        <tr>\n",
              "            <td>3</td>\n",
              "            <td>3</td>\n",
              "            <td>PlayStation 4 Console</td>\n",
              "            <td>199.99</td>\n",
              "            <td>112</td>\n",
              "            <td>2</td>\n",
              "            <td>PlayStation 4</td>\n",
              "        </tr>\n",
              "        <tr>\n",
              "            <td>4</td>\n",
              "            <td>4</td>\n",
              "            <td>Game Disk</td>\n",
              "            <td>39.95</td>\n",
              "            <td>4</td>\n",
              "            <td>2</td>\n",
              "            <td>PlayStation 4</td>\n",
              "        </tr>\n",
              "        <tr>\n",
              "            <td>5</td>\n",
              "            <td>5</td>\n",
              "            <td>Currency Card</td>\n",
              "            <td>29.95</td>\n",
              "            <td>93</td>\n",
              "            <td>3</td>\n",
              "            <td>Xbox Series X &amp; S</td>\n",
              "        </tr>\n",
              "        <tr>\n",
              "            <td>6</td>\n",
              "            <td>6</td>\n",
              "            <td>Charging Cable</td>\n",
              "            <td>9.99</td>\n",
              "            <td>254</td>\n",
              "            <td>3</td>\n",
              "            <td>Xbox Series X &amp; S</td>\n",
              "        </tr>\n",
              "        <tr>\n",
              "            <td>7</td>\n",
              "            <td>7</td>\n",
              "            <td>Driving Wheel</td>\n",
              "            <td>279.03</td>\n",
              "            <td>2</td>\n",
              "            <td>4</td>\n",
              "            <td>Xbox One</td>\n",
              "        </tr>\n",
              "        <tr>\n",
              "            <td>8</td>\n",
              "            <td>8</td>\n",
              "            <td>Controller Charging Station</td>\n",
              "            <td>22.99</td>\n",
              "            <td>31</td>\n",
              "            <td>4</td>\n",
              "            <td>Xbox One</td>\n",
              "        </tr>\n",
              "        <tr>\n",
              "            <td>9</td>\n",
              "            <td>9</td>\n",
              "            <td>EShop Gift Card</td>\n",
              "            <td>5.0</td>\n",
              "            <td>55</td>\n",
              "            <td>5</td>\n",
              "            <td>Nintendo Switch</td>\n",
              "        </tr>\n",
              "        <tr>\n",
              "            <td>10</td>\n",
              "            <td>10</td>\n",
              "            <td>Pro Controller</td>\n",
              "            <td>69.99</td>\n",
              "            <td>77</td>\n",
              "            <td>5</td>\n",
              "            <td>Nintendo Switch</td>\n",
              "        </tr>\n",
              "        <tr>\n",
              "            <td>11</td>\n",
              "            <td>11</td>\n",
              "            <td>Keyboard</td>\n",
              "            <td>138.99</td>\n",
              "            <td>1</td>\n",
              "            <td>6</td>\n",
              "            <td>PC</td>\n",
              "        </tr>\n",
              "        <tr>\n",
              "            <td>12</td>\n",
              "            <td>12</td>\n",
              "            <td>Mouse</td>\n",
              "            <td>11.89</td>\n",
              "            <td>13</td>\n",
              "            <td>6</td>\n",
              "            <td>PC</td>\n",
              "        </tr>\n",
              "    </tbody>\n",
              "</table>"
            ]
          },
          "metadata": {},
          "execution_count": 44
        }
      ]
    },
    {
      "cell_type": "code",
      "source": [
        "%%sql\n",
        "\n",
        "SELECT Item\n",
        "FROM item\n",
        "WHERE Stock < 100\n",
        "\n",
        "EXCEPT\n",
        "\n",
        "SELECT Item\n",
        "FROM item\n",
        "WHERE Stock < 10;"
      ],
      "metadata": {
        "colab": {
          "base_uri": "https://localhost:8080/",
          "height": 347
        },
        "id": "Fyithqi1aZ5k",
        "outputId": "db3dff99-e50e-419c-a8ab-eeccc1f395ac"
      },
      "execution_count": 45,
      "outputs": [
        {
          "output_type": "stream",
          "name": "stdout",
          "text": [
            " * sqlite:///projectdb.db\n",
            "Done.\n"
          ]
        },
        {
          "output_type": "execute_result",
          "data": {
            "text/plain": [
              "[('Apple Keyboard',),\n",
              " ('Controller',),\n",
              " ('Controller Charging Station',),\n",
              " ('Currency Card',),\n",
              " ('EShop Gift Card',),\n",
              " ('External Port Adapter',),\n",
              " ('Headset',),\n",
              " ('Mouse',),\n",
              " ('PlayStation 3 Console',),\n",
              " ('PlayStation Store Credit',),\n",
              " ('Pro Controller',),\n",
              " ('Universal TV Remote',),\n",
              " ('Xbox 360 Controller',)]"
            ],
            "text/html": [
              "<table>\n",
              "    <thead>\n",
              "        <tr>\n",
              "            <th>Item</th>\n",
              "        </tr>\n",
              "    </thead>\n",
              "    <tbody>\n",
              "        <tr>\n",
              "            <td>Apple Keyboard</td>\n",
              "        </tr>\n",
              "        <tr>\n",
              "            <td>Controller</td>\n",
              "        </tr>\n",
              "        <tr>\n",
              "            <td>Controller Charging Station</td>\n",
              "        </tr>\n",
              "        <tr>\n",
              "            <td>Currency Card</td>\n",
              "        </tr>\n",
              "        <tr>\n",
              "            <td>EShop Gift Card</td>\n",
              "        </tr>\n",
              "        <tr>\n",
              "            <td>External Port Adapter</td>\n",
              "        </tr>\n",
              "        <tr>\n",
              "            <td>Headset</td>\n",
              "        </tr>\n",
              "        <tr>\n",
              "            <td>Mouse</td>\n",
              "        </tr>\n",
              "        <tr>\n",
              "            <td>PlayStation 3 Console</td>\n",
              "        </tr>\n",
              "        <tr>\n",
              "            <td>PlayStation Store Credit</td>\n",
              "        </tr>\n",
              "        <tr>\n",
              "            <td>Pro Controller</td>\n",
              "        </tr>\n",
              "        <tr>\n",
              "            <td>Universal TV Remote</td>\n",
              "        </tr>\n",
              "        <tr>\n",
              "            <td>Xbox 360 Controller</td>\n",
              "        </tr>\n",
              "    </tbody>\n",
              "</table>"
            ]
          },
          "metadata": {},
          "execution_count": 45
        }
      ]
    },
    {
      "cell_type": "code",
      "source": [
        "%%sql\n",
        "\n",
        "DROP VIEW IF EXISTS vwItemSummary;\n",
        "CREATE VIEW IF NOT EXISTS vwItemSummary\n",
        "AS\n",
        "SELECT i.ID AS itemID\n",
        "  ,i.item as ItemName\n",
        "  ,'$' || (i.price) AS Price\n",
        "  ,i.Stock as RemainingStock\n",
        "  ,s.System as GamingSystem\n",
        "  FROM item i\n",
        "  INNER JOIN system s ON i.systemID = s.ID;"
      ],
      "metadata": {
        "colab": {
          "base_uri": "https://localhost:8080/"
        },
        "id": "DZckNX-qi8mX",
        "outputId": "13b021d2-ccc7-4a47-aa96-1e4c898c6ddc"
      },
      "execution_count": 46,
      "outputs": [
        {
          "output_type": "stream",
          "name": "stdout",
          "text": [
            " * sqlite:///projectdb.db\n",
            "Done.\n",
            "Done.\n"
          ]
        },
        {
          "output_type": "execute_result",
          "data": {
            "text/plain": [
              "[]"
            ]
          },
          "metadata": {},
          "execution_count": 46
        }
      ]
    },
    {
      "cell_type": "code",
      "source": [
        "%%sql\n",
        "\n",
        "SELECT * FROM vwItemSummary;"
      ],
      "metadata": {
        "colab": {
          "base_uri": "https://localhost:8080/",
          "height": 473
        },
        "id": "4q4DOcIokCZX",
        "outputId": "4820f14d-0547-440f-bd74-5613788d0ce8"
      },
      "execution_count": 47,
      "outputs": [
        {
          "output_type": "stream",
          "name": "stdout",
          "text": [
            " * sqlite:///projectdb.db\n",
            "Done.\n"
          ]
        },
        {
          "output_type": "execute_result",
          "data": {
            "text/plain": [
              "[(1, 'Headset', '$149.95', 20, 'PlayStation 5'),\n",
              " (2, 'Controller', '$74.0', 43, 'PlayStation 5'),\n",
              " (3, 'PlayStation 4 Console', '$199.99', 112, 'PlayStation 4'),\n",
              " (4, 'Game Disk', '$39.95', 4, 'PlayStation 4'),\n",
              " (5, 'Currency Card', '$29.95', 93, 'Xbox Series X & S'),\n",
              " (6, 'Charging Cable', '$9.99', 254, 'Xbox Series X & S'),\n",
              " (7, 'Driving Wheel', '$279.03', 2, 'Xbox One'),\n",
              " (8, 'Controller Charging Station', '$22.99', 31, 'Xbox One'),\n",
              " (9, 'EShop Gift Card', '$5.0', 55, 'Nintendo Switch'),\n",
              " (10, 'Pro Controller', '$69.99', 77, 'Nintendo Switch'),\n",
              " (11, 'Keyboard', '$138.99', 1, 'PC'),\n",
              " (12, 'Mouse', '$11.89', 13, 'PC'),\n",
              " (13, 'Apple Keyboard', '$129.99', 43, 'Mac'),\n",
              " (14, 'External Port Adapter', '$55.99', 92, 'Mac'),\n",
              " (15, 'Xbox 360 Controller', '$29.99', 14, 'Legacy Systems'),\n",
              " (16, 'PlayStation 3 Console', '$99.99', 24, 'Legacy Systems'),\n",
              " (17, 'PlayStation Store Credit', '$75.0', 69, 'Online Gaming Services'),\n",
              " (18, 'Universal TV Remote', '$13.98', 81, 'Microconsoles'),\n",
              " (19, 'Virtual Reality Headset', '$399.99', 6, 'Virtual Reality')]"
            ],
            "text/html": [
              "<table>\n",
              "    <thead>\n",
              "        <tr>\n",
              "            <th>itemID</th>\n",
              "            <th>ItemName</th>\n",
              "            <th>Price</th>\n",
              "            <th>RemainingStock</th>\n",
              "            <th>GamingSystem</th>\n",
              "        </tr>\n",
              "    </thead>\n",
              "    <tbody>\n",
              "        <tr>\n",
              "            <td>1</td>\n",
              "            <td>Headset</td>\n",
              "            <td>$149.95</td>\n",
              "            <td>20</td>\n",
              "            <td>PlayStation 5</td>\n",
              "        </tr>\n",
              "        <tr>\n",
              "            <td>2</td>\n",
              "            <td>Controller</td>\n",
              "            <td>$74.0</td>\n",
              "            <td>43</td>\n",
              "            <td>PlayStation 5</td>\n",
              "        </tr>\n",
              "        <tr>\n",
              "            <td>3</td>\n",
              "            <td>PlayStation 4 Console</td>\n",
              "            <td>$199.99</td>\n",
              "            <td>112</td>\n",
              "            <td>PlayStation 4</td>\n",
              "        </tr>\n",
              "        <tr>\n",
              "            <td>4</td>\n",
              "            <td>Game Disk</td>\n",
              "            <td>$39.95</td>\n",
              "            <td>4</td>\n",
              "            <td>PlayStation 4</td>\n",
              "        </tr>\n",
              "        <tr>\n",
              "            <td>5</td>\n",
              "            <td>Currency Card</td>\n",
              "            <td>$29.95</td>\n",
              "            <td>93</td>\n",
              "            <td>Xbox Series X &amp; S</td>\n",
              "        </tr>\n",
              "        <tr>\n",
              "            <td>6</td>\n",
              "            <td>Charging Cable</td>\n",
              "            <td>$9.99</td>\n",
              "            <td>254</td>\n",
              "            <td>Xbox Series X &amp; S</td>\n",
              "        </tr>\n",
              "        <tr>\n",
              "            <td>7</td>\n",
              "            <td>Driving Wheel</td>\n",
              "            <td>$279.03</td>\n",
              "            <td>2</td>\n",
              "            <td>Xbox One</td>\n",
              "        </tr>\n",
              "        <tr>\n",
              "            <td>8</td>\n",
              "            <td>Controller Charging Station</td>\n",
              "            <td>$22.99</td>\n",
              "            <td>31</td>\n",
              "            <td>Xbox One</td>\n",
              "        </tr>\n",
              "        <tr>\n",
              "            <td>9</td>\n",
              "            <td>EShop Gift Card</td>\n",
              "            <td>$5.0</td>\n",
              "            <td>55</td>\n",
              "            <td>Nintendo Switch</td>\n",
              "        </tr>\n",
              "        <tr>\n",
              "            <td>10</td>\n",
              "            <td>Pro Controller</td>\n",
              "            <td>$69.99</td>\n",
              "            <td>77</td>\n",
              "            <td>Nintendo Switch</td>\n",
              "        </tr>\n",
              "        <tr>\n",
              "            <td>11</td>\n",
              "            <td>Keyboard</td>\n",
              "            <td>$138.99</td>\n",
              "            <td>1</td>\n",
              "            <td>PC</td>\n",
              "        </tr>\n",
              "        <tr>\n",
              "            <td>12</td>\n",
              "            <td>Mouse</td>\n",
              "            <td>$11.89</td>\n",
              "            <td>13</td>\n",
              "            <td>PC</td>\n",
              "        </tr>\n",
              "        <tr>\n",
              "            <td>13</td>\n",
              "            <td>Apple Keyboard</td>\n",
              "            <td>$129.99</td>\n",
              "            <td>43</td>\n",
              "            <td>Mac</td>\n",
              "        </tr>\n",
              "        <tr>\n",
              "            <td>14</td>\n",
              "            <td>External Port Adapter</td>\n",
              "            <td>$55.99</td>\n",
              "            <td>92</td>\n",
              "            <td>Mac</td>\n",
              "        </tr>\n",
              "        <tr>\n",
              "            <td>15</td>\n",
              "            <td>Xbox 360 Controller</td>\n",
              "            <td>$29.99</td>\n",
              "            <td>14</td>\n",
              "            <td>Legacy Systems</td>\n",
              "        </tr>\n",
              "        <tr>\n",
              "            <td>16</td>\n",
              "            <td>PlayStation 3 Console</td>\n",
              "            <td>$99.99</td>\n",
              "            <td>24</td>\n",
              "            <td>Legacy Systems</td>\n",
              "        </tr>\n",
              "        <tr>\n",
              "            <td>17</td>\n",
              "            <td>PlayStation Store Credit</td>\n",
              "            <td>$75.0</td>\n",
              "            <td>69</td>\n",
              "            <td>Online Gaming Services</td>\n",
              "        </tr>\n",
              "        <tr>\n",
              "            <td>18</td>\n",
              "            <td>Universal TV Remote</td>\n",
              "            <td>$13.98</td>\n",
              "            <td>81</td>\n",
              "            <td>Microconsoles</td>\n",
              "        </tr>\n",
              "        <tr>\n",
              "            <td>19</td>\n",
              "            <td>Virtual Reality Headset</td>\n",
              "            <td>$399.99</td>\n",
              "            <td>6</td>\n",
              "            <td>Virtual Reality</td>\n",
              "        </tr>\n",
              "    </tbody>\n",
              "</table>"
            ]
          },
          "metadata": {},
          "execution_count": 47
        }
      ]
    },
    {
      "cell_type": "code",
      "source": [
        "%%sql\n",
        "\n",
        "WITH StockUnder100 \n",
        "AS\n",
        "(\n",
        "    SELECT ItemName\n",
        "    FROM vwItemSummary\n",
        "    WHERE GamingSystem LIKE '%PlayStation%' AND RemainingStock <= 100  \n",
        "),\n",
        "StockOver20 AS\n",
        "(\n",
        "    SELECT vwi.ItemName\n",
        "    FROM vwItemSummary vwi\n",
        "    JOIN StockUnder100 su ON vwi.ItemName = su.ItemName\n",
        "    WHERE vwi.GamingSystem LIKE '%PlayStation%' AND vwi.RemainingStock >= 20 \n",
        ")\n",
        "\n",
        "SELECT *\n",
        "FROM StockOver20"
      ],
      "metadata": {
        "colab": {
          "base_uri": "https://localhost:8080/",
          "height": 116
        },
        "id": "1eOvpTJMiJ_f",
        "outputId": "d7a825dc-87d8-4a17-ec23-7ea38fcc1729"
      },
      "execution_count": 49,
      "outputs": [
        {
          "output_type": "stream",
          "name": "stdout",
          "text": [
            " * sqlite:///projectdb.db\n",
            "Done.\n"
          ]
        },
        {
          "output_type": "execute_result",
          "data": {
            "text/plain": [
              "[('Headset',), ('Controller',)]"
            ],
            "text/html": [
              "<table>\n",
              "    <thead>\n",
              "        <tr>\n",
              "            <th>ItemName</th>\n",
              "        </tr>\n",
              "    </thead>\n",
              "    <tbody>\n",
              "        <tr>\n",
              "            <td>Headset</td>\n",
              "        </tr>\n",
              "        <tr>\n",
              "            <td>Controller</td>\n",
              "        </tr>\n",
              "    </tbody>\n",
              "</table>"
            ]
          },
          "metadata": {},
          "execution_count": 49
        }
      ]
    },
    {
      "cell_type": "code",
      "source": [
        "%%sql\n",
        "\n",
        "SELECT accountName, accountEmail, 'Customer' as Type\n",
        "FROM account\n",
        "\n",
        "UNION\n",
        "\n",
        "SELECT name, email, 'Employee'\n",
        "FROM associate;"
      ],
      "metadata": {
        "colab": {
          "base_uri": "https://localhost:8080/",
          "height": 473
        },
        "id": "tPi1gtzodpsO",
        "outputId": "dad43483-f660-45bb-a76d-4caf95b65642"
      },
      "execution_count": 50,
      "outputs": [
        {
          "output_type": "stream",
          "name": "stdout",
          "text": [
            " * sqlite:///projectdb.db\n",
            "Done.\n"
          ]
        },
        {
          "output_type": "execute_result",
          "data": {
            "text/plain": [
              "[('a', 'a@gmail.com', 'Customer'),\n",
              " ('b', 'b@gmail.com', 'Customer'),\n",
              " ('c', 'c@gmail.com', 'Customer'),\n",
              " ('d', 'd@gmail.com', 'Customer'),\n",
              " ('e', 'e@gmail.com', 'Customer'),\n",
              " ('f', 'f@gmail.com', 'Customer'),\n",
              " ('g', 'g@gmail.com', 'Customer'),\n",
              " ('h', 'h@gmail.com', 'Customer'),\n",
              " ('i', 'i@gmail.com', 'Customer'),\n",
              " ('j', 'j@gmail.com', 'Customer'),\n",
              " ('k', 'k@gmail.com', 'Customer'),\n",
              " ('l', 'l@gmail.com', 'Customer'),\n",
              " ('m', 'm@gmail.com', 'Employee'),\n",
              " ('n', 'n@gmail.com', 'Employee'),\n",
              " ('o', 'o@gmail.com', 'Employee'),\n",
              " ('p', 'p@gmail.com', 'Employee'),\n",
              " ('q', 'q@gmail.com', 'Employee'),\n",
              " ('r', 'r@gmail.com', 'Employee'),\n",
              " ('s', 's@gmail.com', 'Employee')]"
            ],
            "text/html": [
              "<table>\n",
              "    <thead>\n",
              "        <tr>\n",
              "            <th>accountName</th>\n",
              "            <th>accountEmail</th>\n",
              "            <th>Type</th>\n",
              "        </tr>\n",
              "    </thead>\n",
              "    <tbody>\n",
              "        <tr>\n",
              "            <td>a</td>\n",
              "            <td>a@gmail.com</td>\n",
              "            <td>Customer</td>\n",
              "        </tr>\n",
              "        <tr>\n",
              "            <td>b</td>\n",
              "            <td>b@gmail.com</td>\n",
              "            <td>Customer</td>\n",
              "        </tr>\n",
              "        <tr>\n",
              "            <td>c</td>\n",
              "            <td>c@gmail.com</td>\n",
              "            <td>Customer</td>\n",
              "        </tr>\n",
              "        <tr>\n",
              "            <td>d</td>\n",
              "            <td>d@gmail.com</td>\n",
              "            <td>Customer</td>\n",
              "        </tr>\n",
              "        <tr>\n",
              "            <td>e</td>\n",
              "            <td>e@gmail.com</td>\n",
              "            <td>Customer</td>\n",
              "        </tr>\n",
              "        <tr>\n",
              "            <td>f</td>\n",
              "            <td>f@gmail.com</td>\n",
              "            <td>Customer</td>\n",
              "        </tr>\n",
              "        <tr>\n",
              "            <td>g</td>\n",
              "            <td>g@gmail.com</td>\n",
              "            <td>Customer</td>\n",
              "        </tr>\n",
              "        <tr>\n",
              "            <td>h</td>\n",
              "            <td>h@gmail.com</td>\n",
              "            <td>Customer</td>\n",
              "        </tr>\n",
              "        <tr>\n",
              "            <td>i</td>\n",
              "            <td>i@gmail.com</td>\n",
              "            <td>Customer</td>\n",
              "        </tr>\n",
              "        <tr>\n",
              "            <td>j</td>\n",
              "            <td>j@gmail.com</td>\n",
              "            <td>Customer</td>\n",
              "        </tr>\n",
              "        <tr>\n",
              "            <td>k</td>\n",
              "            <td>k@gmail.com</td>\n",
              "            <td>Customer</td>\n",
              "        </tr>\n",
              "        <tr>\n",
              "            <td>l</td>\n",
              "            <td>l@gmail.com</td>\n",
              "            <td>Customer</td>\n",
              "        </tr>\n",
              "        <tr>\n",
              "            <td>m</td>\n",
              "            <td>m@gmail.com</td>\n",
              "            <td>Employee</td>\n",
              "        </tr>\n",
              "        <tr>\n",
              "            <td>n</td>\n",
              "            <td>n@gmail.com</td>\n",
              "            <td>Employee</td>\n",
              "        </tr>\n",
              "        <tr>\n",
              "            <td>o</td>\n",
              "            <td>o@gmail.com</td>\n",
              "            <td>Employee</td>\n",
              "        </tr>\n",
              "        <tr>\n",
              "            <td>p</td>\n",
              "            <td>p@gmail.com</td>\n",
              "            <td>Employee</td>\n",
              "        </tr>\n",
              "        <tr>\n",
              "            <td>q</td>\n",
              "            <td>q@gmail.com</td>\n",
              "            <td>Employee</td>\n",
              "        </tr>\n",
              "        <tr>\n",
              "            <td>r</td>\n",
              "            <td>r@gmail.com</td>\n",
              "            <td>Employee</td>\n",
              "        </tr>\n",
              "        <tr>\n",
              "            <td>s</td>\n",
              "            <td>s@gmail.com</td>\n",
              "            <td>Employee</td>\n",
              "        </tr>\n",
              "    </tbody>\n",
              "</table>"
            ]
          },
          "metadata": {},
          "execution_count": 50
        }
      ]
    },
    {
      "cell_type": "code",
      "source": [
        "%%sql \n",
        "\n",
        "SELECT DISTINCT Item, Price\n",
        "FROM item;"
      ],
      "metadata": {
        "colab": {
          "base_uri": "https://localhost:8080/",
          "height": 473
        },
        "id": "IsOaa1jhIxsq",
        "outputId": "8313d004-5746-4fae-f338-d3485497a2d4"
      },
      "execution_count": 51,
      "outputs": [
        {
          "output_type": "stream",
          "name": "stdout",
          "text": [
            " * sqlite:///projectdb.db\n",
            "Done.\n"
          ]
        },
        {
          "output_type": "execute_result",
          "data": {
            "text/plain": [
              "[('Headset', 149.95),\n",
              " ('Controller', 74.0),\n",
              " ('PlayStation 4 Console', 199.99),\n",
              " ('Game Disk', 39.95),\n",
              " ('Currency Card', 29.95),\n",
              " ('Charging Cable', 9.99),\n",
              " ('Driving Wheel', 279.03),\n",
              " ('Controller Charging Station', 22.99),\n",
              " ('EShop Gift Card', 5.0),\n",
              " ('Pro Controller', 69.99),\n",
              " ('Keyboard', 138.99),\n",
              " ('Mouse', 11.89),\n",
              " ('Apple Keyboard', 129.99),\n",
              " ('External Port Adapter', 55.99),\n",
              " ('Xbox 360 Controller', 29.99),\n",
              " ('PlayStation 3 Console', 99.99),\n",
              " ('PlayStation Store Credit', 75.0),\n",
              " ('Universal TV Remote', 13.98),\n",
              " ('Virtual Reality Headset', 399.99)]"
            ],
            "text/html": [
              "<table>\n",
              "    <thead>\n",
              "        <tr>\n",
              "            <th>Item</th>\n",
              "            <th>Price</th>\n",
              "        </tr>\n",
              "    </thead>\n",
              "    <tbody>\n",
              "        <tr>\n",
              "            <td>Headset</td>\n",
              "            <td>149.95</td>\n",
              "        </tr>\n",
              "        <tr>\n",
              "            <td>Controller</td>\n",
              "            <td>74.0</td>\n",
              "        </tr>\n",
              "        <tr>\n",
              "            <td>PlayStation 4 Console</td>\n",
              "            <td>199.99</td>\n",
              "        </tr>\n",
              "        <tr>\n",
              "            <td>Game Disk</td>\n",
              "            <td>39.95</td>\n",
              "        </tr>\n",
              "        <tr>\n",
              "            <td>Currency Card</td>\n",
              "            <td>29.95</td>\n",
              "        </tr>\n",
              "        <tr>\n",
              "            <td>Charging Cable</td>\n",
              "            <td>9.99</td>\n",
              "        </tr>\n",
              "        <tr>\n",
              "            <td>Driving Wheel</td>\n",
              "            <td>279.03</td>\n",
              "        </tr>\n",
              "        <tr>\n",
              "            <td>Controller Charging Station</td>\n",
              "            <td>22.99</td>\n",
              "        </tr>\n",
              "        <tr>\n",
              "            <td>EShop Gift Card</td>\n",
              "            <td>5.0</td>\n",
              "        </tr>\n",
              "        <tr>\n",
              "            <td>Pro Controller</td>\n",
              "            <td>69.99</td>\n",
              "        </tr>\n",
              "        <tr>\n",
              "            <td>Keyboard</td>\n",
              "            <td>138.99</td>\n",
              "        </tr>\n",
              "        <tr>\n",
              "            <td>Mouse</td>\n",
              "            <td>11.89</td>\n",
              "        </tr>\n",
              "        <tr>\n",
              "            <td>Apple Keyboard</td>\n",
              "            <td>129.99</td>\n",
              "        </tr>\n",
              "        <tr>\n",
              "            <td>External Port Adapter</td>\n",
              "            <td>55.99</td>\n",
              "        </tr>\n",
              "        <tr>\n",
              "            <td>Xbox 360 Controller</td>\n",
              "            <td>29.99</td>\n",
              "        </tr>\n",
              "        <tr>\n",
              "            <td>PlayStation 3 Console</td>\n",
              "            <td>99.99</td>\n",
              "        </tr>\n",
              "        <tr>\n",
              "            <td>PlayStation Store Credit</td>\n",
              "            <td>75.0</td>\n",
              "        </tr>\n",
              "        <tr>\n",
              "            <td>Universal TV Remote</td>\n",
              "            <td>13.98</td>\n",
              "        </tr>\n",
              "        <tr>\n",
              "            <td>Virtual Reality Headset</td>\n",
              "            <td>399.99</td>\n",
              "        </tr>\n",
              "    </tbody>\n",
              "</table>"
            ]
          },
          "metadata": {},
          "execution_count": 51
        }
      ]
    },
    {
      "cell_type": "code",
      "source": [
        "%%sql\n",
        "\n",
        "SELECT DISTINCT Item\n",
        "FROM item\n",
        "WHERE Item LIKE '%PlayStation%' OR Item LIKE '%Controller%';"
      ],
      "metadata": {
        "colab": {
          "base_uri": "https://localhost:8080/",
          "height": 221
        },
        "id": "UQztujkKPont",
        "outputId": "367689bc-bdba-4521-e634-0f34eac514d1"
      },
      "execution_count": 52,
      "outputs": [
        {
          "output_type": "stream",
          "name": "stdout",
          "text": [
            " * sqlite:///projectdb.db\n",
            "Done.\n"
          ]
        },
        {
          "output_type": "execute_result",
          "data": {
            "text/plain": [
              "[('Controller',),\n",
              " ('PlayStation 4 Console',),\n",
              " ('Controller Charging Station',),\n",
              " ('Pro Controller',),\n",
              " ('Xbox 360 Controller',),\n",
              " ('PlayStation 3 Console',),\n",
              " ('PlayStation Store Credit',)]"
            ],
            "text/html": [
              "<table>\n",
              "    <thead>\n",
              "        <tr>\n",
              "            <th>Item</th>\n",
              "        </tr>\n",
              "    </thead>\n",
              "    <tbody>\n",
              "        <tr>\n",
              "            <td>Controller</td>\n",
              "        </tr>\n",
              "        <tr>\n",
              "            <td>PlayStation 4 Console</td>\n",
              "        </tr>\n",
              "        <tr>\n",
              "            <td>Controller Charging Station</td>\n",
              "        </tr>\n",
              "        <tr>\n",
              "            <td>Pro Controller</td>\n",
              "        </tr>\n",
              "        <tr>\n",
              "            <td>Xbox 360 Controller</td>\n",
              "        </tr>\n",
              "        <tr>\n",
              "            <td>PlayStation 3 Console</td>\n",
              "        </tr>\n",
              "        <tr>\n",
              "            <td>PlayStation Store Credit</td>\n",
              "        </tr>\n",
              "    </tbody>\n",
              "</table>"
            ]
          },
          "metadata": {},
          "execution_count": 52
        }
      ]
    },
    {
      "cell_type": "code",
      "source": [
        "%%sql\n",
        "\n",
        "SELECT *\n",
        "FROM account a\n",
        "LEFT JOIN payment p ON a.accountPaymentID = p.ID;"
      ],
      "metadata": {
        "colab": {
          "base_uri": "https://localhost:8080/",
          "height": 326
        },
        "id": "pJgru-r6LvTD",
        "outputId": "5e1ae1f8-22ab-4f77-c953-d860db76cf57"
      },
      "execution_count": 53,
      "outputs": [
        {
          "output_type": "stream",
          "name": "stdout",
          "text": [
            " * sqlite:///projectdb.db\n",
            "Done.\n"
          ]
        },
        {
          "output_type": "execute_result",
          "data": {
            "text/plain": [
              "[(1, 'a', 'a@gmail.com', 1, 1, 1, 'Bill', '111111111111', '01/22', '111'),\n",
              " (2, 'b', 'b@gmail.com', 2, 2, 2, 'Will', '222222222222', '02/22', '222'),\n",
              " (3, 'c', 'c@gmail.com', 3, 3, 3, 'Jill', '333333333333', '03/22', '333'),\n",
              " (4, 'd', 'd@gmail.com', 4, 4, 4, 'William', '444444444444', '04/22', '444'),\n",
              " (5, 'e', 'e@gmail.com', 5, 5, 5, 'Dale', '555555555555', '05/22', '555'),\n",
              " (6, 'f', 'f@gmail.com', 6, 6, 6, 'Bale', '666666666666', '06/22', '666'),\n",
              " (7, 'g', 'g@gmail.com', 7, 7, 7, 'Jim', '777777777777', '07/22', '777'),\n",
              " (8, 'h', 'h@gmail.com', 8, 8, 8, 'Dave', '888888888888', '08/22', '888'),\n",
              " (9, 'i', 'i@gmail.com', 9, 9, 9, 'Katy', '999999999999', '09/22', '999'),\n",
              " (10, 'j', 'j@gmail.com', 10, 10, 10, 'Zoey', '101010101010', '10/22', '101'),\n",
              " (11, 'k', 'k@gmail.com', 11, 11, 11, 'Cole', '110110110110', '11/22', '112'),\n",
              " (12, 'l', 'l@gmail.com', 12, 12, 12, 'Chloe', '121212121212', '12/22', '121')]"
            ],
            "text/html": [
              "<table>\n",
              "    <thead>\n",
              "        <tr>\n",
              "            <th>ID</th>\n",
              "            <th>accountName</th>\n",
              "            <th>accountEmail</th>\n",
              "            <th>accountPaymentID</th>\n",
              "            <th>PreviousOrderID</th>\n",
              "            <th>ID_1</th>\n",
              "            <th>cardName</th>\n",
              "            <th>cardNumber</th>\n",
              "            <th>cardExpDate</th>\n",
              "            <th>cardCSV</th>\n",
              "        </tr>\n",
              "    </thead>\n",
              "    <tbody>\n",
              "        <tr>\n",
              "            <td>1</td>\n",
              "            <td>a</td>\n",
              "            <td>a@gmail.com</td>\n",
              "            <td>1</td>\n",
              "            <td>1</td>\n",
              "            <td>1</td>\n",
              "            <td>Bill</td>\n",
              "            <td>111111111111</td>\n",
              "            <td>01/22</td>\n",
              "            <td>111</td>\n",
              "        </tr>\n",
              "        <tr>\n",
              "            <td>2</td>\n",
              "            <td>b</td>\n",
              "            <td>b@gmail.com</td>\n",
              "            <td>2</td>\n",
              "            <td>2</td>\n",
              "            <td>2</td>\n",
              "            <td>Will</td>\n",
              "            <td>222222222222</td>\n",
              "            <td>02/22</td>\n",
              "            <td>222</td>\n",
              "        </tr>\n",
              "        <tr>\n",
              "            <td>3</td>\n",
              "            <td>c</td>\n",
              "            <td>c@gmail.com</td>\n",
              "            <td>3</td>\n",
              "            <td>3</td>\n",
              "            <td>3</td>\n",
              "            <td>Jill</td>\n",
              "            <td>333333333333</td>\n",
              "            <td>03/22</td>\n",
              "            <td>333</td>\n",
              "        </tr>\n",
              "        <tr>\n",
              "            <td>4</td>\n",
              "            <td>d</td>\n",
              "            <td>d@gmail.com</td>\n",
              "            <td>4</td>\n",
              "            <td>4</td>\n",
              "            <td>4</td>\n",
              "            <td>William</td>\n",
              "            <td>444444444444</td>\n",
              "            <td>04/22</td>\n",
              "            <td>444</td>\n",
              "        </tr>\n",
              "        <tr>\n",
              "            <td>5</td>\n",
              "            <td>e</td>\n",
              "            <td>e@gmail.com</td>\n",
              "            <td>5</td>\n",
              "            <td>5</td>\n",
              "            <td>5</td>\n",
              "            <td>Dale</td>\n",
              "            <td>555555555555</td>\n",
              "            <td>05/22</td>\n",
              "            <td>555</td>\n",
              "        </tr>\n",
              "        <tr>\n",
              "            <td>6</td>\n",
              "            <td>f</td>\n",
              "            <td>f@gmail.com</td>\n",
              "            <td>6</td>\n",
              "            <td>6</td>\n",
              "            <td>6</td>\n",
              "            <td>Bale</td>\n",
              "            <td>666666666666</td>\n",
              "            <td>06/22</td>\n",
              "            <td>666</td>\n",
              "        </tr>\n",
              "        <tr>\n",
              "            <td>7</td>\n",
              "            <td>g</td>\n",
              "            <td>g@gmail.com</td>\n",
              "            <td>7</td>\n",
              "            <td>7</td>\n",
              "            <td>7</td>\n",
              "            <td>Jim</td>\n",
              "            <td>777777777777</td>\n",
              "            <td>07/22</td>\n",
              "            <td>777</td>\n",
              "        </tr>\n",
              "        <tr>\n",
              "            <td>8</td>\n",
              "            <td>h</td>\n",
              "            <td>h@gmail.com</td>\n",
              "            <td>8</td>\n",
              "            <td>8</td>\n",
              "            <td>8</td>\n",
              "            <td>Dave</td>\n",
              "            <td>888888888888</td>\n",
              "            <td>08/22</td>\n",
              "            <td>888</td>\n",
              "        </tr>\n",
              "        <tr>\n",
              "            <td>9</td>\n",
              "            <td>i</td>\n",
              "            <td>i@gmail.com</td>\n",
              "            <td>9</td>\n",
              "            <td>9</td>\n",
              "            <td>9</td>\n",
              "            <td>Katy</td>\n",
              "            <td>999999999999</td>\n",
              "            <td>09/22</td>\n",
              "            <td>999</td>\n",
              "        </tr>\n",
              "        <tr>\n",
              "            <td>10</td>\n",
              "            <td>j</td>\n",
              "            <td>j@gmail.com</td>\n",
              "            <td>10</td>\n",
              "            <td>10</td>\n",
              "            <td>10</td>\n",
              "            <td>Zoey</td>\n",
              "            <td>101010101010</td>\n",
              "            <td>10/22</td>\n",
              "            <td>101</td>\n",
              "        </tr>\n",
              "        <tr>\n",
              "            <td>11</td>\n",
              "            <td>k</td>\n",
              "            <td>k@gmail.com</td>\n",
              "            <td>11</td>\n",
              "            <td>11</td>\n",
              "            <td>11</td>\n",
              "            <td>Cole</td>\n",
              "            <td>110110110110</td>\n",
              "            <td>11/22</td>\n",
              "            <td>112</td>\n",
              "        </tr>\n",
              "        <tr>\n",
              "            <td>12</td>\n",
              "            <td>l</td>\n",
              "            <td>l@gmail.com</td>\n",
              "            <td>12</td>\n",
              "            <td>12</td>\n",
              "            <td>12</td>\n",
              "            <td>Chloe</td>\n",
              "            <td>121212121212</td>\n",
              "            <td>12/22</td>\n",
              "            <td>121</td>\n",
              "        </tr>\n",
              "    </tbody>\n",
              "</table>"
            ]
          },
          "metadata": {},
          "execution_count": 53
        }
      ]
    },
    {
      "cell_type": "code",
      "source": [
        "%%sql\n",
        "\n",
        "DROP VIEW IF EXISTS vwVisitorOrderSummary;\n",
        "CREATE VIEW IF NOT EXISTS vwVisitorOrderSummary\n",
        "AS\n",
        "SELECT v.ID as VisitorID\n",
        "  ,vis.status as VisitorStatus\n",
        "  ,c.ID as ShoppingCartID\n",
        "  ,i.ID as ItemID\n",
        "  ,(i.Item) || ':  $' || (i.Price) || ' - ' || (s.System) as ItemSummary\n",
        "  ,i.Stock as Inventory\n",
        "  FROM visitor v\n",
        "  INNER JOIN item i ON c.itemID = i.ID\n",
        "  INNER JOIN system s ON i.systemID = s.ID\n",
        "  INNER JOIN cart c ON v.cartID = c.ID\n",
        "  INNER JOIN VisitorStatus vis ON v.VisitorStatusID = vis.ID\n",
        "  ;"
      ],
      "metadata": {
        "colab": {
          "base_uri": "https://localhost:8080/"
        },
        "id": "wILzT6RzQyiQ",
        "outputId": "842af70a-1b41-4237-ce7f-fbc068e7c7dc"
      },
      "execution_count": 54,
      "outputs": [
        {
          "output_type": "stream",
          "name": "stdout",
          "text": [
            " * sqlite:///projectdb.db\n",
            "Done.\n",
            "Done.\n"
          ]
        },
        {
          "output_type": "execute_result",
          "data": {
            "text/plain": [
              "[]"
            ]
          },
          "metadata": {},
          "execution_count": 54
        }
      ]
    },
    {
      "cell_type": "code",
      "source": [
        "%%sql\n",
        "\n",
        "SELECT * FROM vwVisitorOrderSummary;"
      ],
      "metadata": {
        "colab": {
          "base_uri": "https://localhost:8080/",
          "height": 326
        },
        "id": "g2IGU3QVVmNS",
        "outputId": "43a4a528-98f2-4603-d3b2-e9a4949121da"
      },
      "execution_count": 56,
      "outputs": [
        {
          "output_type": "stream",
          "name": "stdout",
          "text": [
            " * sqlite:///projectdb.db\n",
            "Done.\n"
          ]
        },
        {
          "output_type": "execute_result",
          "data": {
            "text/plain": [
              "[(1, 'Member', 1, 1, 'Headset:  $149.95 - PlayStation 5', 20),\n",
              " (2, 'Member', 2, 2, 'Controller:  $74.0 - PlayStation 5', 43),\n",
              " (3, 'Visitor', 3, 3, 'PlayStation 4 Console:  $199.99 - PlayStation 4', 112),\n",
              " (4, 'Member', 4, 4, 'Game Disk:  $39.95 - PlayStation 4', 4),\n",
              " (5, 'Visitor', 5, 5, 'Currency Card:  $29.95 - Xbox Series X & S', 93),\n",
              " (6, 'Visitor', 6, 6, 'Charging Cable:  $9.99 - Xbox Series X & S', 254),\n",
              " (7, 'Visitor', 7, 7, 'Driving Wheel:  $279.03 - Xbox One', 2),\n",
              " (8, 'Member', 8, 8, 'Controller Charging Station:  $22.99 - Xbox One', 31),\n",
              " (9, 'Member', 9, 9, 'EShop Gift Card:  $5.0 - Nintendo Switch', 55),\n",
              " (10, 'Visitor', 10, 10, 'Pro Controller:  $69.99 - Nintendo Switch', 77),\n",
              " (11, 'Member', 11, 11, 'Keyboard:  $138.99 - PC', 1),\n",
              " (12, 'Visitor', 12, 12, 'Mouse:  $11.89 - PC', 13)]"
            ],
            "text/html": [
              "<table>\n",
              "    <thead>\n",
              "        <tr>\n",
              "            <th>VisitorID</th>\n",
              "            <th>VisitorStatus</th>\n",
              "            <th>ShoppingCartID</th>\n",
              "            <th>ItemID</th>\n",
              "            <th>ItemSummary</th>\n",
              "            <th>Inventory</th>\n",
              "        </tr>\n",
              "    </thead>\n",
              "    <tbody>\n",
              "        <tr>\n",
              "            <td>1</td>\n",
              "            <td>Member</td>\n",
              "            <td>1</td>\n",
              "            <td>1</td>\n",
              "            <td>Headset:  $149.95 - PlayStation 5</td>\n",
              "            <td>20</td>\n",
              "        </tr>\n",
              "        <tr>\n",
              "            <td>2</td>\n",
              "            <td>Member</td>\n",
              "            <td>2</td>\n",
              "            <td>2</td>\n",
              "            <td>Controller:  $74.0 - PlayStation 5</td>\n",
              "            <td>43</td>\n",
              "        </tr>\n",
              "        <tr>\n",
              "            <td>3</td>\n",
              "            <td>Visitor</td>\n",
              "            <td>3</td>\n",
              "            <td>3</td>\n",
              "            <td>PlayStation 4 Console:  $199.99 - PlayStation 4</td>\n",
              "            <td>112</td>\n",
              "        </tr>\n",
              "        <tr>\n",
              "            <td>4</td>\n",
              "            <td>Member</td>\n",
              "            <td>4</td>\n",
              "            <td>4</td>\n",
              "            <td>Game Disk:  $39.95 - PlayStation 4</td>\n",
              "            <td>4</td>\n",
              "        </tr>\n",
              "        <tr>\n",
              "            <td>5</td>\n",
              "            <td>Visitor</td>\n",
              "            <td>5</td>\n",
              "            <td>5</td>\n",
              "            <td>Currency Card:  $29.95 - Xbox Series X &amp; S</td>\n",
              "            <td>93</td>\n",
              "        </tr>\n",
              "        <tr>\n",
              "            <td>6</td>\n",
              "            <td>Visitor</td>\n",
              "            <td>6</td>\n",
              "            <td>6</td>\n",
              "            <td>Charging Cable:  $9.99 - Xbox Series X &amp; S</td>\n",
              "            <td>254</td>\n",
              "        </tr>\n",
              "        <tr>\n",
              "            <td>7</td>\n",
              "            <td>Visitor</td>\n",
              "            <td>7</td>\n",
              "            <td>7</td>\n",
              "            <td>Driving Wheel:  $279.03 - Xbox One</td>\n",
              "            <td>2</td>\n",
              "        </tr>\n",
              "        <tr>\n",
              "            <td>8</td>\n",
              "            <td>Member</td>\n",
              "            <td>8</td>\n",
              "            <td>8</td>\n",
              "            <td>Controller Charging Station:  $22.99 - Xbox One</td>\n",
              "            <td>31</td>\n",
              "        </tr>\n",
              "        <tr>\n",
              "            <td>9</td>\n",
              "            <td>Member</td>\n",
              "            <td>9</td>\n",
              "            <td>9</td>\n",
              "            <td>EShop Gift Card:  $5.0 - Nintendo Switch</td>\n",
              "            <td>55</td>\n",
              "        </tr>\n",
              "        <tr>\n",
              "            <td>10</td>\n",
              "            <td>Visitor</td>\n",
              "            <td>10</td>\n",
              "            <td>10</td>\n",
              "            <td>Pro Controller:  $69.99 - Nintendo Switch</td>\n",
              "            <td>77</td>\n",
              "        </tr>\n",
              "        <tr>\n",
              "            <td>11</td>\n",
              "            <td>Member</td>\n",
              "            <td>11</td>\n",
              "            <td>11</td>\n",
              "            <td>Keyboard:  $138.99 - PC</td>\n",
              "            <td>1</td>\n",
              "        </tr>\n",
              "        <tr>\n",
              "            <td>12</td>\n",
              "            <td>Visitor</td>\n",
              "            <td>12</td>\n",
              "            <td>12</td>\n",
              "            <td>Mouse:  $11.89 - PC</td>\n",
              "            <td>13</td>\n",
              "        </tr>\n",
              "    </tbody>\n",
              "</table>"
            ]
          },
          "metadata": {},
          "execution_count": 56
        }
      ]
    },
    {
      "cell_type": "code",
      "source": [
        "%%sql\n",
        "\n",
        "DROP VIEW IF EXISTS vwInventorySummary;\n",
        "CREATE VIEW IF NOT EXISTS vwInventorySummary\n",
        "AS\n",
        "SELECT item, CASE WHEN Stock < 10 THEN '[Low Stock]'\n",
        "            WHEN Stock BETWEEN 10 AND 50 THEN '[Less Than 50 Left]'\n",
        "            WHEN Stock BETWEEN 50 AND 100 THEN '[Under 100 Left]'\n",
        "            WHEN Stock BETWEEN 100 AND 200 THEN '[200-100 Left]'\n",
        "            WHEN Stock >= 200 THEN 'Over 200 Left'\n",
        "            END As InventoryCategories\n",
        "            ,Stock\n",
        "FROM item\n",
        ";"
      ],
      "metadata": {
        "colab": {
          "base_uri": "https://localhost:8080/"
        },
        "id": "D1ABufMSBXqJ",
        "outputId": "847b3b47-defa-4a00-ba7f-4251e8ee728c"
      },
      "execution_count": 57,
      "outputs": [
        {
          "output_type": "stream",
          "name": "stdout",
          "text": [
            " * sqlite:///projectdb.db\n",
            "Done.\n",
            "Done.\n"
          ]
        },
        {
          "output_type": "execute_result",
          "data": {
            "text/plain": [
              "[]"
            ]
          },
          "metadata": {},
          "execution_count": 57
        }
      ]
    },
    {
      "cell_type": "code",
      "source": [
        "%%sql\n",
        "\n",
        "SELECT * FROM vwInventorySummary;"
      ],
      "metadata": {
        "colab": {
          "base_uri": "https://localhost:8080/",
          "height": 473
        },
        "id": "iQU8KfZHHWiT",
        "outputId": "2a1a8609-b200-4507-c556-b7f1aa6b9876"
      },
      "execution_count": 58,
      "outputs": [
        {
          "output_type": "stream",
          "name": "stdout",
          "text": [
            " * sqlite:///projectdb.db\n",
            "Done.\n"
          ]
        },
        {
          "output_type": "execute_result",
          "data": {
            "text/plain": [
              "[('Headset', '[Less Than 50 Left]', 20),\n",
              " ('Controller', '[Less Than 50 Left]', 43),\n",
              " ('PlayStation 4 Console', '[200-100 Left]', 112),\n",
              " ('Game Disk', '[Low Stock]', 4),\n",
              " ('Currency Card', '[Under 100 Left]', 93),\n",
              " ('Charging Cable', 'Over 200 Left', 254),\n",
              " ('Driving Wheel', '[Low Stock]', 2),\n",
              " ('Controller Charging Station', '[Less Than 50 Left]', 31),\n",
              " ('EShop Gift Card', '[Under 100 Left]', 55),\n",
              " ('Pro Controller', '[Under 100 Left]', 77),\n",
              " ('Keyboard', '[Low Stock]', 1),\n",
              " ('Mouse', '[Less Than 50 Left]', 13),\n",
              " ('Apple Keyboard', '[Less Than 50 Left]', 43),\n",
              " ('External Port Adapter', '[Under 100 Left]', 92),\n",
              " ('Xbox 360 Controller', '[Less Than 50 Left]', 14),\n",
              " ('PlayStation 3 Console', '[Less Than 50 Left]', 24),\n",
              " ('PlayStation Store Credit', '[Under 100 Left]', 69),\n",
              " ('Universal TV Remote', '[Under 100 Left]', 81),\n",
              " ('Virtual Reality Headset', '[Low Stock]', 6)]"
            ],
            "text/html": [
              "<table>\n",
              "    <thead>\n",
              "        <tr>\n",
              "            <th>Item</th>\n",
              "            <th>InventoryCategories</th>\n",
              "            <th>Stock</th>\n",
              "        </tr>\n",
              "    </thead>\n",
              "    <tbody>\n",
              "        <tr>\n",
              "            <td>Headset</td>\n",
              "            <td>[Less Than 50 Left]</td>\n",
              "            <td>20</td>\n",
              "        </tr>\n",
              "        <tr>\n",
              "            <td>Controller</td>\n",
              "            <td>[Less Than 50 Left]</td>\n",
              "            <td>43</td>\n",
              "        </tr>\n",
              "        <tr>\n",
              "            <td>PlayStation 4 Console</td>\n",
              "            <td>[200-100 Left]</td>\n",
              "            <td>112</td>\n",
              "        </tr>\n",
              "        <tr>\n",
              "            <td>Game Disk</td>\n",
              "            <td>[Low Stock]</td>\n",
              "            <td>4</td>\n",
              "        </tr>\n",
              "        <tr>\n",
              "            <td>Currency Card</td>\n",
              "            <td>[Under 100 Left]</td>\n",
              "            <td>93</td>\n",
              "        </tr>\n",
              "        <tr>\n",
              "            <td>Charging Cable</td>\n",
              "            <td>Over 200 Left</td>\n",
              "            <td>254</td>\n",
              "        </tr>\n",
              "        <tr>\n",
              "            <td>Driving Wheel</td>\n",
              "            <td>[Low Stock]</td>\n",
              "            <td>2</td>\n",
              "        </tr>\n",
              "        <tr>\n",
              "            <td>Controller Charging Station</td>\n",
              "            <td>[Less Than 50 Left]</td>\n",
              "            <td>31</td>\n",
              "        </tr>\n",
              "        <tr>\n",
              "            <td>EShop Gift Card</td>\n",
              "            <td>[Under 100 Left]</td>\n",
              "            <td>55</td>\n",
              "        </tr>\n",
              "        <tr>\n",
              "            <td>Pro Controller</td>\n",
              "            <td>[Under 100 Left]</td>\n",
              "            <td>77</td>\n",
              "        </tr>\n",
              "        <tr>\n",
              "            <td>Keyboard</td>\n",
              "            <td>[Low Stock]</td>\n",
              "            <td>1</td>\n",
              "        </tr>\n",
              "        <tr>\n",
              "            <td>Mouse</td>\n",
              "            <td>[Less Than 50 Left]</td>\n",
              "            <td>13</td>\n",
              "        </tr>\n",
              "        <tr>\n",
              "            <td>Apple Keyboard</td>\n",
              "            <td>[Less Than 50 Left]</td>\n",
              "            <td>43</td>\n",
              "        </tr>\n",
              "        <tr>\n",
              "            <td>External Port Adapter</td>\n",
              "            <td>[Under 100 Left]</td>\n",
              "            <td>92</td>\n",
              "        </tr>\n",
              "        <tr>\n",
              "            <td>Xbox 360 Controller</td>\n",
              "            <td>[Less Than 50 Left]</td>\n",
              "            <td>14</td>\n",
              "        </tr>\n",
              "        <tr>\n",
              "            <td>PlayStation 3 Console</td>\n",
              "            <td>[Less Than 50 Left]</td>\n",
              "            <td>24</td>\n",
              "        </tr>\n",
              "        <tr>\n",
              "            <td>PlayStation Store Credit</td>\n",
              "            <td>[Under 100 Left]</td>\n",
              "            <td>69</td>\n",
              "        </tr>\n",
              "        <tr>\n",
              "            <td>Universal TV Remote</td>\n",
              "            <td>[Under 100 Left]</td>\n",
              "            <td>81</td>\n",
              "        </tr>\n",
              "        <tr>\n",
              "            <td>Virtual Reality Headset</td>\n",
              "            <td>[Low Stock]</td>\n",
              "            <td>6</td>\n",
              "        </tr>\n",
              "    </tbody>\n",
              "</table>"
            ]
          },
          "metadata": {},
          "execution_count": 58
        }
      ]
    },
    {
      "cell_type": "code",
      "source": [
        "%%sql\n",
        "\n",
        "UPDATE item\n",
        "SET [Stock] = 27\n",
        "WHERE ID = 7;"
      ],
      "metadata": {
        "colab": {
          "base_uri": "https://localhost:8080/"
        },
        "id": "vXsTSpXOJQOB",
        "outputId": "28f12580-0b1d-4199-a0b5-36fef5e3ece4"
      },
      "execution_count": 59,
      "outputs": [
        {
          "output_type": "stream",
          "name": "stdout",
          "text": [
            " * sqlite:///projectdb.db\n",
            "1 rows affected.\n"
          ]
        },
        {
          "output_type": "execute_result",
          "data": {
            "text/plain": [
              "[]"
            ]
          },
          "metadata": {},
          "execution_count": 59
        }
      ]
    },
    {
      "cell_type": "code",
      "source": [
        "%%sql\n",
        "\n",
        "SELECT * FROM vwInventorySummary;"
      ],
      "metadata": {
        "colab": {
          "base_uri": "https://localhost:8080/",
          "height": 473
        },
        "id": "9WDFrlrIJv7q",
        "outputId": "d4f8bf45-dd02-44cc-8496-11d2d6d0db80"
      },
      "execution_count": 60,
      "outputs": [
        {
          "output_type": "stream",
          "name": "stdout",
          "text": [
            " * sqlite:///projectdb.db\n",
            "Done.\n"
          ]
        },
        {
          "output_type": "execute_result",
          "data": {
            "text/plain": [
              "[('Headset', '[Less Than 50 Left]', 20),\n",
              " ('Controller', '[Less Than 50 Left]', 43),\n",
              " ('PlayStation 4 Console', '[200-100 Left]', 112),\n",
              " ('Game Disk', '[Low Stock]', 4),\n",
              " ('Currency Card', '[Under 100 Left]', 93),\n",
              " ('Charging Cable', 'Over 200 Left', 254),\n",
              " ('Driving Wheel', '[Less Than 50 Left]', 27),\n",
              " ('Controller Charging Station', '[Less Than 50 Left]', 31),\n",
              " ('EShop Gift Card', '[Under 100 Left]', 55),\n",
              " ('Pro Controller', '[Under 100 Left]', 77),\n",
              " ('Keyboard', '[Low Stock]', 1),\n",
              " ('Mouse', '[Less Than 50 Left]', 13),\n",
              " ('Apple Keyboard', '[Less Than 50 Left]', 43),\n",
              " ('External Port Adapter', '[Under 100 Left]', 92),\n",
              " ('Xbox 360 Controller', '[Less Than 50 Left]', 14),\n",
              " ('PlayStation 3 Console', '[Less Than 50 Left]', 24),\n",
              " ('PlayStation Store Credit', '[Under 100 Left]', 69),\n",
              " ('Universal TV Remote', '[Under 100 Left]', 81),\n",
              " ('Virtual Reality Headset', '[Low Stock]', 6)]"
            ],
            "text/html": [
              "<table>\n",
              "    <thead>\n",
              "        <tr>\n",
              "            <th>Item</th>\n",
              "            <th>InventoryCategories</th>\n",
              "            <th>Stock</th>\n",
              "        </tr>\n",
              "    </thead>\n",
              "    <tbody>\n",
              "        <tr>\n",
              "            <td>Headset</td>\n",
              "            <td>[Less Than 50 Left]</td>\n",
              "            <td>20</td>\n",
              "        </tr>\n",
              "        <tr>\n",
              "            <td>Controller</td>\n",
              "            <td>[Less Than 50 Left]</td>\n",
              "            <td>43</td>\n",
              "        </tr>\n",
              "        <tr>\n",
              "            <td>PlayStation 4 Console</td>\n",
              "            <td>[200-100 Left]</td>\n",
              "            <td>112</td>\n",
              "        </tr>\n",
              "        <tr>\n",
              "            <td>Game Disk</td>\n",
              "            <td>[Low Stock]</td>\n",
              "            <td>4</td>\n",
              "        </tr>\n",
              "        <tr>\n",
              "            <td>Currency Card</td>\n",
              "            <td>[Under 100 Left]</td>\n",
              "            <td>93</td>\n",
              "        </tr>\n",
              "        <tr>\n",
              "            <td>Charging Cable</td>\n",
              "            <td>Over 200 Left</td>\n",
              "            <td>254</td>\n",
              "        </tr>\n",
              "        <tr>\n",
              "            <td>Driving Wheel</td>\n",
              "            <td>[Less Than 50 Left]</td>\n",
              "            <td>27</td>\n",
              "        </tr>\n",
              "        <tr>\n",
              "            <td>Controller Charging Station</td>\n",
              "            <td>[Less Than 50 Left]</td>\n",
              "            <td>31</td>\n",
              "        </tr>\n",
              "        <tr>\n",
              "            <td>EShop Gift Card</td>\n",
              "            <td>[Under 100 Left]</td>\n",
              "            <td>55</td>\n",
              "        </tr>\n",
              "        <tr>\n",
              "            <td>Pro Controller</td>\n",
              "            <td>[Under 100 Left]</td>\n",
              "            <td>77</td>\n",
              "        </tr>\n",
              "        <tr>\n",
              "            <td>Keyboard</td>\n",
              "            <td>[Low Stock]</td>\n",
              "            <td>1</td>\n",
              "        </tr>\n",
              "        <tr>\n",
              "            <td>Mouse</td>\n",
              "            <td>[Less Than 50 Left]</td>\n",
              "            <td>13</td>\n",
              "        </tr>\n",
              "        <tr>\n",
              "            <td>Apple Keyboard</td>\n",
              "            <td>[Less Than 50 Left]</td>\n",
              "            <td>43</td>\n",
              "        </tr>\n",
              "        <tr>\n",
              "            <td>External Port Adapter</td>\n",
              "            <td>[Under 100 Left]</td>\n",
              "            <td>92</td>\n",
              "        </tr>\n",
              "        <tr>\n",
              "            <td>Xbox 360 Controller</td>\n",
              "            <td>[Less Than 50 Left]</td>\n",
              "            <td>14</td>\n",
              "        </tr>\n",
              "        <tr>\n",
              "            <td>PlayStation 3 Console</td>\n",
              "            <td>[Less Than 50 Left]</td>\n",
              "            <td>24</td>\n",
              "        </tr>\n",
              "        <tr>\n",
              "            <td>PlayStation Store Credit</td>\n",
              "            <td>[Under 100 Left]</td>\n",
              "            <td>69</td>\n",
              "        </tr>\n",
              "        <tr>\n",
              "            <td>Universal TV Remote</td>\n",
              "            <td>[Under 100 Left]</td>\n",
              "            <td>81</td>\n",
              "        </tr>\n",
              "        <tr>\n",
              "            <td>Virtual Reality Headset</td>\n",
              "            <td>[Low Stock]</td>\n",
              "            <td>6</td>\n",
              "        </tr>\n",
              "    </tbody>\n",
              "</table>"
            ]
          },
          "metadata": {},
          "execution_count": 60
        }
      ]
    },
    {
      "cell_type": "code",
      "source": [
        "%%sql\n",
        "\n",
        "SELECT COUNT(1) As Matches\n",
        "FROM item\n",
        "WHERE Item NOT LIKE '%PlayStation%' AND Stock >=30\n",
        "AND Item NOT IN (\n",
        "    SELECT Item\n",
        "    FROM item\n",
        "    WHERE Item LIKE '%PlayStation%' AND Stock <=100\n",
        ")"
      ],
      "metadata": {
        "colab": {
          "base_uri": "https://localhost:8080/",
          "height": 95
        },
        "id": "a-jDBwHJUBTq",
        "outputId": "e3fbac09-4553-4bcc-efcd-3e7dcdfd15d8"
      },
      "execution_count": 61,
      "outputs": [
        {
          "output_type": "stream",
          "name": "stdout",
          "text": [
            " * sqlite:///projectdb.db\n",
            "Done.\n"
          ]
        },
        {
          "output_type": "execute_result",
          "data": {
            "text/plain": [
              "[(9,)]"
            ],
            "text/html": [
              "<table>\n",
              "    <thead>\n",
              "        <tr>\n",
              "            <th>Matches</th>\n",
              "        </tr>\n",
              "    </thead>\n",
              "    <tbody>\n",
              "        <tr>\n",
              "            <td>9</td>\n",
              "        </tr>\n",
              "    </tbody>\n",
              "</table>"
            ]
          },
          "metadata": {},
          "execution_count": 61
        }
      ]
    },
    {
      "cell_type": "code",
      "source": [
        "%%sql\n",
        "\n",
        "SELECT COUNT(1) AS No_Of_Visitors\n",
        "FROM vwVisitorOrderSummary"
      ],
      "metadata": {
        "colab": {
          "base_uri": "https://localhost:8080/",
          "height": 95
        },
        "id": "BCuB93WMWTCH",
        "outputId": "04a8d367-563d-4ebc-96e6-db0b4b5910d6"
      },
      "execution_count": 62,
      "outputs": [
        {
          "output_type": "stream",
          "name": "stdout",
          "text": [
            " * sqlite:///projectdb.db\n",
            "Done.\n"
          ]
        },
        {
          "output_type": "execute_result",
          "data": {
            "text/plain": [
              "[(12,)]"
            ],
            "text/html": [
              "<table>\n",
              "    <thead>\n",
              "        <tr>\n",
              "            <th>No_Of_Visitors</th>\n",
              "        </tr>\n",
              "    </thead>\n",
              "    <tbody>\n",
              "        <tr>\n",
              "            <td>12</td>\n",
              "        </tr>\n",
              "    </tbody>\n",
              "</table>"
            ]
          },
          "metadata": {},
          "execution_count": 62
        }
      ]
    },
    {
      "cell_type": "code",
      "source": [
        "%%sql\n",
        "\n",
        "SELECT *\n",
        "FROM vwVisitorOrderSummary\n",
        "WHERE Inventory BETWEEN 30.00 AND 100.00;"
      ],
      "metadata": {
        "colab": {
          "base_uri": "https://localhost:8080/",
          "height": 179
        },
        "id": "kjLGc6sQWt2I",
        "outputId": "0f6c9cbe-717f-48e8-8a32-7729635a5b93"
      },
      "execution_count": 63,
      "outputs": [
        {
          "output_type": "stream",
          "name": "stdout",
          "text": [
            " * sqlite:///projectdb.db\n",
            "Done.\n"
          ]
        },
        {
          "output_type": "execute_result",
          "data": {
            "text/plain": [
              "[(2, 'Member', 2, 2, 'Controller:  $74.0 - PlayStation 5', 43),\n",
              " (5, 'Visitor', 5, 5, 'Currency Card:  $29.95 - Xbox Series X & S', 93),\n",
              " (8, 'Member', 8, 8, 'Controller Charging Station:  $22.99 - Xbox One', 31),\n",
              " (9, 'Member', 9, 9, 'EShop Gift Card:  $5.0 - Nintendo Switch', 55),\n",
              " (10, 'Visitor', 10, 10, 'Pro Controller:  $69.99 - Nintendo Switch', 77)]"
            ],
            "text/html": [
              "<table>\n",
              "    <thead>\n",
              "        <tr>\n",
              "            <th>VisitorID</th>\n",
              "            <th>VisitorStatus</th>\n",
              "            <th>ShoppingCartID</th>\n",
              "            <th>ItemID</th>\n",
              "            <th>ItemSummary</th>\n",
              "            <th>Inventory</th>\n",
              "        </tr>\n",
              "    </thead>\n",
              "    <tbody>\n",
              "        <tr>\n",
              "            <td>2</td>\n",
              "            <td>Member</td>\n",
              "            <td>2</td>\n",
              "            <td>2</td>\n",
              "            <td>Controller:  $74.0 - PlayStation 5</td>\n",
              "            <td>43</td>\n",
              "        </tr>\n",
              "        <tr>\n",
              "            <td>5</td>\n",
              "            <td>Visitor</td>\n",
              "            <td>5</td>\n",
              "            <td>5</td>\n",
              "            <td>Currency Card:  $29.95 - Xbox Series X &amp; S</td>\n",
              "            <td>93</td>\n",
              "        </tr>\n",
              "        <tr>\n",
              "            <td>8</td>\n",
              "            <td>Member</td>\n",
              "            <td>8</td>\n",
              "            <td>8</td>\n",
              "            <td>Controller Charging Station:  $22.99 - Xbox One</td>\n",
              "            <td>31</td>\n",
              "        </tr>\n",
              "        <tr>\n",
              "            <td>9</td>\n",
              "            <td>Member</td>\n",
              "            <td>9</td>\n",
              "            <td>9</td>\n",
              "            <td>EShop Gift Card:  $5.0 - Nintendo Switch</td>\n",
              "            <td>55</td>\n",
              "        </tr>\n",
              "        <tr>\n",
              "            <td>10</td>\n",
              "            <td>Visitor</td>\n",
              "            <td>10</td>\n",
              "            <td>10</td>\n",
              "            <td>Pro Controller:  $69.99 - Nintendo Switch</td>\n",
              "            <td>77</td>\n",
              "        </tr>\n",
              "    </tbody>\n",
              "</table>"
            ]
          },
          "metadata": {},
          "execution_count": 63
        }
      ]
    },
    {
      "cell_type": "code",
      "source": [
        "%%sql\n",
        "\n",
        "SELECT * FROM vwVisitorOrderSummary\n",
        "WHERE VisitorStatus IN ('Member');"
      ],
      "metadata": {
        "colab": {
          "base_uri": "https://localhost:8080/",
          "height": 200
        },
        "id": "LCi-5_F9XKsL",
        "outputId": "37562fbb-c357-4b80-fb9a-a5b44747b3d2"
      },
      "execution_count": 64,
      "outputs": [
        {
          "output_type": "stream",
          "name": "stdout",
          "text": [
            " * sqlite:///projectdb.db\n",
            "Done.\n"
          ]
        },
        {
          "output_type": "execute_result",
          "data": {
            "text/plain": [
              "[(1, 'Member', 1, 1, 'Headset:  $149.95 - PlayStation 5', 20),\n",
              " (2, 'Member', 2, 2, 'Controller:  $74.0 - PlayStation 5', 43),\n",
              " (4, 'Member', 4, 4, 'Game Disk:  $39.95 - PlayStation 4', 4),\n",
              " (8, 'Member', 8, 8, 'Controller Charging Station:  $22.99 - Xbox One', 31),\n",
              " (9, 'Member', 9, 9, 'EShop Gift Card:  $5.0 - Nintendo Switch', 55),\n",
              " (11, 'Member', 11, 11, 'Keyboard:  $138.99 - PC', 1)]"
            ],
            "text/html": [
              "<table>\n",
              "    <thead>\n",
              "        <tr>\n",
              "            <th>VisitorID</th>\n",
              "            <th>VisitorStatus</th>\n",
              "            <th>ShoppingCartID</th>\n",
              "            <th>ItemID</th>\n",
              "            <th>ItemSummary</th>\n",
              "            <th>Inventory</th>\n",
              "        </tr>\n",
              "    </thead>\n",
              "    <tbody>\n",
              "        <tr>\n",
              "            <td>1</td>\n",
              "            <td>Member</td>\n",
              "            <td>1</td>\n",
              "            <td>1</td>\n",
              "            <td>Headset:  $149.95 - PlayStation 5</td>\n",
              "            <td>20</td>\n",
              "        </tr>\n",
              "        <tr>\n",
              "            <td>2</td>\n",
              "            <td>Member</td>\n",
              "            <td>2</td>\n",
              "            <td>2</td>\n",
              "            <td>Controller:  $74.0 - PlayStation 5</td>\n",
              "            <td>43</td>\n",
              "        </tr>\n",
              "        <tr>\n",
              "            <td>4</td>\n",
              "            <td>Member</td>\n",
              "            <td>4</td>\n",
              "            <td>4</td>\n",
              "            <td>Game Disk:  $39.95 - PlayStation 4</td>\n",
              "            <td>4</td>\n",
              "        </tr>\n",
              "        <tr>\n",
              "            <td>8</td>\n",
              "            <td>Member</td>\n",
              "            <td>8</td>\n",
              "            <td>8</td>\n",
              "            <td>Controller Charging Station:  $22.99 - Xbox One</td>\n",
              "            <td>31</td>\n",
              "        </tr>\n",
              "        <tr>\n",
              "            <td>9</td>\n",
              "            <td>Member</td>\n",
              "            <td>9</td>\n",
              "            <td>9</td>\n",
              "            <td>EShop Gift Card:  $5.0 - Nintendo Switch</td>\n",
              "            <td>55</td>\n",
              "        </tr>\n",
              "        <tr>\n",
              "            <td>11</td>\n",
              "            <td>Member</td>\n",
              "            <td>11</td>\n",
              "            <td>11</td>\n",
              "            <td>Keyboard:  $138.99 - PC</td>\n",
              "            <td>1</td>\n",
              "        </tr>\n",
              "    </tbody>\n",
              "</table>"
            ]
          },
          "metadata": {},
          "execution_count": 64
        }
      ]
    },
    {
      "cell_type": "code",
      "source": [
        "%%sql\n",
        "\n",
        "DROP VIEW IF EXISTS vwAccountSummary;\n",
        "CREATE VIEW IF NOT EXISTS vwAccountSummary\n",
        "AS\n",
        "SELECT a.ID AS AccountID\n",
        "  ,a.accountName AS UserName\n",
        "  ,a.accountEmail AS Email\n",
        "  ,p.ID AS PaymentID\n",
        "  ,p.cardName AS CardHolder\n",
        "  ,p.cardNumber AS cardNumber\n",
        "  ,p.cardCSV AS CSVNumber\n",
        "  ,prev.item1ID as PreviouslyOrderedItem\n",
        "  FROM account a\n",
        "  INNER JOIN payment p ON a.accountPaymentID = p.ID\n",
        "  LEFT JOIN PreviousOrder prev ON a.PreviousOrderID = prev.ID"
      ],
      "metadata": {
        "id": "EpBS1sHHZ6u8",
        "colab": {
          "base_uri": "https://localhost:8080/"
        },
        "outputId": "8f7e6562-fce9-43fd-b22b-9669d6d52fc2"
      },
      "execution_count": 65,
      "outputs": [
        {
          "output_type": "stream",
          "name": "stdout",
          "text": [
            " * sqlite:///projectdb.db\n",
            "Done.\n",
            "Done.\n"
          ]
        },
        {
          "output_type": "execute_result",
          "data": {
            "text/plain": [
              "[]"
            ]
          },
          "metadata": {},
          "execution_count": 65
        }
      ]
    },
    {
      "cell_type": "code",
      "source": [
        "%%sql\n",
        "\n",
        "SELECT * FROM vwAccountSummary;"
      ],
      "metadata": {
        "colab": {
          "base_uri": "https://localhost:8080/",
          "height": 326
        },
        "id": "08LqZsSJTS10",
        "outputId": "50f29d71-88a3-4c7a-b9c3-e414120aae5b"
      },
      "execution_count": 66,
      "outputs": [
        {
          "output_type": "stream",
          "name": "stdout",
          "text": [
            " * sqlite:///projectdb.db\n",
            "Done.\n"
          ]
        },
        {
          "output_type": "execute_result",
          "data": {
            "text/plain": [
              "[(1, 'a', 'a@gmail.com', 1, 'Bill', '111111111111', '111', 1),\n",
              " (2, 'b', 'b@gmail.com', 2, 'Will', '222222222222', '222', 2),\n",
              " (3, 'c', 'c@gmail.com', 3, 'Jill', '333333333333', '333', 3),\n",
              " (4, 'd', 'd@gmail.com', 4, 'William', '444444444444', '444', 4),\n",
              " (5, 'e', 'e@gmail.com', 5, 'Dale', '555555555555', '555', 5),\n",
              " (6, 'f', 'f@gmail.com', 6, 'Bale', '666666666666', '666', 6),\n",
              " (7, 'g', 'g@gmail.com', 7, 'Jim', '777777777777', '777', 7),\n",
              " (8, 'h', 'h@gmail.com', 8, 'Dave', '888888888888', '888', 8),\n",
              " (9, 'i', 'i@gmail.com', 9, 'Katy', '999999999999', '999', 9),\n",
              " (10, 'j', 'j@gmail.com', 10, 'Zoey', '101010101010', '101', 10),\n",
              " (11, 'k', 'k@gmail.com', 11, 'Cole', '110110110110', '112', 11),\n",
              " (12, 'l', 'l@gmail.com', 12, 'Chloe', '121212121212', '121', 12)]"
            ],
            "text/html": [
              "<table>\n",
              "    <thead>\n",
              "        <tr>\n",
              "            <th>AccountID</th>\n",
              "            <th>UserName</th>\n",
              "            <th>Email</th>\n",
              "            <th>PaymentID</th>\n",
              "            <th>CardHolder</th>\n",
              "            <th>cardNumber</th>\n",
              "            <th>CSVNumber</th>\n",
              "            <th>PreviouslyOrderedItem</th>\n",
              "        </tr>\n",
              "    </thead>\n",
              "    <tbody>\n",
              "        <tr>\n",
              "            <td>1</td>\n",
              "            <td>a</td>\n",
              "            <td>a@gmail.com</td>\n",
              "            <td>1</td>\n",
              "            <td>Bill</td>\n",
              "            <td>111111111111</td>\n",
              "            <td>111</td>\n",
              "            <td>1</td>\n",
              "        </tr>\n",
              "        <tr>\n",
              "            <td>2</td>\n",
              "            <td>b</td>\n",
              "            <td>b@gmail.com</td>\n",
              "            <td>2</td>\n",
              "            <td>Will</td>\n",
              "            <td>222222222222</td>\n",
              "            <td>222</td>\n",
              "            <td>2</td>\n",
              "        </tr>\n",
              "        <tr>\n",
              "            <td>3</td>\n",
              "            <td>c</td>\n",
              "            <td>c@gmail.com</td>\n",
              "            <td>3</td>\n",
              "            <td>Jill</td>\n",
              "            <td>333333333333</td>\n",
              "            <td>333</td>\n",
              "            <td>3</td>\n",
              "        </tr>\n",
              "        <tr>\n",
              "            <td>4</td>\n",
              "            <td>d</td>\n",
              "            <td>d@gmail.com</td>\n",
              "            <td>4</td>\n",
              "            <td>William</td>\n",
              "            <td>444444444444</td>\n",
              "            <td>444</td>\n",
              "            <td>4</td>\n",
              "        </tr>\n",
              "        <tr>\n",
              "            <td>5</td>\n",
              "            <td>e</td>\n",
              "            <td>e@gmail.com</td>\n",
              "            <td>5</td>\n",
              "            <td>Dale</td>\n",
              "            <td>555555555555</td>\n",
              "            <td>555</td>\n",
              "            <td>5</td>\n",
              "        </tr>\n",
              "        <tr>\n",
              "            <td>6</td>\n",
              "            <td>f</td>\n",
              "            <td>f@gmail.com</td>\n",
              "            <td>6</td>\n",
              "            <td>Bale</td>\n",
              "            <td>666666666666</td>\n",
              "            <td>666</td>\n",
              "            <td>6</td>\n",
              "        </tr>\n",
              "        <tr>\n",
              "            <td>7</td>\n",
              "            <td>g</td>\n",
              "            <td>g@gmail.com</td>\n",
              "            <td>7</td>\n",
              "            <td>Jim</td>\n",
              "            <td>777777777777</td>\n",
              "            <td>777</td>\n",
              "            <td>7</td>\n",
              "        </tr>\n",
              "        <tr>\n",
              "            <td>8</td>\n",
              "            <td>h</td>\n",
              "            <td>h@gmail.com</td>\n",
              "            <td>8</td>\n",
              "            <td>Dave</td>\n",
              "            <td>888888888888</td>\n",
              "            <td>888</td>\n",
              "            <td>8</td>\n",
              "        </tr>\n",
              "        <tr>\n",
              "            <td>9</td>\n",
              "            <td>i</td>\n",
              "            <td>i@gmail.com</td>\n",
              "            <td>9</td>\n",
              "            <td>Katy</td>\n",
              "            <td>999999999999</td>\n",
              "            <td>999</td>\n",
              "            <td>9</td>\n",
              "        </tr>\n",
              "        <tr>\n",
              "            <td>10</td>\n",
              "            <td>j</td>\n",
              "            <td>j@gmail.com</td>\n",
              "            <td>10</td>\n",
              "            <td>Zoey</td>\n",
              "            <td>101010101010</td>\n",
              "            <td>101</td>\n",
              "            <td>10</td>\n",
              "        </tr>\n",
              "        <tr>\n",
              "            <td>11</td>\n",
              "            <td>k</td>\n",
              "            <td>k@gmail.com</td>\n",
              "            <td>11</td>\n",
              "            <td>Cole</td>\n",
              "            <td>110110110110</td>\n",
              "            <td>112</td>\n",
              "            <td>11</td>\n",
              "        </tr>\n",
              "        <tr>\n",
              "            <td>12</td>\n",
              "            <td>l</td>\n",
              "            <td>l@gmail.com</td>\n",
              "            <td>12</td>\n",
              "            <td>Chloe</td>\n",
              "            <td>121212121212</td>\n",
              "            <td>121</td>\n",
              "            <td>12</td>\n",
              "        </tr>\n",
              "    </tbody>\n",
              "</table>"
            ]
          },
          "metadata": {},
          "execution_count": 66
        }
      ]
    }
  ]
}